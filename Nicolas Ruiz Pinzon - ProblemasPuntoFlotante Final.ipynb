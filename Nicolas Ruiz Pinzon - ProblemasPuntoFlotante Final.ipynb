{
 "cells": [
  {
   "cell_type": "markdown",
   "id": "c573cf17",
   "metadata": {
    "id": "IO6TXkoyL1OO"
   },
   "source": [
    "     Taller desarrollado por Nicolás Ruiz Pinzón\n",
    "     Análisis Numérico I\n",
    "     Profesor: Juan Galvis"
   ]
  },
  {
   "cell_type": "markdown",
   "id": "053eae28",
   "metadata": {
    "id": "nWxxD_YZ1Ni-"
   },
   "source": [
    "# Problemas"
   ]
  },
  {
   "cell_type": "markdown",
   "id": "8860149f",
   "metadata": {},
   "source": [
    "**PROBLEMA 1** ¿Cuánta memoria requiere guardar 100.000 números de punto flotante de precisión doble?¿Cuánta memoria requiere guardar una matriz de números de punto flotante dimensión 100.000 x 100.000?"
   ]
  },
  {
   "cell_type": "markdown",
   "id": "b31b608a",
   "metadata": {},
   "source": [
    "Debido a que cada número de punto flotante de precisión doble requiere 64 bits o 8 bytes de memoria, vemos que se necesitan"
   ]
  },
  {
   "cell_type": "code",
   "execution_count": 1,
   "id": "395cff64",
   "metadata": {},
   "outputs": [
    {
     "name": "stdout",
     "output_type": "stream",
     "text": [
      "6400000 bits o 800000 bytes de memoria para guardar 100.000 números en precisión doble.\n"
     ]
    }
   ],
   "source": [
    "a=100000*64\n",
    "b=100000*8\n",
    "println(\"$a bits o $b bytes de memoria para guardar 100.000 números en precisión doble.\")"
   ]
  },
  {
   "cell_type": "markdown",
   "id": "6cc120e3",
   "metadata": {},
   "source": [
    "Aplicando el mismo razonamiento, se ve que se necestian"
   ]
  },
  {
   "cell_type": "code",
   "execution_count": 3,
   "id": "fbc730da",
   "metadata": {},
   "outputs": [
    {
     "name": "stdout",
     "output_type": "stream",
     "text": [
      "640000000000 bits o 80000000000 bytes de memoria para guardar una matriz de números dee punto flotante de dimensión   100.000x100.000\n"
     ]
    }
   ],
   "source": [
    "c=(100000^2)*64\n",
    "d=(100000^2)*8\n",
    "println(\"$c bits o $d bytes de memoria para guardar una matriz de números dee punto flotante de dimensión   100.000x100.000\")"
   ]
  },
  {
   "cell_type": "markdown",
   "id": "5582752f",
   "metadata": {},
   "source": [
    "**PROBLEMA 2(Sullivan)** Con $x_0=1/10$, considere la sucesión,  \n",
    "$$\n",
    "x_{n+1}=\\left\\{\\begin{array}{ll}\n",
    "2x_n & \\mbox{ si } x_n\\in \\left[0,\\frac{1}{2}\\right] \\\\\n",
    "2x_n-1 &  \\mbox{ si } x_n\\in \\left(\\frac{1}{2},1\\right].\n",
    "\\end{array}\\right.\n",
    "$$\n",
    "para $n=1,2,\\dots$. Calcule $x_1,x_2,x_3,\\dots,x_{50}$ de forma análitica y despues usando un código en Julia. Compare y explique.\n",
    "\n",
    "Repetir pero ahora iniciando con $x_0=1/8$. Compare y explique. \n"
   ]
  },
  {
   "cell_type": "markdown",
   "id": "afa04e45",
   "metadata": {},
   "source": [
    "De forma analítica se puede verificar que los primeros 6 números de la sucesión, después del valor inicial, son los siguientes:\n",
    "$$x_1=2*(1/10)=1/5$$ $$x_2=2*(1/5)=2/5$$ $$x_3=2*(2/5)=4/5$$ $$x_4=2*(4/5)-1=3/5$$ $$x_5=2*(3/5)-1=1/5$$\n",
    "\n",
    "De manera que desde $x_5$ necesariamente se deben repetir los mismos números de la sucesión, inciando por x_1. Así, es cierto que \n",
    "$$x_a = 1/5 \\mbox{,   siempre que $a \\equiv 1(\\mbox{mod }4)$}$$\n",
    "$$x_b = 2/5 \\mbox{,   siempre que $b \\equiv 2(\\mbox{mod }4)$}$$\n",
    "$$x_c = 4/5 \\mbox{,   siempre que $c \\equiv 3(\\mbox{mod }4)$}$$\n",
    "$$x_d = 3/5 \\mbox{,   siempre que $d \\equiv 4(\\mbox{mod }4)$}$$\n",
    "\n",
    "Ahora lo calculamos numéricamente:"
   ]
  },
  {
   "cell_type": "code",
   "execution_count": 2,
   "id": "0f8d419c",
   "metadata": {},
   "outputs": [
    {
     "name": "stdout",
     "output_type": "stream",
     "text": [
      "0.2\n",
      "0.4\n",
      "0.8\n",
      "0.6000000000000001\n",
      "0.20000000000000018\n",
      "0.40000000000000036\n",
      "0.8000000000000007\n",
      "0.6000000000000014\n",
      "0.20000000000000284\n",
      "0.4000000000000057\n",
      "0.8000000000000114\n",
      "0.6000000000000227\n",
      "0.20000000000004547\n",
      "0.40000000000009095\n",
      "0.8000000000001819\n",
      "0.6000000000003638\n",
      "0.2000000000007276\n",
      "0.4000000000014552\n",
      "0.8000000000029104\n",
      "0.6000000000058208\n",
      "0.20000000001164153\n",
      "0.40000000002328306\n",
      "0.8000000000465661\n",
      "0.6000000000931323\n",
      "0.20000000018626451\n",
      "0.40000000037252903\n",
      "0.8000000007450581\n",
      "0.6000000014901161\n",
      "0.20000000298023224\n",
      "0.4000000059604645\n",
      "0.800000011920929\n",
      "0.6000000238418579\n",
      "0.20000004768371582\n",
      "0.40000009536743164\n",
      "0.8000001907348633\n",
      "0.6000003814697266\n",
      "0.20000076293945312\n",
      "0.40000152587890625\n",
      "0.8000030517578125\n",
      "0.600006103515625\n",
      "0.20001220703125\n",
      "0.4000244140625\n",
      "0.800048828125\n",
      "0.60009765625\n",
      "0.2001953125\n",
      "0.400390625\n",
      "0.80078125\n",
      "0.6015625\n",
      "0.203125\n",
      "0.40625\n"
     ]
    }
   ],
   "source": [
    "x=1/10\n",
    "i=1\n",
    "xn=0\n",
    "while i<=50\n",
    "if (x>=0)&&(x<=1/2)\n",
    "    xn=2*x\n",
    "    elseif (x>1/2)&&(x<=1)\n",
    "        xn=2*x - 1\n",
    "    end\n",
    "println(xn)\n",
    "i+=1\n",
    "x=xn\n",
    "end"
   ]
  },
  {
   "cell_type": "markdown",
   "id": "ce653890",
   "metadata": {},
   "source": [
    "Calculando numéricamente, se puede observar que en el valor de $x_4$ hay una ligera perturbación en el valor de la variable. La razón de lo anterior es que siendo el valor anterior a este $x_3=0.8$, en base binaria, se tiene que \n",
    "$$x_3=0.8=(0.110011001100...)_2$$\n",
    "Teniendo en cuenta que el número máximo de bits para un número en precisión doble es de 52, el último dígito de la mantisa (sin redondeo) sería igual a 1, y el siguiente dígito que no queda en la mantisa, también sería igual a 1. Por lo tanto, para trucar el número, la máquina hace un redondeo y suma $2x10^{-52}$ al número original, lo que nos da el resultado con la ligera perturbación para $x_3$.\n",
    "De ahí en adelante, por ese trucamiento, todos los números son distintos a aquellos que calculamos analíticamente, y debido a la gran cantidad de restas que se tienen que hacer hasta llegar a $x_50$, el resultado final ya llega con una variación mucho más grande."
   ]
  },
  {
   "cell_type": "markdown",
   "id": "6320fbe4",
   "metadata": {},
   "source": [
    "Ahora repetimos para $x_0 = 1/8$\n",
    "Calculamos analíticamente y obtenemos que:\n",
    "$x_1=1/4$, $x_2=1/2$, $x_3=1=x_4=x_5=...=x_{50}$.\n",
    "\n",
    "Y ahora numéricamente:"
   ]
  },
  {
   "cell_type": "code",
   "execution_count": 3,
   "id": "dcde1788",
   "metadata": {},
   "outputs": [
    {
     "name": "stdout",
     "output_type": "stream",
     "text": [
      "0.25\n",
      "0.5\n",
      "1.0\n",
      "1.0\n",
      "1.0\n",
      "1.0\n",
      "1.0\n",
      "1.0\n",
      "1.0\n",
      "1.0\n",
      "1.0\n",
      "1.0\n",
      "1.0\n",
      "1.0\n",
      "1.0\n",
      "1.0\n",
      "1.0\n",
      "1.0\n",
      "1.0\n",
      "1.0\n",
      "1.0\n",
      "1.0\n",
      "1.0\n",
      "1.0\n",
      "1.0\n",
      "1.0\n",
      "1.0\n",
      "1.0\n",
      "1.0\n",
      "1.0\n",
      "1.0\n",
      "1.0\n",
      "1.0\n",
      "1.0\n",
      "1.0\n",
      "1.0\n",
      "1.0\n",
      "1.0\n",
      "1.0\n",
      "1.0\n",
      "1.0\n",
      "1.0\n",
      "1.0\n",
      "1.0\n",
      "1.0\n",
      "1.0\n",
      "1.0\n",
      "1.0\n",
      "1.0\n",
      "1.0\n"
     ]
    }
   ],
   "source": [
    "x=1/8\n",
    "i=1\n",
    "xn=0\n",
    "while i<=50\n",
    "if (x>=0)&&(x<=1/2)\n",
    "    xn=2*x\n",
    "    elseif (x>1/2)&&(x<=1)\n",
    "        xn=2*x - 1\n",
    "    end\n",
    "println(xn)\n",
    "i+=1\n",
    "x=xn\n",
    "end"
   ]
  },
  {
   "cell_type": "markdown",
   "id": "c6f98962",
   "metadata": {},
   "source": [
    "En este caso el resultado es exacto, debido a que no hay ninguna representación infinta en base 2, y no es necesario hacer ningún truncamiento. Además, las representaciones sob bastante cortas (no más de 3 decimales) con lo que no se pierde ninguna información.\n",
    "\n",
    "En efecto\n",
    "$$x_1=0.25=(0.01)_2$$ $$x_2=0.5=(0.1)_2$$ $$x_3=1.0=(1.0)_2$$"
   ]
  },
  {
   "cell_type": "markdown",
   "id": "dd9af06c",
   "metadata": {},
   "source": [
    "**PROBLEMA 3 (Goodfellow et. al.)** Escriba rutina que implemente la función \n",
    "$\n",
    "SF_{i}(x)=\\frac{\\exp\\left(x_{i}\\right)}{\\sum_{j=1}^{n}\\exp\\left(x_{j}\\right)}.$\n",
    "La rutina debe estar estabilizada para evitar desbordamiento por exceso. "
   ]
  },
  {
   "cell_type": "markdown",
   "id": "094af787",
   "metadata": {},
   "source": [
    "Se puede observar que, analíticamente, la función sigue siendo la misma si se suma o resta una constante a a las variables de los exponentes:\n",
    "\n",
    "$$\\frac{exp(x_i-c)}{\\sum_{j=1}^{n}exp(x_j-c)} = \\frac{exp(x_i)/exp(c)}{\\sum_{j=1}^{n}exp(x_j)/exp(c)} = \\frac{exp(x_i)}{\\sum_{j=1}^{n}exp(x_j)}$$\n",
    "\n",
    "Por lo tanto, si tenemos un vector $\\textbf{x}$, y su valor máximo igual a $max(\\textbf{x})$, entonces podemos evualuar la función sobre $\\textbf{t} = \\textbf{x} - max(\\textbf{x})$ que es equivalente a evualuarla sobre $\\textbf{x}$, donde $max(\\textbf{x})$ será el vector con el valor máximo de $\\textbf{x}$.\n",
    "\n",
    "La ventaja de hacer esto es que el vector resultante $\\textbf{t}$ tendrá como su valor más grande a 0, lo que quiere decir que no habrá desbordamiento por exceso, ya que así el valor máximo de un exponente será 1. Igualmente, habrá un valor igual a 1 en el denominados, con lo que no habrá desbordamiento por defecto tampoco en el denominador.\n",
    "\n",
    "Se puede implementar una rutina como sigue, comenzando con valores aleatorios:"
   ]
  },
  {
   "cell_type": "code",
   "execution_count": 116,
   "id": "75d57256",
   "metadata": {},
   "outputs": [
    {
     "data": {
      "text/plain": [
       "5.226798787516346"
      ]
     },
     "execution_count": 116,
     "metadata": {},
     "output_type": "execute_result"
    }
   ],
   "source": [
    "A=rand(3)\n",
    "x=maximum(A)\n",
    "z=rand(1)\n",
    "(exp(z[1])/exp(A[1]-x)+exp(A[2]-x)+exp(A[3]-x))"
   ]
  },
  {
   "cell_type": "markdown",
   "id": "faf310aa",
   "metadata": {
    "id": "GHEQSZR51SrE"
   },
   "source": [
    "\n",
    "**PROBLEMA 4(Stoer)** Ensaye calcular las funciones $$f(x)=\\sqrt{x^2+1}-1 \\quad g(x)=\\frac{x^2}{\\sqrt{x^2+1}+1}$$\n",
    "Use valores pequeños como $x=8^{-1},8^{-2},8^{-3},\\dots$. Explique los resultados. Note que, análiticamete,  $f(x)=g(x)$.\n"
   ]
  },
  {
   "cell_type": "code",
   "execution_count": 9,
   "id": "c1a08355",
   "metadata": {},
   "outputs": [
    {
     "name": "stdout",
     "output_type": "stream",
     "text": [
      "0.0077822185373186414 y 0.0077822185373187065\n",
      "0.00012206286282867573 y 0.00012206286282875901\n",
      "1.9073468138230965e-6 y 1.907346813826566e-6\n",
      "2.9802321943606103e-8 y 2.9802321943606116e-8\n",
      "4.656612873077393e-10 y 4.6566128719931904e-10\n",
      "7.275957614183426e-12 y 7.275957614156956e-12\n",
      "1.1368683772161603e-13 y 1.1368683772160957e-13\n",
      "1.7763568394002505e-15 y 1.7763568394002489e-15\n",
      "0.0 y 2.7755575615628914e-17\n",
      "0.0 y 4.336808689942018e-19\n",
      "0.0 y 6.776263578034403e-21\n",
      "0.0 y 1.0587911840678754e-22\n",
      "0.0 y 1.6543612251060553e-24\n",
      "0.0 y 2.5849394142282115e-26\n",
      "0.0 y 4.0389678347315804e-28\n",
      "0.0 y 6.310887241768095e-30\n",
      "0.0 y 9.860761315262648e-32\n",
      "0.0 y 1.5407439555097887e-33\n",
      "0.0 y 2.407412430484045e-35\n",
      "0.0 y 3.76158192263132e-37\n",
      "0.0 y 5.877471754111438e-39\n",
      "Inf y NaN\n",
      "Inf y NaN\n",
      "Inf y NaN\n",
      "Inf y NaN\n",
      "Inf y NaN\n",
      "Inf y NaN\n",
      "Inf y NaN\n",
      "Inf y NaN\n",
      "Inf y NaN\n",
      "Inf y NaN\n",
      "Inf y NaN\n",
      "Inf y NaN\n"
     ]
    }
   ],
   "source": [
    "function f(x)\n",
    "    sqrt(x^2 +1)-1\n",
    "end\n",
    "\n",
    "function g(x)\n",
    "    (x^2)/(sqrt(x^2 +1)+1)\n",
    "end\n",
    "\n",
    "i=1\n",
    "a=0\n",
    "while i<=33\n",
    "    a=f(1/(8^i))\n",
    "    b=g(1/(8^i))\n",
    "    println(a ,\" y \", b) \n",
    "    i+=1\n",
    "end"
   ]
  },
  {
   "cell_type": "markdown",
   "id": "44d00ee0",
   "metadata": {},
   "source": [
    "A pesar de ser analíticamente la misma función, $f(x)$ tiene una resta, la cual es problemática cada vez que el valor en raìz cuadrada es cercano a 1. Esto ocurre para valores de $x$ muy cercanos a 0, como los que tomamos al evaluar la función. Cada vez que $x$ se acerca más a 0, el valor en raíz cuadrada se acerca más a 1, excepto por unos pocos decimales. Esta parte decimal es cada vesz más pequeña, con lo que al restar con 1, se comienza a perder información al trucar el valor final, hasta que llega el punto en que no se puede representar el valor por defecto, y no obtenemos ninguna respuesta.\n",
    "\n",
    "En $g(x)$, en cambio, no hay ninguna resta, por lo que podemos seguir operando hasta valores muy pequeños, cercanos a $10^{-38}$."
   ]
  },
  {
   "cell_type": "markdown",
   "id": "733e8bb7",
   "metadata": {},
   "source": [
    "**PROBLEMA 5(Quarteroni,Saleri,Gervasio)** El lector puede implementar el calculo de la siguiente recurrencia que approxima $\\pi$ (formula de Franc,ois Viète) y estudiar su estabilidad/instabilidad numérica, \n",
    "$$z_1=2, \\,\\,z_{n+1}=2^{n-1/2}\\sqrt{1-\\sqrt{1-4^{1-n}z_n^2}},\\,\\,n=2,3,\\dots. $$\n"
   ]
  },
  {
   "cell_type": "code",
   "execution_count": 52,
   "id": "45a2ecfc",
   "metadata": {},
   "outputs": [
    {
     "name": "stdout",
     "output_type": "stream",
     "text": [
      "z_1 = 2\n",
      "z_2 = 2.8284271247461903\n",
      "z_3 = 3.0614674589207187\n",
      "z_4 = 3.121445152258053\n",
      "z_5 = 3.136548490545941\n",
      "z_6 = 3.140331156954739\n",
      "z_7 = 3.141277250932757\n",
      "z_8 = 3.1415138011441455\n",
      "z_9 = 3.1415729403678827\n",
      "z_10 = 3.141587725279961\n",
      "z_11 = 3.141591421504635\n",
      "z_12 = 3.141592345611077\n",
      "z_13 = 3.141592576545005\n",
      "z_14 = 3.1415926334632487\n",
      "z_15 = 3.1415926548075896\n",
      "z_16 = 3.1415926832667105\n",
      "z_17 = 3.1415927591577\n",
      "z_18 = 3.1415929109396727\n",
      "z_19 = 3.141594125195191\n",
      "z_20 = 3.1415965537048196\n",
      "z_21 = 3.1415965537048196\n",
      "z_22 = 3.1416742650217575\n",
      "z_23 = 3.141829681889201\n",
      "z_24 = 3.142451272494134\n",
      "z_25 = 3.142451272494134\n",
      "z_26 = 3.1622776601683795\n",
      "z_27 = 3.1622776601683795\n",
      "z_28 = 3.4641016151377544\n",
      "z_29 = 4.000000000000001\n",
      "z_30 = 8.000000000000002\n",
      "z_31 = 16.000000000000004\n",
      "z_32 = 32.00000000000001\n"
     ]
    },
    {
     "ename": "LoadError",
     "evalue": "DomainError with -Inf:\nsqrt will only return a complex result if called with a complex argument. Try sqrt(Complex(x)).",
     "output_type": "error",
     "traceback": [
      "DomainError with -Inf:\nsqrt will only return a complex result if called with a complex argument. Try sqrt(Complex(x)).",
      "",
      "Stacktrace:",
      " [1] throw_complex_domainerror(f::Symbol, x::Float64)",
      "   @ Base.Math ./math.jl:33",
      " [2] sqrt(x::Float64)",
      "   @ Base.Math ./math.jl:567",
      " [3] top-level scope",
      "   @ ./In[52]:5",
      " [4] eval",
      "   @ ./boot.jl:373 [inlined]",
      " [5] include_string(mapexpr::typeof(REPL.softscope), mod::Module, code::String, filename::String)",
      "   @ Base ./loading.jl:1196"
     ]
    }
   ],
   "source": [
    "z1 = 2\n",
    "println(\"z_1 = \", z1)\n",
    "i=2\n",
    "while i<=33\n",
    "    z = (2^(i-1/2))*sqrt(1-sqrt(1-(1/4^(i-1))*(z1^2)))\n",
    "    println(\"z_\",i,\" = \",z)\n",
    "    z1=z\n",
    "    i+=1\n",
    "end"
   ]
  },
  {
   "cell_type": "code",
   "execution_count": 51,
   "id": "abbadfa2",
   "metadata": {},
   "outputs": [
    {
     "name": "stdout",
     "output_type": "stream",
     "text": [
      "z_1 = 1.999\n",
      "z_2 = 2.783352189705755\n",
      "z_3 = 3.0029386822834194\n",
      "z_4 = 3.0593880330046455\n",
      "z_5 = 3.073598773533398\n",
      "z_6 = 3.077157630227034\n",
      "z_7 = 3.0780477304578406\n",
      "z_8 = 3.0782702796495522\n",
      "z_9 = 3.0783259184570517\n",
      "z_10 = 3.0783398282551446\n",
      "z_11 = 3.078343305691893\n",
      "z_12 = 3.078344175116647\n",
      "z_13 = 3.0783443923404357\n",
      "z_14 = 3.0783444461925704\n",
      "z_15 = 3.0783444631348145\n",
      "z_16 = 3.0783444631348145\n",
      "z_17 = 3.0783445018599442\n",
      "z_18 = 3.078344346959422\n",
      "z_19 = 3.07834558616338\n",
      "z_20 = 3.0783530213766506\n",
      "z_21 = 3.0783629349664086\n",
      "z_22 = 3.078402589006188\n",
      "z_23 = 3.078402589006188\n",
      "z_24 = 3.07967124868873\n",
      "z_25 = 3.082207001484489\n",
      "z_26 = 3.082207001484489\n",
      "z_27 = 3.1622776601683795\n",
      "z_28 = 3.4641016151377544\n",
      "z_29 = 4.000000000000001\n",
      "z_30 = 8.000000000000002\n",
      "z_31 = 16.000000000000004\n",
      "z_32 = 32.00000000000001\n"
     ]
    },
    {
     "ename": "LoadError",
     "evalue": "DomainError with -Inf:\nsqrt will only return a complex result if called with a complex argument. Try sqrt(Complex(x)).",
     "output_type": "error",
     "traceback": [
      "DomainError with -Inf:\nsqrt will only return a complex result if called with a complex argument. Try sqrt(Complex(x)).",
      "",
      "Stacktrace:",
      " [1] throw_complex_domainerror(f::Symbol, x::Float64)",
      "   @ Base.Math ./math.jl:33",
      " [2] sqrt(x::Float64)",
      "   @ Base.Math ./math.jl:567",
      " [3] top-level scope",
      "   @ ./In[51]:5",
      " [4] eval",
      "   @ ./boot.jl:373 [inlined]",
      " [5] include_string(mapexpr::typeof(REPL.softscope), mod::Module, code::String, filename::String)",
      "   @ Base ./loading.jl:1196"
     ]
    }
   ],
   "source": [
    "z1 = 1.999\n",
    "println(\"z_1 = \", z1)\n",
    "i=2\n",
    "while i<=33\n",
    "    z = (2^(i-1/2))*sqrt(1-sqrt(1-(1/4^(i-1))*(z1^2)))\n",
    "    println(\"z_\",i,\" = \",z)\n",
    "    z1=z\n",
    "    i+=1\n",
    "end"
   ]
  },
  {
   "cell_type": "markdown",
   "id": "b76fe676",
   "metadata": {},
   "source": [
    "Se observa que a partir de $x_{24}$ la exactitud ya es menor a 2 decimales, y a partir de $x_28$ el valor difiere en más de un 10%. Además, desde $x_{33}$ el valor ya no es un número real. Se puede decir también que es un algoritmo inestable debido a que no se puede evaluar para valores iniciales cuyo valor absoluto es superior a 2, ya que en ese caso se tendría que evaluar una raíz negativa. Además, para variaciones muy ligera en el valor inicial, es muy difícil que en algún momento llegue un valor cercano en un 1% al valor de $\\pi$, y esto se logra aproximadamente con un $z_1=1.999$, que es una variación de $\\epsilon=0.001$ respecto al valor original, lo que muestra que esun algoritmo inestable."
   ]
  },
  {
   "cell_type": "markdown",
   "id": "47a2e8fb",
   "metadata": {
    "id": "poKJfAr62xKi"
   },
   "source": [
    "**PROBLEMA 6(Stewart)** Implemente  la recurrencia $x_1=\\frac{1}{3}, x_2=\\frac{1}{12}$,  $x_{k+1}=2.25x_k-0.5x_{k-1}$. Explique los resultados. \n",
    "\n"
   ]
  },
  {
   "cell_type": "code",
   "execution_count": 8,
   "id": "33b66fc9",
   "metadata": {},
   "outputs": [
    {
     "name": "stdout",
     "output_type": "stream",
     "text": [
      "x_1 = 0.3333333333333333\n",
      "x_2 = 0.08333333333333333\n",
      "x_3 = 0.020833333333333343\n",
      "x_4 = 0.0052083333333333565\n",
      "x_5 = 0.0013020833333333807\n",
      "x_6 = 0.00032552083333342845\n",
      "x_7 = 8.138020833352365e-5\n",
      "x_8 = 2.034505208371398e-5\n",
      "x_9 = 5.0862630215946285e-6\n",
      "x_10 = 1.2715657567309247e-6\n",
      "x_11 = 3.1789144184726645e-7\n",
      "x_12 = 7.947286579088713e-8\n"
     ]
    }
   ],
   "source": [
    "x1 = 1/3\n",
    "x2 = 1/12\n",
    "println(\"x_1 = \",x1)\n",
    "println(\"x_2 = \",x2)\n",
    "i = 3\n",
    "while i<=12\n",
    "    x = (9/4)*x2 - (1/2)*x1\n",
    "    println(\"x_\",i ,\" = \",x)\n",
    "    x1 = x2\n",
    "    x2 = x\n",
    "    i+=1\n",
    "end"
   ]
  },
  {
   "cell_type": "markdown",
   "id": "12314070",
   "metadata": {},
   "source": [
    "Sin embargo, evaluando la recurrencia analíticamente, vemos que $x_n = (1/3)*(1/4^{n-1})$. Esto se puede probar por inducción:\n",
    "\n",
    "Para $n = 1$ es claro que se tiene la igualdad por como se nos dan los valores de la recurrencia.\n",
    "\n",
    "Ahora supongamos que se tiene para todos los $k\\leq n$. Probemos que la igualdad se tiene para $n+1$.\n",
    "Por la definición de la recurrencia:\n",
    "$$x_{n+1} = \\frac{9}{4}x_n -\\frac{9}{4}*x_{n-1}$$\n",
    "Reemplazando según la hipótesis de inducción, tendremos que\n",
    "$$x_{n+1} = \\frac{9}{4}(\\frac{1}{3*4^{n-1}}) - \\frac{1}{2}(\\frac{1}{3*4^{n-2}})$$\n",
    "y factorizando,\n",
    "$$x_{n+1} = \\frac{1}{4^{n-2}}(\\frac{3}{16}-\\frac{1}{6}) = \\frac{1}{3}*\\frac{1}{4^n}$$\n",
    "que es lo que se quería probar.\n",
    "\n",
    "Ahora, con este fórmula vamos a implementar una neuva rutina:"
   ]
  },
  {
   "cell_type": "code",
   "execution_count": 11,
   "id": "13b1dca0",
   "metadata": {},
   "outputs": [
    {
     "name": "stdout",
     "output_type": "stream",
     "text": [
      "x_1 = 0.3333333333333333\n",
      "x_2 = 0.08333333333333333\n",
      "x_3 = 0.020833333333333332\n",
      "x_4 = 0.005208333333333333\n",
      "x_5 = 0.0013020833333333333\n",
      "x_6 = 0.0003255208333333333\n",
      "x_7 = 8.138020833333333e-5\n",
      "x_8 = 2.0345052083333332e-5\n",
      "x_9 = 5.086263020833333e-6\n",
      "x_10 = 1.2715657552083333e-6\n",
      "x_11 = 3.178914388020833e-7\n",
      "x_12 = 7.947285970052083e-8\n"
     ]
    }
   ],
   "source": [
    "function f(x)\n",
    "    (1/3)*(1/4^x)\n",
    "end\n",
    "i=1\n",
    "while i<=12\n",
    "    println(\"x_\",i,\" = \",f(i-1))\n",
    "    i+=1\n",
    "end"
   ]
  },
  {
   "cell_type": "markdown",
   "id": "5a6dd0e1",
   "metadata": {},
   "source": [
    "Deberíamos esperar que nuestro segundo procedimiento nos diera los resultados más cercanos a los verdaderos, puesto que, aunque las dos fórmulas son equivalentes según se demostró, la primera de ellas, que está en forma de recurrencia, tiene que hacer un resta entre valores muy cercanos cada vez que debe calcular el siguiente valor, y esta diferencia disminuye cada vez más para cada nuevo valor, por un factor de $\\frac{1}{4^{k-1}}$ cada vez que se va a calcular el valor de de $x_{k+1}$, y ya conocemos que evaluar restas de valores muy cercanos es muy problemático a la hora de realizar el redondeo."
   ]
  },
  {
   "cell_type": "markdown",
   "id": "ec421256",
   "metadata": {
    "id": "nTJp3M3KDtgg"
   },
   "source": [
    "**PROBLEMA 7** En clase se describieron los tipos de datos Float16, Float32, Float64 y BigFloat\n",
    "De forma parecida describa (con ejemplos y usando utilidades como bitstring, typemax, etc)  los siguientes tipos: Int32, Int64, BigInt (BigInt no se enecuentra disponible en Julia por lo que se usará Int128). \n"
   ]
  },
  {
   "cell_type": "markdown",
   "id": "fde0296d",
   "metadata": {},
   "source": [
    "**Int32:**\n",
    "Este tipo de dato cuenta con 32 bits u 4 bytes. 1 bit está destinado al signo del número entero, mientras los 31 restantes están destinados al número mismo. En este caso, no hay ningún número normalizado, por lo que no se requieren bits para ningún exponente. Por lo tanto, el número más grande que se puede escribir en este formato es $2^{31}-1$ mientras que el menor número es $-2^{31}$, que son del orden de $10^{10}$, y puede representar un total de $2^{32}$ números enteros.\n",
    "Puesto que se trata de números enteros, no es necesario realizar ningún redondeo, ya que sólo admitirá los datos que pueda representar.\n",
    "\n",
    "Abajo se puede ver la cadena de bits del mayor y menor número que se pueden representar con Int32, como un ejemplo"
   ]
  },
  {
   "cell_type": "code",
   "execution_count": 9,
   "id": "226d6b2b",
   "metadata": {},
   "outputs": [
    {
     "name": "stdout",
     "output_type": "stream",
     "text": [
      "2147483647\n",
      "2147483647\n"
     ]
    }
   ],
   "source": [
    "println(typemax(Int32))\n",
    "println(2^(31)-1)"
   ]
  },
  {
   "cell_type": "code",
   "execution_count": 19,
   "id": "14c3bc01",
   "metadata": {},
   "outputs": [
    {
     "data": {
      "text/plain": [
       "\"00000000000000000000000000000010\""
      ]
     },
     "execution_count": 19,
     "metadata": {},
     "output_type": "execute_result"
    }
   ],
   "source": [
    "x=convert(Int32,2)\n",
    "bitstring(x)"
   ]
  },
  {
   "cell_type": "code",
   "execution_count": 7,
   "id": "401b8600",
   "metadata": {
    "scrolled": true
   },
   "outputs": [
    {
     "data": {
      "text/plain": [
       "\"01111111111111111111111111111111\""
      ]
     },
     "execution_count": 7,
     "metadata": {},
     "output_type": "execute_result"
    }
   ],
   "source": [
    "bitstring(typemax(Int32))"
   ]
  },
  {
   "cell_type": "code",
   "execution_count": 11,
   "id": "20305a9f",
   "metadata": {
    "scrolled": true
   },
   "outputs": [
    {
     "name": "stdout",
     "output_type": "stream",
     "text": [
      "-2147483648\n",
      "-2147483648\n"
     ]
    }
   ],
   "source": [
    "println(typemin(Int32))\n",
    "println(0-2^(31))"
   ]
  },
  {
   "cell_type": "code",
   "execution_count": 16,
   "id": "ca8835cf",
   "metadata": {},
   "outputs": [
    {
     "data": {
      "text/plain": [
       "\"1111111111111111111111111111111111111111111111111111111111111110\""
      ]
     },
     "execution_count": 16,
     "metadata": {},
     "output_type": "execute_result"
    }
   ],
   "source": [
    "bitstring(-2)"
   ]
  },
  {
   "cell_type": "code",
   "execution_count": 14,
   "id": "47edb3ff",
   "metadata": {},
   "outputs": [
    {
     "data": {
      "text/plain": [
       "\"10000000000000000000000000000000\""
      ]
     },
     "execution_count": 14,
     "metadata": {},
     "output_type": "execute_result"
    }
   ],
   "source": [
    "bitstring(typemin(Int32))"
   ]
  },
  {
   "cell_type": "markdown",
   "id": "ae9f3618",
   "metadata": {},
   "source": [
    "Se puede ver en el último arreglo de bits, que a los números negativos los trata distinto que a los positivos, haciendo que los valores de 0 cuenten como verdaderos, y los de 1 como falsos, en el caso de los números negativos para la mantisa del número."
   ]
  },
  {
   "cell_type": "markdown",
   "id": "b8c98add",
   "metadata": {},
   "source": [
    "**Int64:**\n",
    "Este tipo de dato cuenta con 64 bits u 8 bytes. 1 bit está destinado al signo del número entero, mientras los 63 restantes están destinados al número mismo. En este caso, no hay ningún número normalizado, por lo que no se requieren bits para ningún exponente. Por lo tanto, el número más grande que se puede escribir en este formato es $2^{63}-1$ mientras que el menor número es $-2^{63}$, que son del orden de $10^{19}$, y en total puede representar un total de $2^{64}$ números enteros.\n",
    "Puesto que se trata de números enteros, no es necesario realizar ningún redondeo, ya que sólo admitirá los datos que pueda representar. Este es el tipo de dato predeterminado para enteros en Julia.\n",
    "\n",
    "Abajo se puede ver la cadena de bits del mayor y menor número que se pueden representar con Int64, como un ejemplo"
   ]
  },
  {
   "cell_type": "code",
   "execution_count": 21,
   "id": "ba85f728",
   "metadata": {},
   "outputs": [
    {
     "name": "stdout",
     "output_type": "stream",
     "text": [
      "9223372036854775807\n",
      "9223372036854775807\n"
     ]
    }
   ],
   "source": [
    "println(typemax(Int64))\n",
    "println(2^(63)-1)"
   ]
  },
  {
   "cell_type": "code",
   "execution_count": 17,
   "id": "5ff8138a",
   "metadata": {
    "scrolled": true
   },
   "outputs": [
    {
     "data": {
      "text/plain": [
       "\"0000000000000000000000000000000000000000000000000000000000000010\""
      ]
     },
     "execution_count": 17,
     "metadata": {},
     "output_type": "execute_result"
    }
   ],
   "source": [
    "bitstring(2)"
   ]
  },
  {
   "cell_type": "code",
   "execution_count": 23,
   "id": "ab185a17",
   "metadata": {},
   "outputs": [
    {
     "data": {
      "text/plain": [
       "\"0111111111111111111111111111111111111111111111111111111111111111\""
      ]
     },
     "execution_count": 23,
     "metadata": {},
     "output_type": "execute_result"
    }
   ],
   "source": [
    "bitstring(typemax(Int64))"
   ]
  },
  {
   "cell_type": "code",
   "execution_count": 22,
   "id": "a9539f23",
   "metadata": {},
   "outputs": [
    {
     "name": "stdout",
     "output_type": "stream",
     "text": [
      "-9223372036854775808\n",
      "-9223372036854775808\n"
     ]
    }
   ],
   "source": [
    "println(typemin(Int64))\n",
    "println(-2^(63))"
   ]
  },
  {
   "cell_type": "code",
   "execution_count": 24,
   "id": "86349fda",
   "metadata": {},
   "outputs": [
    {
     "data": {
      "text/plain": [
       "\"1111111111111111111111111111111111111111111111111111111111111110\""
      ]
     },
     "execution_count": 24,
     "metadata": {},
     "output_type": "execute_result"
    }
   ],
   "source": [
    "bitstring(-2)"
   ]
  },
  {
   "cell_type": "code",
   "execution_count": 25,
   "id": "7528a8ff",
   "metadata": {},
   "outputs": [
    {
     "data": {
      "text/plain": [
       "\"1000000000000000000000000000000000000000000000000000000000000000\""
      ]
     },
     "execution_count": 25,
     "metadata": {},
     "output_type": "execute_result"
    }
   ],
   "source": [
    "bitstring(typemin(Int64))"
   ]
  },
  {
   "cell_type": "markdown",
   "id": "72b57ff0",
   "metadata": {},
   "source": [
    "**Int128:**\n",
    "Este tipo de dato cuenta con 128 bits u 16 bytes. 1 bit está destinado al signo del número entero, mientras los 127 restantes están destinados al número mismo. En este caso, no hay ningún número normalizado, por lo que no se requieren bits para ningún exponente. Por lo tanto, el número más grande que se puede escribir en este formato es $2^{127}-1$ mientras que el menor número es $-2^{127}$, que son del orden de $10^{39}$.\n",
    "Puesto que se trata de números enteros, no es necesario realizar ningún redondeo, ya que sólo admitirá los datos que pueda representar.\n",
    "\n",
    "Abajo se puede ver la cadena de bits del mayor y menor número que se pueden representar con Int128, como un ejemplo"
   ]
  },
  {
   "cell_type": "code",
   "execution_count": 48,
   "id": "f040b549",
   "metadata": {},
   "outputs": [
    {
     "name": "stdout",
     "output_type": "stream",
     "text": [
      "170141183460469231731687303715884105727\n"
     ]
    }
   ],
   "source": [
    "println(typemax(Int128))"
   ]
  },
  {
   "cell_type": "code",
   "execution_count": 49,
   "id": "2c26c6e4",
   "metadata": {},
   "outputs": [
    {
     "data": {
      "text/plain": [
       "\"01111111111111111111111111111111111111111111111111111111111111111111111111111111111111111111111111111111111111111111111111111111\""
      ]
     },
     "execution_count": 49,
     "metadata": {},
     "output_type": "execute_result"
    }
   ],
   "source": [
    "bitstring(typemax(Int128))"
   ]
  },
  {
   "cell_type": "code",
   "execution_count": 50,
   "id": "622c55eb",
   "metadata": {},
   "outputs": [
    {
     "name": "stdout",
     "output_type": "stream",
     "text": [
      "-170141183460469231731687303715884105728\n"
     ]
    }
   ],
   "source": [
    "println(typemin(Int128))"
   ]
  },
  {
   "cell_type": "code",
   "execution_count": 51,
   "id": "3c04a5bf",
   "metadata": {},
   "outputs": [
    {
     "data": {
      "text/plain": [
       "\"1000000000000000000000000000000000000000000000000000000000000000\""
      ]
     },
     "execution_count": 51,
     "metadata": {},
     "output_type": "execute_result"
    }
   ],
   "source": [
    "bitstring(typemin(128))"
   ]
  },
  {
   "cell_type": "markdown",
   "id": "7dc0ba27",
   "metadata": {},
   "source": [
    "**PROBLEMA 8 (Optional)** Investigar cómo usar las utilidades @time @btime y @benchmark. Mostrar ejemplos de su uso."
   ]
  },
  {
   "cell_type": "markdown",
   "id": "a40c5981",
   "metadata": {},
   "source": [
    "**@time**: Esta utilidad sirve para medir el tiempo que se necesita para implementar un función, al a vez que se ejecuta la función. También entrega el número de bytes de memoria que se ocuparon, y cuantas alocaciones se utilizaron para esos bytes.\n",
    "Por ejemplo (no necesariamente debe se utilizado al interior de una función:"
   ]
  },
  {
   "cell_type": "code",
   "execution_count": 65,
   "id": "9b0bd8d1",
   "metadata": {},
   "outputs": [
    {
     "name": "stdout",
     "output_type": "stream",
     "text": [
      "  0.000012 seconds (1 allocation: 80 bytes)\n"
     ]
    },
    {
     "data": {
      "text/plain": [
       "3-element Vector{Float64}:\n",
       " 0.39464570702119994\n",
       " 0.28575911874825405\n",
       " 0.1987940007708965"
      ]
     },
     "execution_count": 65,
     "metadata": {},
     "output_type": "execute_result"
    }
   ],
   "source": [
    "function f(x)\n",
    "    A=rand(x,x)\n",
    "    B=rand(x)\n",
    "    @time A*B\n",
    "end\n",
    "f(3)"
   ]
  },
  {
   "cell_type": "code",
   "execution_count": 84,
   "id": "603ea2a3",
   "metadata": {
    "scrolled": true
   },
   "outputs": [
    {
     "name": "stdout",
     "output_type": "stream",
     "text": [
      "  0.000054 seconds (1 allocation: 896 bytes)\n"
     ]
    },
    {
     "data": {
      "text/plain": [
       "100-element Vector{Float64}:\n",
       " 24.057625982218365\n",
       " 23.456867884322726\n",
       " 23.413243652784352\n",
       " 21.454805052736052\n",
       " 22.5890808777126\n",
       " 22.887218299182\n",
       " 27.048393685955272\n",
       " 22.823836693465676\n",
       " 22.998237442315766\n",
       " 21.846400425289822\n",
       " 25.33697935209707\n",
       " 24.067639744121877\n",
       " 22.7319829973864\n",
       "  ⋮\n",
       " 21.828145738451234\n",
       " 22.235090640600173\n",
       " 24.7287848317756\n",
       " 22.947354276974014\n",
       " 22.563338667069907\n",
       " 21.27711330557208\n",
       " 21.625374050420387\n",
       " 23.855033525196855\n",
       " 22.50803606021312\n",
       " 20.946221031500798\n",
       " 26.281466486120426\n",
       " 25.124353230506145"
      ]
     },
     "execution_count": 84,
     "metadata": {},
     "output_type": "execute_result"
    }
   ],
   "source": [
    "function f(x)\n",
    "    A=rand(x,x)\n",
    "    B=rand(x)\n",
    "    @time A*B\n",
    "end\n",
    "f(100)"
   ]
  },
  {
   "cell_type": "markdown",
   "id": "a2008de9",
   "metadata": {},
   "source": [
    "**@bitme:** Es análogo al @time que viene incorporado en Julia, peero hace uso de las utilidades de Benchmark, y el resultado esu na información mucho más exacta. Todas las utilidades incluidas en BenchmarkTools son medidores de rendimiento para Julia. Por ejemplo:"
   ]
  },
  {
   "cell_type": "code",
   "execution_count": 88,
   "id": "0a0bd903",
   "metadata": {},
   "outputs": [
    {
     "name": "stdout",
     "output_type": "stream",
     "text": [
      "  104.499 ns (1 allocation: 80 bytes)\n"
     ]
    },
    {
     "data": {
      "text/plain": [
       "3-element Vector{Float64}:\n",
       " 0.2985396191181392\n",
       " 0.5181706384459518\n",
       " 0.6248892454955947"
      ]
     },
     "execution_count": 88,
     "metadata": {},
     "output_type": "execute_result"
    }
   ],
   "source": [
    "using BenchmarkTools\n",
    "\n",
    "function f(x)\n",
    "    A=rand(x,x)\n",
    "    B=rand(x)\n",
    "    @btime ($A)*($B)\n",
    "end\n",
    "f(3)"
   ]
  },
  {
   "cell_type": "code",
   "execution_count": 90,
   "id": "e0de4f6e",
   "metadata": {},
   "outputs": [
    {
     "name": "stdout",
     "output_type": "stream",
     "text": [
      "  157.585 ns (1 allocation: 144 bytes)\n"
     ]
    },
    {
     "data": {
      "text/plain": [
       "10-element Vector{Float64}:\n",
       " 2.979867482080405\n",
       " 2.3158262287231564\n",
       " 1.7678442867552493\n",
       " 3.1840971272766327\n",
       " 2.5897669659747606\n",
       " 2.855758836322848\n",
       " 3.529220087883113\n",
       " 3.0451803890759575\n",
       " 2.66579653567223\n",
       " 2.400950961704479"
      ]
     },
     "execution_count": 90,
     "metadata": {},
     "output_type": "execute_result"
    }
   ],
   "source": [
    "using BenchmarkTools\n",
    "\n",
    "function f(x)\n",
    "    A=rand(x,x)\n",
    "    B=rand(x)\n",
    "    @btime ($A)*($B)\n",
    "end\n",
    "f(10)"
   ]
  },
  {
   "cell_type": "markdown",
   "id": "963fd75b",
   "metadata": {},
   "source": [
    "**@benchmark:** Es un medidor de rendimiento, que realiza las funciones de @btime y algunas más. El siguiente es un ejemplo tomado de https://juliaci.github.io/BenchmarkTools.jl/stable/"
   ]
  },
  {
   "cell_type": "code",
   "execution_count": 94,
   "id": "4b7a018a",
   "metadata": {},
   "outputs": [
    {
     "data": {
      "text/plain": [
       "BenchmarkTools.Trial: 10000 samples with 934 evaluations.\n",
       " Range \u001b[90m(\u001b[39m\u001b[36m\u001b[1mmin\u001b[22m\u001b[39m … \u001b[35mmax\u001b[39m\u001b[90m):  \u001b[39m\u001b[36m\u001b[1m104.985 ns\u001b[22m\u001b[39m … \u001b[35m100.885 μs\u001b[39m  \u001b[90m┊\u001b[39m GC \u001b[90m(\u001b[39mmin … max\u001b[90m): \u001b[39m 0.00% … 99.87%\n",
       " Time  \u001b[90m(\u001b[39m\u001b[34m\u001b[1mmedian\u001b[22m\u001b[39m\u001b[90m):     \u001b[39m\u001b[34m\u001b[1m128.279 ns               \u001b[22m\u001b[39m\u001b[90m┊\u001b[39m GC \u001b[90m(\u001b[39mmedian\u001b[90m):    \u001b[39m 0.00%\n",
       " Time  \u001b[90m(\u001b[39m\u001b[32m\u001b[1mmean\u001b[22m\u001b[39m ± \u001b[32mσ\u001b[39m\u001b[90m):   \u001b[39m\u001b[32m\u001b[1m264.474 ns\u001b[22m\u001b[39m ± \u001b[32m  3.215 μs\u001b[39m  \u001b[90m┊\u001b[39m GC \u001b[90m(\u001b[39mmean ± σ\u001b[90m):  \u001b[39m51.00% ±  5.18%\n",
       "\n",
       "  \u001b[39m \u001b[39m \u001b[39m \u001b[39m \u001b[39m \u001b[39m \u001b[39m \u001b[39m \u001b[39m \u001b[39m \u001b[39m▂\u001b[39m▄\u001b[39m▆\u001b[39m▅\u001b[39m▇\u001b[39m█\u001b[39m▇\u001b[39m█\u001b[39m█\u001b[39m▇\u001b[39m▇\u001b[34m█\u001b[39m\u001b[39m█\u001b[39m▆\u001b[39m▆\u001b[39m▆\u001b[39m▅\u001b[39m▆\u001b[39m▇\u001b[39m▆\u001b[39m▂\u001b[39m \u001b[39m \u001b[39m \u001b[39m \u001b[39m \u001b[39m \u001b[39m \u001b[39m \u001b[39m \u001b[39m \u001b[39m \u001b[39m \u001b[39m \u001b[39m \u001b[39m \u001b[39m \u001b[39m \u001b[39m \u001b[39m \u001b[39m \u001b[39m \u001b[39m \u001b[39m \u001b[39m \u001b[39m \u001b[39m \u001b[39m \u001b[39m \u001b[39m \u001b[39m \u001b[39m \u001b[39m \n",
       "  \u001b[39m▁\u001b[39m▁\u001b[39m▁\u001b[39m▁\u001b[39m▂\u001b[39m▃\u001b[39m▄\u001b[39m▄\u001b[39m▅\u001b[39m▇\u001b[39m█\u001b[39m█\u001b[39m█\u001b[39m█\u001b[39m█\u001b[39m█\u001b[39m█\u001b[39m█\u001b[39m█\u001b[39m█\u001b[39m█\u001b[34m█\u001b[39m\u001b[39m█\u001b[39m█\u001b[39m█\u001b[39m█\u001b[39m█\u001b[39m█\u001b[39m█\u001b[39m█\u001b[39m█\u001b[39m▆\u001b[39m▄\u001b[39m▄\u001b[39m▃\u001b[39m▂\u001b[39m▂\u001b[39m▂\u001b[39m▂\u001b[39m▂\u001b[39m▂\u001b[39m▂\u001b[39m▂\u001b[39m▂\u001b[39m▂\u001b[39m▂\u001b[39m▂\u001b[39m▂\u001b[39m▂\u001b[39m▂\u001b[39m▂\u001b[39m▂\u001b[39m▂\u001b[39m▂\u001b[39m▂\u001b[39m▂\u001b[39m▂\u001b[39m▂\u001b[39m▁\u001b[39m▁\u001b[39m▁\u001b[39m \u001b[39m▄\n",
       "  105 ns\u001b[90m           Histogram: frequency by time\u001b[39m          172 ns \u001b[0m\u001b[1m<\u001b[22m\n",
       "\n",
       " Memory estimate\u001b[90m: \u001b[39m\u001b[33m144 bytes\u001b[39m, allocs estimate\u001b[90m: \u001b[39m\u001b[33m1\u001b[39m."
      ]
     },
     "execution_count": 94,
     "metadata": {},
     "output_type": "execute_result"
    }
   ],
   "source": [
    "using BenchmarkTools\n",
    "\n",
    "@benchmark sort(data) setup=(data=rand(10))"
   ]
  },
  {
   "cell_type": "markdown",
   "id": "84873b51",
   "metadata": {},
   "source": [
    "Se puede observar que mide el mismo rendimiento que @btime, pero lo ahce para el cualquier cálculo involucrado en lo que sea que se desee implementar, incluyendo el número de evaluaciones realizadas, y al finalizar nos da el total de memoria utilizada para la implementación."
   ]
  },
  {
   "cell_type": "markdown",
   "id": "77b05845",
   "metadata": {},
   "source": [
    "**PROBLEMA 9** Use Plots para graficar $P(x)=(x-1)^7$. Agregar a la figura el cálculo de $P(x)$ usando la expansión en potencias y también la forma de Horner \n",
    "$$  P(x)= ((((((x-7)x+21)x-35)x+35)x-21)x+7)x-1. $$ \n",
    "Verifique esta última fórmula. Para la gráfica use un intervalo pequeño de la forma $[1-\\alpha,1+\\alpha]$ con $\\alpha$ del orden de $10^{-2}$ y $10^{-3}$. Implemente y comente los resultados. Esta forma de calcular polinomios es conocida como el esquema de Horner y es la forma recomendada para evaluar polinomios. Explique la motivación  de esta recomendación. \n",
    "\n"
   ]
  },
  {
   "cell_type": "markdown",
   "id": "1dcd52cc",
   "metadata": {},
   "source": [
    "El polinomio se puede expandir utilizando el binomio de Newton, y así obtenemos que\n",
    "$$P(x) = (x-1)^7 = x^7 - 7x^6 +21x^5 - 35x^4 + 35x^3 - 21x^2 + 7x -1$$\n",
    "\n",
    "Desde aquí es sencillo obtener el polinomio bajo el esquema de Horner, por sucesivas factorizaciones de potencias de $x$:\n",
    "\n",
    "$$\\begin{split}\n",
    "x^7 - 7x^6 +21x^5 - 35x^4 + 35x^3 - 21x^2 + 7x -1 \n",
    "&= (x-7)x^6+21x^5 - 35x^4 + 35x^3 - 21x^2 + 7x -1 \\\\\n",
    "&= ((x-7)x+21)x^5 - 35x^4 + 35x^3 - 21x^2 + 7x -1 \\\\\n",
    "&= (((x-7)x+21)x-35)x^4 + 35x^3 - 21x^2 + 7x -1 \\\\\n",
    "&= ((((x-7)x+21)x-35)x+35)x^3 - 21x^2 + 7x -1 \\\\\n",
    "&= (((((x-7)x+21)x-35)x+35)x-21)x^2 +7x -1 \\\\\n",
    "&= ((((((x-7)x+21)x-35)x+35)x-21)x+7)x-1\n",
    "\\end{split} $$\n",
    "\n",
    "Ahora graficamos las tres versiones que hemos dado del mismo polinomio.\n"
   ]
  },
  {
   "cell_type": "code",
   "execution_count": 109,
   "id": "61698300",
   "metadata": {},
   "outputs": [
    {
     "data": {
      "image/svg+xml": [
       "<?xml version=\"1.0\" encoding=\"utf-8\"?>\n",
       "<svg xmlns=\"http://www.w3.org/2000/svg\" xmlns:xlink=\"http://www.w3.org/1999/xlink\" width=\"600\" height=\"400\" viewBox=\"0 0 2400 1600\">\n",
       "<defs>\n",
       "  <clipPath id=\"clip060\">\n",
       "    <rect x=\"0\" y=\"0\" width=\"2400\" height=\"1600\"/>\n",
       "  </clipPath>\n",
       "</defs>\n",
       "<path clip-path=\"url(#clip060)\" d=\"\n",
       "M0 1600 L2400 1600 L2400 0 L0 0  Z\n",
       "  \" fill=\"#ffffff\" fill-rule=\"evenodd\" fill-opacity=\"1\"/>\n",
       "<defs>\n",
       "  <clipPath id=\"clip061\">\n",
       "    <rect x=\"480\" y=\"0\" width=\"1681\" height=\"1600\"/>\n",
       "  </clipPath>\n",
       "</defs>\n",
       "<path clip-path=\"url(#clip060)\" d=\"\n",
       "M304.699 1486.45 L2352.76 1486.45 L2352.76 47.2441 L304.699 47.2441  Z\n",
       "  \" fill=\"#ffffff\" fill-rule=\"evenodd\" fill-opacity=\"1\"/>\n",
       "<defs>\n",
       "  <clipPath id=\"clip062\">\n",
       "    <rect x=\"304\" y=\"47\" width=\"2049\" height=\"1440\"/>\n",
       "  </clipPath>\n",
       "</defs>\n",
       "<polyline clip-path=\"url(#clip062)\" style=\"stroke:#000000; stroke-linecap:butt; stroke-linejoin:round; stroke-width:2; stroke-opacity:0.1; fill:none\" points=\"\n",
       "  362.663,1486.45 362.663,47.2441 \n",
       "  \"/>\n",
       "<polyline clip-path=\"url(#clip062)\" style=\"stroke:#000000; stroke-linecap:butt; stroke-linejoin:round; stroke-width:2; stroke-opacity:0.1; fill:none\" points=\"\n",
       "  749.089,1486.45 749.089,47.2441 \n",
       "  \"/>\n",
       "<polyline clip-path=\"url(#clip062)\" style=\"stroke:#000000; stroke-linecap:butt; stroke-linejoin:round; stroke-width:2; stroke-opacity:0.1; fill:none\" points=\"\n",
       "  1135.51,1486.45 1135.51,47.2441 \n",
       "  \"/>\n",
       "<polyline clip-path=\"url(#clip062)\" style=\"stroke:#000000; stroke-linecap:butt; stroke-linejoin:round; stroke-width:2; stroke-opacity:0.1; fill:none\" points=\"\n",
       "  1521.94,1486.45 1521.94,47.2441 \n",
       "  \"/>\n",
       "<polyline clip-path=\"url(#clip062)\" style=\"stroke:#000000; stroke-linecap:butt; stroke-linejoin:round; stroke-width:2; stroke-opacity:0.1; fill:none\" points=\"\n",
       "  1908.37,1486.45 1908.37,47.2441 \n",
       "  \"/>\n",
       "<polyline clip-path=\"url(#clip062)\" style=\"stroke:#000000; stroke-linecap:butt; stroke-linejoin:round; stroke-width:2; stroke-opacity:0.1; fill:none\" points=\"\n",
       "  2294.79,1486.45 2294.79,47.2441 \n",
       "  \"/>\n",
       "<polyline clip-path=\"url(#clip060)\" style=\"stroke:#000000; stroke-linecap:butt; stroke-linejoin:round; stroke-width:4; stroke-opacity:1; fill:none\" points=\"\n",
       "  304.699,1486.45 2352.76,1486.45 \n",
       "  \"/>\n",
       "<polyline clip-path=\"url(#clip060)\" style=\"stroke:#000000; stroke-linecap:butt; stroke-linejoin:round; stroke-width:4; stroke-opacity:1; fill:none\" points=\"\n",
       "  362.663,1486.45 362.663,1467.55 \n",
       "  \"/>\n",
       "<polyline clip-path=\"url(#clip060)\" style=\"stroke:#000000; stroke-linecap:butt; stroke-linejoin:round; stroke-width:4; stroke-opacity:1; fill:none\" points=\"\n",
       "  749.089,1486.45 749.089,1467.55 \n",
       "  \"/>\n",
       "<polyline clip-path=\"url(#clip060)\" style=\"stroke:#000000; stroke-linecap:butt; stroke-linejoin:round; stroke-width:4; stroke-opacity:1; fill:none\" points=\"\n",
       "  1135.51,1486.45 1135.51,1467.55 \n",
       "  \"/>\n",
       "<polyline clip-path=\"url(#clip060)\" style=\"stroke:#000000; stroke-linecap:butt; stroke-linejoin:round; stroke-width:4; stroke-opacity:1; fill:none\" points=\"\n",
       "  1521.94,1486.45 1521.94,1467.55 \n",
       "  \"/>\n",
       "<polyline clip-path=\"url(#clip060)\" style=\"stroke:#000000; stroke-linecap:butt; stroke-linejoin:round; stroke-width:4; stroke-opacity:1; fill:none\" points=\"\n",
       "  1908.37,1486.45 1908.37,1467.55 \n",
       "  \"/>\n",
       "<polyline clip-path=\"url(#clip060)\" style=\"stroke:#000000; stroke-linecap:butt; stroke-linejoin:round; stroke-width:4; stroke-opacity:1; fill:none\" points=\"\n",
       "  2294.79,1486.45 2294.79,1467.55 \n",
       "  \"/>\n",
       "<path clip-path=\"url(#clip060)\" d=\"M362.663 1517.37 Q359.052 1517.37 357.223 1520.93 Q355.418 1524.47 355.418 1531.6 Q355.418 1538.71 357.223 1542.27 Q359.052 1545.82 362.663 1545.82 Q366.297 1545.82 368.103 1542.27 Q369.932 1538.71 369.932 1531.6 Q369.932 1524.47 368.103 1520.93 Q366.297 1517.37 362.663 1517.37 M362.663 1513.66 Q368.473 1513.66 371.529 1518.27 Q374.608 1522.85 374.608 1531.6 Q374.608 1540.33 371.529 1544.94 Q368.473 1549.52 362.663 1549.52 Q356.853 1549.52 353.774 1544.94 Q350.719 1540.33 350.719 1531.6 Q350.719 1522.85 353.774 1518.27 Q356.853 1513.66 362.663 1513.66 Z\" fill=\"#000000\" fill-rule=\"evenodd\" fill-opacity=\"1\" /><path clip-path=\"url(#clip060)\" d=\"M739.471 1544.91 L747.11 1544.91 L747.11 1518.55 L738.8 1520.21 L738.8 1515.95 L747.063 1514.29 L751.739 1514.29 L751.739 1544.91 L759.378 1544.91 L759.378 1548.85 L739.471 1548.85 L739.471 1544.91 Z\" fill=\"#000000\" fill-rule=\"evenodd\" fill-opacity=\"1\" /><path clip-path=\"url(#clip060)\" d=\"M1130.17 1544.91 L1146.49 1544.91 L1146.49 1548.85 L1124.54 1548.85 L1124.54 1544.91 Q1127.2 1542.16 1131.79 1537.53 Q1136.39 1532.88 1137.57 1531.53 Q1139.82 1529.01 1140.7 1527.27 Q1141.6 1525.51 1141.6 1523.82 Q1141.6 1521.07 1139.66 1519.33 Q1137.74 1517.6 1134.64 1517.6 Q1132.44 1517.6 1129.98 1518.36 Q1127.55 1519.13 1124.77 1520.68 L1124.77 1515.95 Q1127.6 1514.82 1130.05 1514.24 Q1132.51 1513.66 1134.54 1513.66 Q1139.91 1513.66 1143.11 1516.35 Q1146.3 1519.03 1146.3 1523.52 Q1146.3 1525.65 1145.49 1527.57 Q1144.7 1529.47 1142.6 1532.07 Q1142.02 1532.74 1138.92 1535.95 Q1135.82 1539.15 1130.17 1544.91 Z\" fill=\"#000000\" fill-rule=\"evenodd\" fill-opacity=\"1\" /><path clip-path=\"url(#clip060)\" d=\"M1526.19 1530.21 Q1529.54 1530.93 1531.42 1533.2 Q1533.32 1535.47 1533.32 1538.8 Q1533.32 1543.92 1529.8 1546.72 Q1526.28 1549.52 1519.8 1549.52 Q1517.62 1549.52 1515.31 1549.08 Q1513.02 1548.66 1510.56 1547.81 L1510.56 1543.29 Q1512.51 1544.43 1514.82 1545.01 Q1517.14 1545.58 1519.66 1545.58 Q1524.06 1545.58 1526.35 1543.85 Q1528.66 1542.11 1528.66 1538.8 Q1528.66 1535.75 1526.51 1534.03 Q1524.38 1532.3 1520.56 1532.3 L1516.54 1532.3 L1516.54 1528.45 L1520.75 1528.45 Q1524.2 1528.45 1526.03 1527.09 Q1527.85 1525.7 1527.85 1523.11 Q1527.85 1520.45 1525.96 1519.03 Q1524.08 1517.6 1520.56 1517.6 Q1518.64 1517.6 1516.44 1518.01 Q1514.24 1518.43 1511.6 1519.31 L1511.6 1515.14 Q1514.27 1514.4 1516.58 1514.03 Q1518.92 1513.66 1520.98 1513.66 Q1526.3 1513.66 1529.41 1516.09 Q1532.51 1518.5 1532.51 1522.62 Q1532.51 1525.49 1530.86 1527.48 Q1529.22 1529.45 1526.19 1530.21 Z\" fill=\"#000000\" fill-rule=\"evenodd\" fill-opacity=\"1\" /><path clip-path=\"url(#clip060)\" d=\"M1911.38 1518.36 L1899.57 1536.81 L1911.38 1536.81 L1911.38 1518.36 M1910.15 1514.29 L1916.03 1514.29 L1916.03 1536.81 L1920.96 1536.81 L1920.96 1540.7 L1916.03 1540.7 L1916.03 1548.85 L1911.38 1548.85 L1911.38 1540.7 L1895.77 1540.7 L1895.77 1536.19 L1910.15 1514.29 Z\" fill=\"#000000\" fill-rule=\"evenodd\" fill-opacity=\"1\" /><path clip-path=\"url(#clip060)\" d=\"M2285.07 1514.29 L2303.43 1514.29 L2303.43 1518.22 L2289.35 1518.22 L2289.35 1526.7 Q2290.37 1526.35 2291.39 1526.19 Q2292.41 1526 2293.43 1526 Q2299.21 1526 2302.59 1529.17 Q2305.97 1532.34 2305.97 1537.76 Q2305.97 1543.34 2302.5 1546.44 Q2299.03 1549.52 2292.71 1549.52 Q2290.53 1549.52 2288.26 1549.15 Q2286.02 1548.78 2283.61 1548.04 L2283.61 1543.34 Q2285.69 1544.47 2287.92 1545.03 Q2290.14 1545.58 2292.62 1545.58 Q2296.62 1545.58 2298.96 1543.48 Q2301.3 1541.37 2301.3 1537.76 Q2301.3 1534.15 2298.96 1532.04 Q2296.62 1529.94 2292.62 1529.94 Q2290.74 1529.94 2288.87 1530.35 Q2287.01 1530.77 2285.07 1531.65 L2285.07 1514.29 Z\" fill=\"#000000\" fill-rule=\"evenodd\" fill-opacity=\"1\" /><polyline clip-path=\"url(#clip062)\" style=\"stroke:#000000; stroke-linecap:butt; stroke-linejoin:round; stroke-width:2; stroke-opacity:0.1; fill:none\" points=\"\n",
       "  304.699,1445.63 2352.76,1445.63 \n",
       "  \"/>\n",
       "<polyline clip-path=\"url(#clip062)\" style=\"stroke:#000000; stroke-linecap:butt; stroke-linejoin:round; stroke-width:2; stroke-opacity:0.1; fill:none\" points=\"\n",
       "  304.699,1031.31 2352.76,1031.31 \n",
       "  \"/>\n",
       "<polyline clip-path=\"url(#clip062)\" style=\"stroke:#000000; stroke-linecap:butt; stroke-linejoin:round; stroke-width:2; stroke-opacity:0.1; fill:none\" points=\"\n",
       "  304.699,616.985 2352.76,616.985 \n",
       "  \"/>\n",
       "<polyline clip-path=\"url(#clip062)\" style=\"stroke:#000000; stroke-linecap:butt; stroke-linejoin:round; stroke-width:2; stroke-opacity:0.1; fill:none\" points=\"\n",
       "  304.699,202.661 2352.76,202.661 \n",
       "  \"/>\n",
       "<polyline clip-path=\"url(#clip060)\" style=\"stroke:#000000; stroke-linecap:butt; stroke-linejoin:round; stroke-width:4; stroke-opacity:1; fill:none\" points=\"\n",
       "  304.699,1486.45 304.699,47.2441 \n",
       "  \"/>\n",
       "<polyline clip-path=\"url(#clip060)\" style=\"stroke:#000000; stroke-linecap:butt; stroke-linejoin:round; stroke-width:4; stroke-opacity:1; fill:none\" points=\"\n",
       "  304.699,1445.63 323.597,1445.63 \n",
       "  \"/>\n",
       "<polyline clip-path=\"url(#clip060)\" style=\"stroke:#000000; stroke-linecap:butt; stroke-linejoin:round; stroke-width:4; stroke-opacity:1; fill:none\" points=\"\n",
       "  304.699,1031.31 323.597,1031.31 \n",
       "  \"/>\n",
       "<polyline clip-path=\"url(#clip060)\" style=\"stroke:#000000; stroke-linecap:butt; stroke-linejoin:round; stroke-width:4; stroke-opacity:1; fill:none\" points=\"\n",
       "  304.699,616.985 323.597,616.985 \n",
       "  \"/>\n",
       "<polyline clip-path=\"url(#clip060)\" style=\"stroke:#000000; stroke-linecap:butt; stroke-linejoin:round; stroke-width:4; stroke-opacity:1; fill:none\" points=\"\n",
       "  304.699,202.661 323.597,202.661 \n",
       "  \"/>\n",
       "<path clip-path=\"url(#clip060)\" d=\"M256.755 1431.43 Q253.144 1431.43 251.315 1435 Q249.51 1438.54 249.51 1445.67 Q249.51 1452.77 251.315 1456.34 Q253.144 1459.88 256.755 1459.88 Q260.389 1459.88 262.195 1456.34 Q264.023 1452.77 264.023 1445.67 Q264.023 1438.54 262.195 1435 Q260.389 1431.43 256.755 1431.43 M256.755 1427.73 Q262.565 1427.73 265.621 1432.33 Q268.699 1436.92 268.699 1445.67 Q268.699 1454.39 265.621 1459 Q262.565 1463.58 256.755 1463.58 Q250.945 1463.58 247.866 1459 Q244.811 1454.39 244.811 1445.67 Q244.811 1436.92 247.866 1432.33 Q250.945 1427.73 256.755 1427.73 Z\" fill=\"#000000\" fill-rule=\"evenodd\" fill-opacity=\"1\" /><path clip-path=\"url(#clip060)\" d=\"M52.8743 1020.48 L71.2307 1020.48 L71.2307 1024.41 L57.1567 1024.41 L57.1567 1032.88 Q58.1752 1032.54 59.1938 1032.37 Q60.2123 1032.19 61.2308 1032.19 Q67.0178 1032.19 70.3974 1035.36 Q73.777 1038.53 73.777 1043.95 Q73.777 1049.53 70.3048 1052.63 Q66.8326 1055.71 60.5132 1055.71 Q58.3373 1055.71 56.0688 1055.34 Q53.8234 1054.97 51.416 1054.23 L51.416 1049.53 Q53.4993 1050.66 55.7216 1051.22 Q57.9438 1051.77 60.4206 1051.77 Q64.4252 1051.77 66.7632 1049.67 Q69.1011 1047.56 69.1011 1043.95 Q69.1011 1040.34 66.7632 1038.23 Q64.4252 1036.12 60.4206 1036.12 Q58.5456 1036.12 56.6706 1036.54 Q54.8188 1036.96 52.8743 1037.84 L52.8743 1020.48 Z\" fill=\"#000000\" fill-rule=\"evenodd\" fill-opacity=\"1\" /><path clip-path=\"url(#clip060)\" d=\"M82.9899 1049.16 L87.8742 1049.16 L87.8742 1055.04 L82.9899 1055.04 L82.9899 1049.16 Z\" fill=\"#000000\" fill-rule=\"evenodd\" fill-opacity=\"1\" /><path clip-path=\"url(#clip060)\" d=\"M108.059 1023.56 Q104.448 1023.56 102.619 1027.12 Q100.814 1030.66 100.814 1037.79 Q100.814 1044.9 102.619 1048.46 Q104.448 1052 108.059 1052 Q111.693 1052 113.499 1048.46 Q115.328 1044.9 115.328 1037.79 Q115.328 1030.66 113.499 1027.12 Q111.693 1023.56 108.059 1023.56 M108.059 1019.85 Q113.869 1019.85 116.925 1024.46 Q120.004 1029.04 120.004 1037.79 Q120.004 1046.52 116.925 1051.12 Q113.869 1055.71 108.059 1055.71 Q102.249 1055.71 99.1704 1051.12 Q96.1149 1046.52 96.1149 1037.79 Q96.1149 1029.04 99.1704 1024.46 Q102.249 1019.85 108.059 1019.85 Z\" fill=\"#000000\" fill-rule=\"evenodd\" fill-opacity=\"1\" /><path clip-path=\"url(#clip060)\" d=\"M138.221 1023.56 Q134.61 1023.56 132.781 1027.12 Q130.976 1030.66 130.976 1037.79 Q130.976 1044.9 132.781 1048.46 Q134.61 1052 138.221 1052 Q141.855 1052 143.661 1048.46 Q145.49 1044.9 145.49 1037.79 Q145.49 1030.66 143.661 1027.12 Q141.855 1023.56 138.221 1023.56 M138.221 1019.85 Q144.031 1019.85 147.087 1024.46 Q150.165 1029.04 150.165 1037.79 Q150.165 1046.52 147.087 1051.12 Q144.031 1055.71 138.221 1055.71 Q132.411 1055.71 129.332 1051.12 Q126.277 1046.52 126.277 1037.79 Q126.277 1029.04 129.332 1024.46 Q132.411 1019.85 138.221 1019.85 Z\" fill=\"#000000\" fill-rule=\"evenodd\" fill-opacity=\"1\" /><path clip-path=\"url(#clip060)\" d=\"M186.554 1029.57 L175.976 1040.2 L186.554 1050.78 L183.8 1053.58 L173.175 1042.95 L162.55 1053.58 L159.818 1050.78 L170.374 1040.2 L159.818 1029.57 L162.55 1026.77 L173.175 1037.4 L183.8 1026.77 L186.554 1029.57 Z\" fill=\"#000000\" fill-rule=\"evenodd\" fill-opacity=\"1\" /><path clip-path=\"url(#clip060)\" d=\"M198.915 1051.1 L206.554 1051.1 L206.554 1024.74 L198.244 1026.4 L198.244 1022.14 L206.508 1020.48 L211.184 1020.48 L211.184 1051.1 L218.823 1051.1 L218.823 1055.04 L198.915 1055.04 L198.915 1051.1 Z\" fill=\"#000000\" fill-rule=\"evenodd\" fill-opacity=\"1\" /><path clip-path=\"url(#clip060)\" d=\"M238.267 1023.56 Q234.656 1023.56 232.827 1027.12 Q231.022 1030.66 231.022 1037.79 Q231.022 1044.9 232.827 1048.46 Q234.656 1052 238.267 1052 Q241.901 1052 243.707 1048.46 Q245.535 1044.9 245.535 1037.79 Q245.535 1030.66 243.707 1027.12 Q241.901 1023.56 238.267 1023.56 M238.267 1019.85 Q244.077 1019.85 247.133 1024.46 Q250.211 1029.04 250.211 1037.79 Q250.211 1046.52 247.133 1051.12 Q244.077 1055.71 238.267 1055.71 Q232.457 1055.71 229.378 1051.12 Q226.322 1046.52 226.322 1037.79 Q226.322 1029.04 229.378 1024.46 Q232.457 1019.85 238.267 1019.85 Z\" fill=\"#000000\" fill-rule=\"evenodd\" fill-opacity=\"1\" /><path clip-path=\"url(#clip060)\" d=\"M262.906 1012.49 Q265.634 1013.07 267.157 1014.91 Q268.699 1016.76 268.699 1019.46 Q268.699 1023.62 265.841 1025.9 Q262.982 1028.17 257.716 1028.17 Q255.948 1028.17 254.067 1027.81 Q252.205 1027.48 250.211 1026.78 L250.211 1023.11 Q251.791 1024.03 253.672 1024.5 Q255.553 1024.97 257.603 1024.97 Q261.176 1024.97 263.038 1023.56 Q264.919 1022.15 264.919 1019.46 Q264.919 1016.98 263.17 1015.59 Q261.439 1014.18 258.336 1014.18 L255.064 1014.18 L255.064 1011.06 L258.487 1011.06 Q261.289 1011.06 262.775 1009.95 Q264.261 1008.82 264.261 1006.71 Q264.261 1004.55 262.718 1003.4 Q261.195 1002.24 258.336 1002.24 Q256.775 1002.24 254.988 1002.57 Q253.202 1002.91 251.058 1003.63 L251.058 1000.24 Q253.22 999.64 255.101 999.339 Q257.001 999.038 258.675 999.038 Q263.001 999.038 265.521 1001.01 Q268.041 1002.97 268.041 1006.32 Q268.041 1008.65 266.706 1010.27 Q265.37 1011.87 262.906 1012.49 Z\" fill=\"#000000\" fill-rule=\"evenodd\" fill-opacity=\"1\" /><path clip-path=\"url(#clip060)\" d=\"M51.6634 636.777 L59.3023 636.777 L59.3023 610.412 L50.9921 612.079 L50.9921 607.819 L59.256 606.153 L63.9319 606.153 L63.9319 636.777 L71.5707 636.777 L71.5707 640.713 L51.6634 640.713 L51.6634 636.777 Z\" fill=\"#000000\" fill-rule=\"evenodd\" fill-opacity=\"1\" /><path clip-path=\"url(#clip060)\" d=\"M81.0151 634.833 L85.8993 634.833 L85.8993 640.713 L81.0151 640.713 L81.0151 634.833 Z\" fill=\"#000000\" fill-rule=\"evenodd\" fill-opacity=\"1\" /><path clip-path=\"url(#clip060)\" d=\"M106.084 609.231 Q102.473 609.231 100.645 612.796 Q98.8391 616.338 98.8391 623.467 Q98.8391 630.574 100.645 634.139 Q102.473 637.68 106.084 637.68 Q109.719 637.68 111.524 634.139 Q113.353 630.574 113.353 623.467 Q113.353 616.338 111.524 612.796 Q109.719 609.231 106.084 609.231 M106.084 605.528 Q111.895 605.528 114.95 610.134 Q118.029 614.717 118.029 623.467 Q118.029 632.194 114.95 636.801 Q111.895 641.384 106.084 641.384 Q100.274 641.384 97.1956 636.801 Q94.14 632.194 94.14 623.467 Q94.14 614.717 97.1956 610.134 Q100.274 605.528 106.084 605.528 Z\" fill=\"#000000\" fill-rule=\"evenodd\" fill-opacity=\"1\" /><path clip-path=\"url(#clip060)\" d=\"M136.246 609.231 Q132.635 609.231 130.807 612.796 Q129.001 616.338 129.001 623.467 Q129.001 630.574 130.807 634.139 Q132.635 637.68 136.246 637.68 Q139.881 637.68 141.686 634.139 Q143.515 630.574 143.515 623.467 Q143.515 616.338 141.686 612.796 Q139.881 609.231 136.246 609.231 M136.246 605.528 Q142.056 605.528 145.112 610.134 Q148.191 614.717 148.191 623.467 Q148.191 632.194 145.112 636.801 Q142.056 641.384 136.246 641.384 Q130.436 641.384 127.357 636.801 Q124.302 632.194 124.302 623.467 Q124.302 614.717 127.357 610.134 Q130.436 605.528 136.246 605.528 Z\" fill=\"#000000\" fill-rule=\"evenodd\" fill-opacity=\"1\" /><path clip-path=\"url(#clip060)\" d=\"M184.579 615.25 L174.001 625.875 L184.579 636.453 L181.825 639.254 L171.2 628.629 L160.575 639.254 L157.843 636.453 L168.399 625.875 L157.843 615.25 L160.575 612.449 L171.2 623.074 L181.825 612.449 L184.579 615.25 Z\" fill=\"#000000\" fill-rule=\"evenodd\" fill-opacity=\"1\" /><path clip-path=\"url(#clip060)\" d=\"M196.94 636.777 L204.579 636.777 L204.579 610.412 L196.269 612.079 L196.269 607.819 L204.533 606.153 L209.209 606.153 L209.209 636.777 L216.848 636.777 L216.848 640.713 L196.94 640.713 L196.94 636.777 Z\" fill=\"#000000\" fill-rule=\"evenodd\" fill-opacity=\"1\" /><path clip-path=\"url(#clip060)\" d=\"M236.292 609.231 Q232.681 609.231 230.852 612.796 Q229.047 616.338 229.047 623.467 Q229.047 630.574 230.852 634.139 Q232.681 637.68 236.292 637.68 Q239.926 637.68 241.732 634.139 Q243.561 630.574 243.561 623.467 Q243.561 616.338 241.732 612.796 Q239.926 609.231 236.292 609.231 M236.292 605.528 Q242.102 605.528 245.158 610.134 Q248.236 614.717 248.236 623.467 Q248.236 632.194 245.158 636.801 Q242.102 641.384 236.292 641.384 Q230.482 641.384 227.403 636.801 Q224.348 632.194 224.348 623.467 Q224.348 614.717 227.403 610.134 Q230.482 605.528 236.292 605.528 Z\" fill=\"#000000\" fill-rule=\"evenodd\" fill-opacity=\"1\" /><path clip-path=\"url(#clip060)\" d=\"M260.913 588.532 L251.321 603.522 L260.913 603.522 L260.913 588.532 M259.916 585.222 L264.693 585.222 L264.693 603.522 L268.699 603.522 L268.699 606.682 L264.693 606.682 L264.693 613.302 L260.913 613.302 L260.913 606.682 L248.236 606.682 L248.236 603.014 L259.916 585.222 Z\" fill=\"#000000\" fill-rule=\"evenodd\" fill-opacity=\"1\" /><path clip-path=\"url(#clip060)\" d=\"M51.6634 222.454 L59.3023 222.454 L59.3023 196.088 L50.9921 197.755 L50.9921 193.495 L59.256 191.829 L63.9319 191.829 L63.9319 222.454 L71.5707 222.454 L71.5707 226.389 L51.6634 226.389 L51.6634 222.454 Z\" fill=\"#000000\" fill-rule=\"evenodd\" fill-opacity=\"1\" /><path clip-path=\"url(#clip060)\" d=\"M81.0151 220.509 L85.8993 220.509 L85.8993 226.389 L81.0151 226.389 L81.0151 220.509 Z\" fill=\"#000000\" fill-rule=\"evenodd\" fill-opacity=\"1\" /><path clip-path=\"url(#clip060)\" d=\"M96.1308 191.829 L114.487 191.829 L114.487 195.764 L100.413 195.764 L100.413 204.236 Q101.432 203.889 102.45 203.727 Q103.469 203.542 104.487 203.542 Q110.274 203.542 113.654 206.713 Q117.033 209.884 117.033 215.301 Q117.033 220.88 113.561 223.981 Q110.089 227.06 103.77 227.06 Q101.594 227.06 99.3252 226.69 Q97.0798 226.319 94.6724 225.579 L94.6724 220.88 Q96.7558 222.014 98.978 222.569 Q101.2 223.125 103.677 223.125 Q107.682 223.125 110.02 221.018 Q112.358 218.912 112.358 215.301 Q112.358 211.69 110.02 209.583 Q107.682 207.477 103.677 207.477 Q101.802 207.477 99.927 207.893 Q98.0752 208.31 96.1308 209.19 L96.1308 191.829 Z\" fill=\"#000000\" fill-rule=\"evenodd\" fill-opacity=\"1\" /><path clip-path=\"url(#clip060)\" d=\"M136.246 194.907 Q132.635 194.907 130.807 198.472 Q129.001 202.014 129.001 209.143 Q129.001 216.25 130.807 219.815 Q132.635 223.356 136.246 223.356 Q139.881 223.356 141.686 219.815 Q143.515 216.25 143.515 209.143 Q143.515 202.014 141.686 198.472 Q139.881 194.907 136.246 194.907 M136.246 191.204 Q142.056 191.204 145.112 195.81 Q148.191 200.394 148.191 209.143 Q148.191 217.87 145.112 222.477 Q142.056 227.06 136.246 227.06 Q130.436 227.06 127.357 222.477 Q124.302 217.87 124.302 209.143 Q124.302 200.394 127.357 195.81 Q130.436 191.204 136.246 191.204 Z\" fill=\"#000000\" fill-rule=\"evenodd\" fill-opacity=\"1\" /><path clip-path=\"url(#clip060)\" d=\"M184.579 200.926 L174.001 211.551 L184.579 222.129 L181.825 224.93 L171.2 214.305 L160.575 224.93 L157.843 222.129 L168.399 211.551 L157.843 200.926 L160.575 198.125 L171.2 208.75 L181.825 198.125 L184.579 200.926 Z\" fill=\"#000000\" fill-rule=\"evenodd\" fill-opacity=\"1\" /><path clip-path=\"url(#clip060)\" d=\"M196.94 222.454 L204.579 222.454 L204.579 196.088 L196.269 197.755 L196.269 193.495 L204.533 191.829 L209.209 191.829 L209.209 222.454 L216.848 222.454 L216.848 226.389 L196.94 226.389 L196.94 222.454 Z\" fill=\"#000000\" fill-rule=\"evenodd\" fill-opacity=\"1\" /><path clip-path=\"url(#clip060)\" d=\"M236.292 194.907 Q232.681 194.907 230.852 198.472 Q229.047 202.014 229.047 209.143 Q229.047 216.25 230.852 219.815 Q232.681 223.356 236.292 223.356 Q239.926 223.356 241.732 219.815 Q243.561 216.25 243.561 209.143 Q243.561 202.014 241.732 198.472 Q239.926 194.907 236.292 194.907 M236.292 191.204 Q242.102 191.204 245.158 195.81 Q248.236 200.394 248.236 209.143 Q248.236 217.87 245.158 222.477 Q242.102 227.06 236.292 227.06 Q230.482 227.06 227.403 222.477 Q224.348 217.87 224.348 209.143 Q224.348 200.394 227.403 195.81 Q230.482 191.204 236.292 191.204 Z\" fill=\"#000000\" fill-rule=\"evenodd\" fill-opacity=\"1\" /><path clip-path=\"url(#clip060)\" d=\"M260.913 174.208 L251.321 189.198 L260.913 189.198 L260.913 174.208 M259.916 170.898 L264.693 170.898 L264.693 189.198 L268.699 189.198 L268.699 192.358 L264.693 192.358 L264.693 198.978 L260.913 198.978 L260.913 192.358 L248.236 192.358 L248.236 188.69 L259.916 170.898 Z\" fill=\"#000000\" fill-rule=\"evenodd\" fill-opacity=\"1\" /><polyline clip-path=\"url(#clip062)\" style=\"stroke:#009af9; stroke-linecap:butt; stroke-linejoin:round; stroke-width:4; stroke-opacity:1; fill:none\" points=\"\n",
       "  362.663,1445.72 749.089,1445.63 1135.51,1445.55 1521.94,1435.03 1908.37,1264.41 2294.79,87.9763 \n",
       "  \"/>\n",
       "<polyline clip-path=\"url(#clip062)\" style=\"stroke:#e26f46; stroke-linecap:butt; stroke-linejoin:round; stroke-width:4; stroke-opacity:1; fill:none\" points=\"\n",
       "  362.663,1445.72 749.089,1445.63 1135.51,1445.55 1521.94,1435.03 1908.37,1264.41 2294.79,87.9763 \n",
       "  \"/>\n",
       "<polyline clip-path=\"url(#clip062)\" style=\"stroke:#3da44d; stroke-linecap:butt; stroke-linejoin:round; stroke-width:4; stroke-opacity:1; fill:none\" points=\"\n",
       "  362.663,1445.72 749.089,1445.63 1135.51,1445.55 1521.94,1435.03 1908.37,1264.41 2294.79,87.9763 \n",
       "  \"/>\n",
       "<path clip-path=\"url(#clip060)\" d=\"\n",
       "M1821.49 302.578 L2284.49 302.578 L2284.49 95.2176 L1821.49 95.2176  Z\n",
       "  \" fill=\"#ffffff\" fill-rule=\"evenodd\" fill-opacity=\"1\"/>\n",
       "<polyline clip-path=\"url(#clip060)\" style=\"stroke:#000000; stroke-linecap:butt; stroke-linejoin:round; stroke-width:4; stroke-opacity:1; fill:none\" points=\"\n",
       "  1821.49,302.578 2284.49,302.578 2284.49,95.2176 1821.49,95.2176 1821.49,302.578 \n",
       "  \"/>\n",
       "<polyline clip-path=\"url(#clip060)\" style=\"stroke:#009af9; stroke-linecap:butt; stroke-linejoin:round; stroke-width:4; stroke-opacity:1; fill:none\" points=\"\n",
       "  1844.24,147.058 1980.78,147.058 \n",
       "  \"/>\n",
       "<path clip-path=\"url(#clip060)\" d=\"M2019.55 132.949 Q2014.46 132.949 2011.45 136.745 Q2008.47 140.541 2008.47 147.092 Q2008.47 153.62 2011.45 157.416 Q2014.46 161.213 2019.55 161.213 Q2024.65 161.213 2027.61 157.416 Q2030.6 153.62 2030.6 147.092 Q2030.6 140.541 2027.61 136.745 Q2024.65 132.949 2019.55 132.949 M2019.55 129.153 Q2026.82 129.153 2031.18 134.037 Q2035.53 138.898 2035.53 147.092 Q2035.53 155.264 2031.18 160.148 Q2026.82 165.009 2019.55 165.009 Q2012.26 165.009 2007.89 160.148 Q2003.54 155.287 2003.54 147.092 Q2003.54 138.898 2007.89 134.037 Q2012.26 129.153 2019.55 129.153 Z\" fill=\"#000000\" fill-rule=\"evenodd\" fill-opacity=\"1\" /><path clip-path=\"url(#clip060)\" d=\"M2057.68 142.393 Q2056.96 141.977 2056.11 141.791 Q2055.27 141.583 2054.25 141.583 Q2050.64 141.583 2048.7 143.944 Q2046.78 146.282 2046.78 150.68 L2046.78 164.338 L2042.49 164.338 L2042.49 138.412 L2046.78 138.412 L2046.78 142.44 Q2048.12 140.078 2050.27 138.944 Q2052.43 137.787 2055.5 137.787 Q2055.94 137.787 2056.48 137.856 Q2057.01 137.903 2057.66 138.018 L2057.68 142.393 Z\" fill=\"#000000\" fill-rule=\"evenodd\" fill-opacity=\"1\" /><path clip-path=\"url(#clip060)\" d=\"M2062.15 138.412 L2066.41 138.412 L2066.41 164.338 L2062.15 164.338 L2062.15 138.412 M2062.15 128.319 L2066.41 128.319 L2066.41 133.713 L2062.15 133.713 L2062.15 128.319 Z\" fill=\"#000000\" fill-rule=\"evenodd\" fill-opacity=\"1\" /><path clip-path=\"url(#clip060)\" d=\"M2092.38 151.074 Q2092.38 146.444 2090.46 143.898 Q2088.56 141.352 2085.11 141.352 Q2081.68 141.352 2079.76 143.898 Q2077.86 146.444 2077.86 151.074 Q2077.86 155.68 2079.76 158.226 Q2081.68 160.773 2085.11 160.773 Q2088.56 160.773 2090.46 158.226 Q2092.38 155.68 2092.38 151.074 M2096.64 161.12 Q2096.64 167.74 2093.7 170.958 Q2090.76 174.199 2084.69 174.199 Q2082.45 174.199 2080.46 173.851 Q2078.47 173.527 2076.59 172.833 L2076.59 168.689 Q2078.47 169.708 2080.3 170.194 Q2082.12 170.68 2084.02 170.68 Q2088.21 170.68 2090.3 168.481 Q2092.38 166.305 2092.38 161.884 L2092.38 159.777 Q2091.06 162.069 2089 163.203 Q2086.94 164.338 2084.07 164.338 Q2079.3 164.338 2076.38 160.703 Q2073.47 157.069 2073.47 151.074 Q2073.47 145.055 2076.38 141.421 Q2079.3 137.787 2084.07 137.787 Q2086.94 137.787 2089 138.921 Q2091.06 140.055 2092.38 142.347 L2092.38 138.412 L2096.64 138.412 L2096.64 161.12 Z\" fill=\"#000000\" fill-rule=\"evenodd\" fill-opacity=\"1\" /><path clip-path=\"url(#clip060)\" d=\"M2105.41 138.412 L2109.67 138.412 L2109.67 164.338 L2105.41 164.338 L2105.41 138.412 M2105.41 128.319 L2109.67 128.319 L2109.67 133.713 L2105.41 133.713 L2105.41 128.319 Z\" fill=\"#000000\" fill-rule=\"evenodd\" fill-opacity=\"1\" /><path clip-path=\"url(#clip060)\" d=\"M2140.13 148.689 L2140.13 164.338 L2135.87 164.338 L2135.87 148.828 Q2135.87 145.148 2134.44 143.319 Q2133 141.49 2130.13 141.49 Q2126.68 141.49 2124.69 143.69 Q2122.7 145.889 2122.7 149.685 L2122.7 164.338 L2118.42 164.338 L2118.42 138.412 L2122.7 138.412 L2122.7 142.44 Q2124.23 140.102 2126.29 138.944 Q2128.37 137.787 2131.08 137.787 Q2135.55 137.787 2137.84 140.565 Q2140.13 143.319 2140.13 148.689 Z\" fill=\"#000000\" fill-rule=\"evenodd\" fill-opacity=\"1\" /><path clip-path=\"url(#clip060)\" d=\"M2160.41 151.305 Q2155.25 151.305 2153.26 152.486 Q2151.27 153.666 2151.27 156.514 Q2151.27 158.782 2152.75 160.125 Q2154.25 161.444 2156.82 161.444 Q2160.36 161.444 2162.49 158.944 Q2164.65 156.421 2164.65 152.254 L2164.65 151.305 L2160.41 151.305 M2168.91 149.546 L2168.91 164.338 L2164.65 164.338 L2164.65 160.402 Q2163.19 162.763 2161.01 163.898 Q2158.84 165.009 2155.69 165.009 Q2151.71 165.009 2149.35 162.787 Q2147.01 160.541 2147.01 156.791 Q2147.01 152.416 2149.92 150.194 Q2152.86 147.972 2158.67 147.972 L2164.65 147.972 L2164.65 147.555 Q2164.65 144.615 2162.7 143.018 Q2160.78 141.398 2157.29 141.398 Q2155.06 141.398 2152.96 141.93 Q2150.85 142.463 2148.91 143.527 L2148.91 139.592 Q2151.24 138.69 2153.44 138.25 Q2155.64 137.787 2157.73 137.787 Q2163.35 137.787 2166.13 140.703 Q2168.91 143.62 2168.91 149.546 Z\" fill=\"#000000\" fill-rule=\"evenodd\" fill-opacity=\"1\" /><path clip-path=\"url(#clip060)\" d=\"M2177.68 128.319 L2181.94 128.319 L2181.94 164.338 L2177.68 164.338 L2177.68 128.319 Z\" fill=\"#000000\" fill-rule=\"evenodd\" fill-opacity=\"1\" /><polyline clip-path=\"url(#clip060)\" style=\"stroke:#e26f46; stroke-linecap:butt; stroke-linejoin:round; stroke-width:4; stroke-opacity:1; fill:none\" points=\"\n",
       "  1844.24,198.898 1980.78,198.898 \n",
       "  \"/>\n",
       "<path clip-path=\"url(#clip060)\" d=\"M2003.54 181.618 L2025.39 181.618 L2025.39 185.553 L2008.21 185.553 L2008.21 195.784 L2024.67 195.784 L2024.67 199.719 L2008.21 199.719 L2008.21 212.242 L2025.8 212.242 L2025.8 216.178 L2003.54 216.178 L2003.54 181.618 Z\" fill=\"#000000\" fill-rule=\"evenodd\" fill-opacity=\"1\" /><path clip-path=\"url(#clip060)\" d=\"M2054.86 190.252 L2045.48 202.867 L2055.34 216.178 L2050.32 216.178 L2042.77 205.992 L2035.23 216.178 L2030.2 216.178 L2040.27 202.613 L2031.06 190.252 L2036.08 190.252 L2042.96 199.488 L2049.83 190.252 L2054.86 190.252 Z\" fill=\"#000000\" fill-rule=\"evenodd\" fill-opacity=\"1\" /><path clip-path=\"url(#clip060)\" d=\"M2065.48 212.289 L2065.48 226.039 L2061.2 226.039 L2061.2 190.252 L2065.48 190.252 L2065.48 194.187 Q2066.82 191.872 2068.86 190.761 Q2070.92 189.627 2073.77 189.627 Q2078.49 189.627 2081.43 193.377 Q2084.39 197.127 2084.39 203.238 Q2084.39 209.349 2081.43 213.099 Q2078.49 216.849 2073.77 216.849 Q2070.92 216.849 2068.86 215.738 Q2066.82 214.603 2065.48 212.289 M2079.97 203.238 Q2079.97 198.539 2078.03 195.877 Q2076.11 193.192 2072.73 193.192 Q2069.35 193.192 2067.4 195.877 Q2065.48 198.539 2065.48 203.238 Q2065.48 207.937 2067.4 210.622 Q2069.35 213.284 2072.73 213.284 Q2076.11 213.284 2078.03 210.622 Q2079.97 207.937 2079.97 203.238 Z\" fill=\"#000000\" fill-rule=\"evenodd\" fill-opacity=\"1\" /><path clip-path=\"url(#clip060)\" d=\"M2103.23 203.145 Q2098.07 203.145 2096.08 204.326 Q2094.09 205.506 2094.09 208.354 Q2094.09 210.622 2095.57 211.965 Q2097.08 213.284 2099.65 213.284 Q2103.19 213.284 2105.32 210.784 Q2107.47 208.261 2107.47 204.094 L2107.47 203.145 L2103.23 203.145 M2111.73 201.386 L2111.73 216.178 L2107.47 216.178 L2107.47 212.242 Q2106.01 214.603 2103.84 215.738 Q2101.66 216.849 2098.51 216.849 Q2094.53 216.849 2092.17 214.627 Q2089.83 212.381 2089.83 208.631 Q2089.83 204.256 2092.75 202.034 Q2095.69 199.812 2101.5 199.812 L2107.47 199.812 L2107.47 199.395 Q2107.47 196.455 2105.53 194.858 Q2103.61 193.238 2100.11 193.238 Q2097.89 193.238 2095.78 193.77 Q2093.67 194.303 2091.73 195.367 L2091.73 191.432 Q2094.07 190.53 2096.27 190.09 Q2098.47 189.627 2100.55 189.627 Q2106.17 189.627 2108.95 192.543 Q2111.73 195.46 2111.73 201.386 Z\" fill=\"#000000\" fill-rule=\"evenodd\" fill-opacity=\"1\" /><path clip-path=\"url(#clip060)\" d=\"M2142.05 200.529 L2142.05 216.178 L2137.79 216.178 L2137.79 200.668 Q2137.79 196.988 2136.36 195.159 Q2134.92 193.33 2132.05 193.33 Q2128.61 193.33 2126.61 195.53 Q2124.62 197.729 2124.62 201.525 L2124.62 216.178 L2120.34 216.178 L2120.34 190.252 L2124.62 190.252 L2124.62 194.28 Q2126.15 191.942 2128.21 190.784 Q2130.3 189.627 2133 189.627 Q2137.47 189.627 2139.76 192.405 Q2142.05 195.159 2142.05 200.529 Z\" fill=\"#000000\" fill-rule=\"evenodd\" fill-opacity=\"1\" /><path clip-path=\"url(#clip060)\" d=\"M2167.08 191.016 L2167.08 195.043 Q2165.27 194.117 2163.33 193.655 Q2161.38 193.192 2159.3 193.192 Q2156.13 193.192 2154.53 194.164 Q2152.96 195.136 2152.96 197.08 Q2152.96 198.562 2154.09 199.418 Q2155.23 200.252 2158.65 201.016 L2160.11 201.34 Q2164.65 202.312 2166.54 204.094 Q2168.47 205.854 2168.47 209.025 Q2168.47 212.636 2165.6 214.742 Q2162.75 216.849 2157.75 216.849 Q2155.67 216.849 2153.4 216.432 Q2151.15 216.039 2148.65 215.228 L2148.65 210.83 Q2151.01 212.057 2153.3 212.682 Q2155.6 213.284 2157.84 213.284 Q2160.85 213.284 2162.47 212.266 Q2164.09 211.224 2164.09 209.349 Q2164.09 207.613 2162.91 206.687 Q2161.75 205.761 2157.79 204.904 L2156.31 204.557 Q2152.36 203.724 2150.6 202.011 Q2148.84 200.275 2148.84 197.266 Q2148.84 193.608 2151.43 191.618 Q2154.02 189.627 2158.79 189.627 Q2161.15 189.627 2163.23 189.974 Q2165.32 190.321 2167.08 191.016 Z\" fill=\"#000000\" fill-rule=\"evenodd\" fill-opacity=\"1\" /><path clip-path=\"url(#clip060)\" d=\"M2175.25 190.252 L2179.51 190.252 L2179.51 216.178 L2175.25 216.178 L2175.25 190.252 M2175.25 180.159 L2179.51 180.159 L2179.51 185.553 L2175.25 185.553 L2175.25 180.159 Z\" fill=\"#000000\" fill-rule=\"evenodd\" fill-opacity=\"1\" /><path clip-path=\"url(#clip060)\" d=\"M2198.47 193.238 Q2195.04 193.238 2193.05 195.923 Q2191.06 198.585 2191.06 203.238 Q2191.06 207.891 2193.03 210.576 Q2195.02 213.238 2198.47 213.238 Q2201.87 213.238 2203.86 210.553 Q2205.85 207.867 2205.85 203.238 Q2205.85 198.631 2203.86 195.946 Q2201.87 193.238 2198.47 193.238 M2198.47 189.627 Q2204.02 189.627 2207.19 193.238 Q2210.36 196.849 2210.36 203.238 Q2210.36 209.604 2207.19 213.238 Q2204.02 216.849 2198.47 216.849 Q2192.89 216.849 2189.72 213.238 Q2186.57 209.604 2186.57 203.238 Q2186.57 196.849 2189.72 193.238 Q2192.89 189.627 2198.47 189.627 Z\" fill=\"#000000\" fill-rule=\"evenodd\" fill-opacity=\"1\" /><path clip-path=\"url(#clip060)\" d=\"M2238.97 200.529 L2238.97 216.178 L2234.72 216.178 L2234.72 200.668 Q2234.72 196.988 2233.28 195.159 Q2231.85 193.33 2228.98 193.33 Q2225.53 193.33 2223.54 195.53 Q2221.54 197.729 2221.54 201.525 L2221.54 216.178 L2217.26 216.178 L2217.26 190.252 L2221.54 190.252 L2221.54 194.28 Q2223.07 191.942 2225.13 190.784 Q2227.22 189.627 2229.92 189.627 Q2234.39 189.627 2236.68 192.405 Q2238.97 195.159 2238.97 200.529 Z\" fill=\"#000000\" fill-rule=\"evenodd\" fill-opacity=\"1\" /><polyline clip-path=\"url(#clip060)\" style=\"stroke:#3da44d; stroke-linecap:butt; stroke-linejoin:round; stroke-width:4; stroke-opacity:1; fill:none\" points=\"\n",
       "  1844.24,250.738 1980.78,250.738 \n",
       "  \"/>\n",
       "<path clip-path=\"url(#clip060)\" d=\"M2003.54 233.458 L2008.21 233.458 L2008.21 247.624 L2025.2 247.624 L2025.2 233.458 L2029.88 233.458 L2029.88 268.018 L2025.2 268.018 L2025.2 251.559 L2008.21 251.559 L2008.21 268.018 L2003.54 268.018 L2003.54 233.458 Z\" fill=\"#000000\" fill-rule=\"evenodd\" fill-opacity=\"1\" /><path clip-path=\"url(#clip060)\" d=\"M2049.05 245.078 Q2045.62 245.078 2043.63 247.763 Q2041.64 250.425 2041.64 255.078 Q2041.64 259.731 2043.61 262.416 Q2045.6 265.078 2049.05 265.078 Q2052.45 265.078 2054.44 262.393 Q2056.43 259.707 2056.43 255.078 Q2056.43 250.471 2054.44 247.786 Q2052.45 245.078 2049.05 245.078 M2049.05 241.467 Q2054.6 241.467 2057.77 245.078 Q2060.94 248.689 2060.94 255.078 Q2060.94 261.444 2057.77 265.078 Q2054.6 268.689 2049.05 268.689 Q2043.47 268.689 2040.3 265.078 Q2037.15 261.444 2037.15 255.078 Q2037.15 248.689 2040.3 245.078 Q2043.47 241.467 2049.05 241.467 Z\" fill=\"#000000\" fill-rule=\"evenodd\" fill-opacity=\"1\" /><path clip-path=\"url(#clip060)\" d=\"M2083.03 246.073 Q2082.31 245.657 2081.45 245.471 Q2080.62 245.263 2079.6 245.263 Q2075.99 245.263 2074.05 247.624 Q2072.12 249.962 2072.12 254.36 L2072.12 268.018 L2067.84 268.018 L2067.84 242.092 L2072.12 242.092 L2072.12 246.12 Q2073.47 243.758 2075.62 242.624 Q2077.77 241.467 2080.85 241.467 Q2081.29 241.467 2081.82 241.536 Q2082.36 241.583 2083 241.698 L2083.03 246.073 Z\" fill=\"#000000\" fill-rule=\"evenodd\" fill-opacity=\"1\" /><path clip-path=\"url(#clip060)\" d=\"M2108.21 252.369 L2108.21 268.018 L2103.95 268.018 L2103.95 252.508 Q2103.95 248.828 2102.52 246.999 Q2101.08 245.17 2098.21 245.17 Q2094.76 245.17 2092.77 247.37 Q2090.78 249.569 2090.78 253.365 L2090.78 268.018 L2086.5 268.018 L2086.5 242.092 L2090.78 242.092 L2090.78 246.12 Q2092.31 243.782 2094.37 242.624 Q2096.45 241.467 2099.16 241.467 Q2103.63 241.467 2105.92 244.245 Q2108.21 246.999 2108.21 252.369 Z\" fill=\"#000000\" fill-rule=\"evenodd\" fill-opacity=\"1\" /><path clip-path=\"url(#clip060)\" d=\"M2138.88 253.99 L2138.88 256.073 L2119.3 256.073 Q2119.58 260.471 2121.94 262.786 Q2124.32 265.078 2128.56 265.078 Q2131.01 265.078 2133.3 264.476 Q2135.62 263.874 2137.89 262.67 L2137.89 266.698 Q2135.6 267.67 2133.19 268.18 Q2130.78 268.689 2128.3 268.689 Q2122.1 268.689 2118.47 265.078 Q2114.86 261.467 2114.86 255.309 Q2114.86 248.944 2118.28 245.217 Q2121.73 241.467 2127.56 241.467 Q2132.79 241.467 2135.83 244.846 Q2138.88 248.203 2138.88 253.99 M2134.62 252.74 Q2134.58 249.245 2132.66 247.161 Q2130.76 245.078 2127.61 245.078 Q2124.05 245.078 2121.89 247.092 Q2119.76 249.106 2119.44 252.763 L2134.62 252.74 Z\" fill=\"#000000\" fill-rule=\"evenodd\" fill-opacity=\"1\" /><path clip-path=\"url(#clip060)\" d=\"M2160.9 246.073 Q2160.18 245.657 2159.32 245.471 Q2158.49 245.263 2157.47 245.263 Q2153.86 245.263 2151.92 247.624 Q2149.99 249.962 2149.99 254.36 L2149.99 268.018 L2145.71 268.018 L2145.71 242.092 L2149.99 242.092 L2149.99 246.12 Q2151.34 243.758 2153.49 242.624 Q2155.64 241.467 2158.72 241.467 Q2159.16 241.467 2159.69 241.536 Q2160.23 241.583 2160.87 241.698 L2160.9 246.073 Z\" fill=\"#000000\" fill-rule=\"evenodd\" fill-opacity=\"1\" /></svg>\n"
      ]
     },
     "execution_count": 109,
     "metadata": {},
     "output_type": "execute_result"
    }
   ],
   "source": [
    "using Plots\n",
    "x = 0:5\n",
    "plot(x,(x.-1).^7,label=\"Original\")\n",
    "plot!(x,x.^7-7*(x.^6)+21*(x.^5)-35*(x.^4)+35*(x.^3)-21*(x.^2)+7*x.-1,label=\"Expansion\")\n",
    "plot!(x,((((((((((((x.-7).*x).+21).*x).-35).*x).+35).*x).-21).*x).+7).*x).-1,label=\"Horner\")"
   ]
  },
  {
   "cell_type": "markdown",
   "id": "b8dd3442",
   "metadata": {},
   "source": [
    "En este caso en particular (el de un polinomio) la razón para preferir el esquema de Horner es que para ciertos valores, elevarlos a potencias medianamente altas puede perturbar mucho su valor para valores cercanos, y a la hora de restar, se modifica una vez más este valor. \n",
    "La ventaja que tiene el esquema de Horner sobre la forma original (sin expansión), es que cada vez que se resta sobre x en la forma de Horner, se hace con un valor diferente, de tal manera que si el valor de x es cercano a $1$, o a alguno de los otros valores que se restan, la diferencia de redondeo se puede compensar con el resto de operaciones.\n",
    "La ventaja que tiene el esquema de Horner sobre la forma expandida es que no se eleva x a potencias muy altas, lo cual puede modificar mucho el valor de redondeo para x pequeños, o para x grandes."
   ]
  },
  {
   "cell_type": "markdown",
   "id": "8d9fe7ec",
   "metadata": {
    "id": "I28slkSm9nBN"
   },
   "source": [
    "# Referencias\n",
    "\n",
    "\n",
    "\n",
    "\n",
    "*   Sullivan, Eric. Numerical Methods: An Inquiry-Based Approach With Python. 2020.\n",
    "*   Bulirsch, Roland, Josef Stoer, and J. Stoer. Introduction to numerical analysis. Vol. 3. Heidelberg: Springer, 2002.\n",
    "*  Stewart, Gilbert W. Afternotes on numerical analysis. Society for Industrial and Applied Mathematics, 1996.\n",
    "*  Quarteroni, Alfio, Fausto Saleri, and Paola Gervasio. Scientific computing with MATLAB and Octave. Vol. 3. Berlin: Springer, 2006.\n",
    "* Estándar de la IEEE\n",
    "* Low Precision Floating-Point Formats: The Wild West of Computer Arithmetic\n",
    "https://sinews.siam.org/Details-Page/low-precision-floating-point-formats-the-wild-west-of-computer-arithmetic\n",
    "* What Every Computer Scientist Should Know About Floating-Point Arithmetic, by David Goldberg, published in the March, 1991 issue of Computing Surveys. \n",
    "* Modern Computer Arithmetic: Richard P. Brent and Paul Zimmermann\n",
    "https://docs.oracle.com/cd/E19957-01/806-3568/ncgTOC.html\n",
    "* Goodfellow, Ian, Yoshua Bengio, and Aaron Courville. \"Deep learning book.\" MIT Press 521.7553 (2016): 800. Chapter Numerical Computations https://www.deeplearningbook.org/contents/numerical.html"
   ]
  }
 ],
 "metadata": {
  "kernelspec": {
   "display_name": "Julia 1.7.2",
   "language": "julia",
   "name": "julia-1.7"
  },
  "language_info": {
   "file_extension": ".jl",
   "mimetype": "application/julia",
   "name": "julia",
   "version": "1.7.2"
  }
 },
 "nbformat": 4,
 "nbformat_minor": 5
}
