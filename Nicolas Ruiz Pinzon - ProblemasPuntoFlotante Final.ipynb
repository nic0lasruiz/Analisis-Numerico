{
 "cells": [
  {
   "cell_type": "markdown",
   "id": "c573cf17",
   "metadata": {
    "id": "IO6TXkoyL1OO"
   },
   "source": [
    "     Taller desarrollado por Nicolás Ruiz Pinzón\n",
    "     Análisis Numérico I\n",
    "     Profesor: Juan Galvis"
   ]
  },
  {
   "cell_type": "markdown",
   "id": "053eae28",
   "metadata": {
    "id": "nWxxD_YZ1Ni-"
   },
   "source": [
    "# Problemas"
   ]
  },
  {
   "cell_type": "markdown",
   "id": "8860149f",
   "metadata": {},
   "source": [
    "**PROBLEMA 1** ¿Cuánta memoria requiere guardar 100.000 números de punto flotante de precisión doble?¿Cuánta memoria requiere guardar una matriz de números de punto flotante dimensión 100.000 x 100.000?"
   ]
  },
  {
   "cell_type": "markdown",
   "id": "b31b608a",
   "metadata": {},
   "source": [
    "Debido a que cada número de punto flotante de precisión doble requiere 64 bits o 8 bytes de memoria, vemos que se necesitan"
   ]
  },
  {
   "cell_type": "code",
   "execution_count": 1,
   "id": "395cff64",
   "metadata": {},
   "outputs": [
    {
     "name": "stdout",
     "output_type": "stream",
     "text": [
      "6400000 bits o 800000 bytes de memoria para guardar 100.000 números en precisión doble.\n"
     ]
    }
   ],
   "source": [
    "a=100000*64\n",
    "b=100000*8\n",
    "println(\"$a bits o $b bytes de memoria para guardar 100.000 números en precisión doble.\")"
   ]
  },
  {
   "cell_type": "markdown",
   "id": "6cc120e3",
   "metadata": {},
   "source": [
    "Aplicando el mismo razonamiento, se ve que se necestian"
   ]
  },
  {
   "cell_type": "code",
   "execution_count": 3,
   "id": "fbc730da",
   "metadata": {},
   "outputs": [
    {
     "name": "stdout",
     "output_type": "stream",
     "text": [
      "640000000000 bits o 80000000000 bytes de memoria para guardar una matriz de números dee punto flotante de dimensión   100.000x100.000\n"
     ]
    }
   ],
   "source": [
    "c=(100000^2)*64\n",
    "d=(100000^2)*8\n",
    "println(\"$c bits o $d bytes de memoria para guardar una matriz de números dee punto flotante de dimensión   100.000x100.000\")"
   ]
  },
  {
   "cell_type": "markdown",
   "id": "5582752f",
   "metadata": {},
   "source": [
    "**PROBLEMA 2(Sullivan)** Con $x_0=1/10$, considere la sucesión,  \n",
    "$$\n",
    "x_{n+1}=\\left\\{\\begin{array}{ll}\n",
    "2x_n & \\mbox{ si } x_n\\in \\left[0,\\frac{1}{2}\\right] \\\\\n",
    "2x_n-1 &  \\mbox{ si } x_n\\in \\left(\\frac{1}{2},1\\right].\n",
    "\\end{array}\\right.\n",
    "$$\n",
    "para $n=1,2,\\dots$. Calcule $x_1,x_2,x_3,\\dots,x_{50}$ de forma análitica y despues usando un código en Julia. Compare y explique.\n",
    "\n",
    "Repetir pero ahora iniciando con $x_0=1/8$. Compare y explique. \n"
   ]
  },
  {
   "cell_type": "markdown",
   "id": "afa04e45",
   "metadata": {},
   "source": [
    "De forma analítica se puede verificar que los primeros 6 números de la sucesión, después del valor inicial, son los siguientes:\n",
    "$$x_1=2*(1/10)=1/5$$ $$x_2=2*(1/5)=2/5$$ $$x_3=2*(2/5)=4/5$$ $$x_4=2*(4/5)-1=3/5$$ $$x_5=2*(3/5)-1=1/5$$\n",
    "\n",
    "De manera que desde $x_5$ necesariamente se deben repetir los mismos números de la sucesión, inciando por x_1. Así, es cierto que \n",
    "$$x_a = 1/5 \\mbox{,   siempre que $a \\equiv 1(\\mbox{mod }4)$}$$\n",
    "$$x_b = 2/5 \\mbox{,   siempre que $b \\equiv 2(\\mbox{mod }4)$}$$\n",
    "$$x_c = 4/5 \\mbox{,   siempre que $c \\equiv 3(\\mbox{mod }4)$}$$\n",
    "$$x_d = 3/5 \\mbox{,   siempre que $d \\equiv 4(\\mbox{mod }4)$}$$\n",
    "\n",
    "Ahora lo calculamos numéricamente:"
   ]
  },
  {
   "cell_type": "code",
   "execution_count": 2,
   "id": "0f8d419c",
   "metadata": {},
   "outputs": [
    {
     "name": "stdout",
     "output_type": "stream",
     "text": [
      "0.2\n",
      "0.4\n",
      "0.8\n",
      "0.6000000000000001\n",
      "0.20000000000000018\n",
      "0.40000000000000036\n",
      "0.8000000000000007\n",
      "0.6000000000000014\n",
      "0.20000000000000284\n",
      "0.4000000000000057\n",
      "0.8000000000000114\n",
      "0.6000000000000227\n",
      "0.20000000000004547\n",
      "0.40000000000009095\n",
      "0.8000000000001819\n",
      "0.6000000000003638\n",
      "0.2000000000007276\n",
      "0.4000000000014552\n",
      "0.8000000000029104\n",
      "0.6000000000058208\n",
      "0.20000000001164153\n",
      "0.40000000002328306\n",
      "0.8000000000465661\n",
      "0.6000000000931323\n",
      "0.20000000018626451\n",
      "0.40000000037252903\n",
      "0.8000000007450581\n",
      "0.6000000014901161\n",
      "0.20000000298023224\n",
      "0.4000000059604645\n",
      "0.800000011920929\n",
      "0.6000000238418579\n",
      "0.20000004768371582\n",
      "0.40000009536743164\n",
      "0.8000001907348633\n",
      "0.6000003814697266\n",
      "0.20000076293945312\n",
      "0.40000152587890625\n",
      "0.8000030517578125\n",
      "0.600006103515625\n",
      "0.20001220703125\n",
      "0.4000244140625\n",
      "0.800048828125\n",
      "0.60009765625\n",
      "0.2001953125\n",
      "0.400390625\n",
      "0.80078125\n",
      "0.6015625\n",
      "0.203125\n",
      "0.40625\n"
     ]
    }
   ],
   "source": [
    "x=1/10\n",
    "i=1\n",
    "xn=0\n",
    "while i<=50\n",
    "if (x>=0)&&(x<=1/2)\n",
    "    xn=2*x\n",
    "    elseif (x>1/2)&&(x<=1)\n",
    "        xn=2*x - 1\n",
    "    end\n",
    "println(xn)\n",
    "i+=1\n",
    "x=xn\n",
    "end"
   ]
  },
  {
   "cell_type": "markdown",
   "id": "ce653890",
   "metadata": {},
   "source": [
    "Calculando numéricamente, se puede observar que en el valor de $x_4$ hay una ligera perturbación en el valor de la variable. La razón de lo anterior es que siendo el valor anterior a este $x_3=0.8$, en base binaria, se tiene que \n",
    "$$x_3=0.8=(0.110011001100...)_2$$\n",
    "Teniendo en cuenta que el número máximo de bits para un número en precisión doble es de 52, el último dígito de la mantisa (sin redondeo) sería igual a 1, y el siguiente dígito que no queda en la mantisa, también sería igual a 1. Por lo tanto, para trucar el número, la máquina hace un redondeo y suma $2x10^{-52}$ al número original, lo que nos da el resultado con la ligera perturbación para $x_3$.\n",
    "De ahí en adelante, por ese trucamiento, todos los números son distintos a aquellos que calculamos analíticamente, y debido a la gran cantidad de restas que se tienen que hacer hasta llegar a $x_50$, el resultado final ya llega con una variación mucho más grande."
   ]
  },
  {
   "cell_type": "markdown",
   "id": "6320fbe4",
   "metadata": {},
   "source": [
    "Ahora repetimos para $x_0 = 1/8$\n",
    "Calculamos analíticamente y obtenemos que:\n",
    "$x_1=1/4$, $x_2=1/2$, $x_3=1=x_4=x_5=...=x_{50}$.\n",
    "\n",
    "Y ahora numéricamente:"
   ]
  },
  {
   "cell_type": "code",
   "execution_count": 3,
   "id": "dcde1788",
   "metadata": {},
   "outputs": [
    {
     "name": "stdout",
     "output_type": "stream",
     "text": [
      "0.25\n",
      "0.5\n",
      "1.0\n",
      "1.0\n",
      "1.0\n",
      "1.0\n",
      "1.0\n",
      "1.0\n",
      "1.0\n",
      "1.0\n",
      "1.0\n",
      "1.0\n",
      "1.0\n",
      "1.0\n",
      "1.0\n",
      "1.0\n",
      "1.0\n",
      "1.0\n",
      "1.0\n",
      "1.0\n",
      "1.0\n",
      "1.0\n",
      "1.0\n",
      "1.0\n",
      "1.0\n",
      "1.0\n",
      "1.0\n",
      "1.0\n",
      "1.0\n",
      "1.0\n",
      "1.0\n",
      "1.0\n",
      "1.0\n",
      "1.0\n",
      "1.0\n",
      "1.0\n",
      "1.0\n",
      "1.0\n",
      "1.0\n",
      "1.0\n",
      "1.0\n",
      "1.0\n",
      "1.0\n",
      "1.0\n",
      "1.0\n",
      "1.0\n",
      "1.0\n",
      "1.0\n",
      "1.0\n",
      "1.0\n"
     ]
    }
   ],
   "source": [
    "x=1/8\n",
    "i=1\n",
    "xn=0\n",
    "while i<=50\n",
    "if (x>=0)&&(x<=1/2)\n",
    "    xn=2*x\n",
    "    elseif (x>1/2)&&(x<=1)\n",
    "        xn=2*x - 1\n",
    "    end\n",
    "println(xn)\n",
    "i+=1\n",
    "x=xn\n",
    "end"
   ]
  },
  {
   "cell_type": "markdown",
   "id": "c6f98962",
   "metadata": {},
   "source": [
    "En este caso el resultado es exacto, debido a que no hay ninguna representación infinta en base 2, y no es necesario hacer ningún truncamiento. Además, las representaciones sob bastante cortas (no más de 3 decimales) con lo que no se pierde ninguna información.\n",
    "\n",
    "En efecto\n",
    "$$x_1=0.25=(0.01)_2$$ $$x_2=0.5=(0.1)_2$$ $$x_3=1.0=(1.0)_2$$"
   ]
  },
  {
   "cell_type": "markdown",
   "id": "dd9af06c",
   "metadata": {},
   "source": [
    "**PROBLEMA 3 (Goodfellow et. al.)** Escriba rutina que implemente la función \n",
    "$\n",
    "SF_{i}(x)=\\frac{\\exp\\left(x_{i}\\right)}{\\sum_{j=1}^{n}\\exp\\left(x_{j}\\right)}.$\n",
    "La rutina debe estar estabilizada para evitar desbordamiento por exceso. "
   ]
  },
  {
   "cell_type": "markdown",
   "id": "094af787",
   "metadata": {},
   "source": [
    "Se puede observar que, analíticamente, la función sigue siendo la misma si se suma o resta una constante a a las variables de los exponentes:\n",
    "\n",
    "$$\\frac{exp(x_i-c)}{\\sum_{j=1}^{n}exp(x_j-c)} = \\frac{exp(x_i)/exp(c)}{\\sum_{j=1}^{n}exp(x_j)/exp(c)} = \\frac{exp(x_i)}{\\sum_{j=1}^{n}exp(x_j)}$$\n",
    "\n",
    "Por lo tanto, si tenemos un vector $\\textbf{x}$, y su valor máximo igual a $max(\\textbf{x})$, entonces podemos evualuar la función sobre $\\textbf{t} = \\textbf{x} - max(\\textbf{x})$ que es equivalente a evualuarla sobre $\\textbf{x}$, donde $max(\\textbf{x})$ será el vector con el valor máximo de $\\textbf{x}$.\n",
    "\n",
    "La ventaja de hacer esto es que el vector resultante $\\textbf{t}$ tendrá como su valor más grande a 0, lo que quiere decir que no habrá desbordamiento por exceso, ya que así el valor máximo de un exponente será 1. Igualmente, habrá un valor igual a 1 en el denominados, con lo que no habrá desbordamiento por defecto tampoco en el denominador.\n",
    "\n",
    "Se puede implementar una rutina como sigue, comenzando con valores aleatorios:"
   ]
  },
  {
   "cell_type": "code",
   "execution_count": 116,
   "id": "75d57256",
   "metadata": {},
   "outputs": [
    {
     "data": {
      "text/plain": [
       "5.226798787516346"
      ]
     },
     "execution_count": 116,
     "metadata": {},
     "output_type": "execute_result"
    }
   ],
   "source": [
    "A=rand(3)\n",
    "x=maximum(A)\n",
    "z=rand(1)\n",
    "(exp(z[1])/exp(A[1]-x)+exp(A[2]-x)+exp(A[3]-x))"
   ]
  },
  {
   "cell_type": "markdown",
   "id": "faf310aa",
   "metadata": {
    "id": "GHEQSZR51SrE"
   },
   "source": [
    "\n",
    "**PROBLEMA 4(Stoer)** Ensaye calcular las funciones $$f(x)=\\sqrt{x^2+1}-1 \\quad g(x)=\\frac{x^2}{\\sqrt{x^2+1}+1}$$\n",
    "Use valores pequeños como $x=8^{-1},8^{-2},8^{-3},\\dots$. Explique los resultados. Note que, análiticamete,  $f(x)=g(x)$.\n"
   ]
  },
  {
   "cell_type": "code",
   "execution_count": 9,
   "id": "c1a08355",
   "metadata": {},
   "outputs": [
    {
     "name": "stdout",
     "output_type": "stream",
     "text": [
      "0.0077822185373186414 y 0.0077822185373187065\n",
      "0.00012206286282867573 y 0.00012206286282875901\n",
      "1.9073468138230965e-6 y 1.907346813826566e-6\n",
      "2.9802321943606103e-8 y 2.9802321943606116e-8\n",
      "4.656612873077393e-10 y 4.6566128719931904e-10\n",
      "7.275957614183426e-12 y 7.275957614156956e-12\n",
      "1.1368683772161603e-13 y 1.1368683772160957e-13\n",
      "1.7763568394002505e-15 y 1.7763568394002489e-15\n",
      "0.0 y 2.7755575615628914e-17\n",
      "0.0 y 4.336808689942018e-19\n",
      "0.0 y 6.776263578034403e-21\n",
      "0.0 y 1.0587911840678754e-22\n",
      "0.0 y 1.6543612251060553e-24\n",
      "0.0 y 2.5849394142282115e-26\n",
      "0.0 y 4.0389678347315804e-28\n",
      "0.0 y 6.310887241768095e-30\n",
      "0.0 y 9.860761315262648e-32\n",
      "0.0 y 1.5407439555097887e-33\n",
      "0.0 y 2.407412430484045e-35\n",
      "0.0 y 3.76158192263132e-37\n",
      "0.0 y 5.877471754111438e-39\n",
      "Inf y NaN\n",
      "Inf y NaN\n",
      "Inf y NaN\n",
      "Inf y NaN\n",
      "Inf y NaN\n",
      "Inf y NaN\n",
      "Inf y NaN\n",
      "Inf y NaN\n",
      "Inf y NaN\n",
      "Inf y NaN\n",
      "Inf y NaN\n",
      "Inf y NaN\n"
     ]
    }
   ],
   "source": [
    "function f(x)\n",
    "    sqrt(x^2 +1)-1\n",
    "end\n",
    "\n",
    "function g(x)\n",
    "    (x^2)/(sqrt(x^2 +1)+1)\n",
    "end\n",
    "\n",
    "i=1\n",
    "a=0\n",
    "while i<=33\n",
    "    a=f(1/(8^i))\n",
    "    b=g(1/(8^i))\n",
    "    println(a ,\" y \", b) \n",
    "    i+=1\n",
    "end"
   ]
  },
  {
   "cell_type": "markdown",
   "id": "44d00ee0",
   "metadata": {},
   "source": [
    "A pesar de ser analíticamente la misma función, $f(x)$ tiene una resta, la cual es problemática cada vez que el valor en raìz cuadrada es cercano a 1. Esto ocurre para valores de $x$ muy cercanos a 0, como los que tomamos al evaluar la función. Cada vez que $x$ se acerca más a 0, el valor en raíz cuadrada se acerca más a 1, excepto por unos pocos decimales. Esta parte decimal es cada vesz más pequeña, con lo que al restar con 1, se comienza a perder información al trucar el valor final, hasta que llega el punto en que no se puede representar el valor por defecto, y no obtenemos ninguna respuesta.\n",
    "\n",
    "En $g(x)$, en cambio, no hay ninguna resta, por lo que podemos seguir operando hasta valores muy pequeños, cercanos a $10^{-38}$."
   ]
  },
  {
   "cell_type": "markdown",
   "id": "733e8bb7",
   "metadata": {},
   "source": [
    "**PROBLEMA 5(Quarteroni,Saleri,Gervasio)** El lector puede implementar el calculo de la siguiente recurrencia que approxima $\\pi$ (formula de Franc,ois Viète) y estudiar su estabilidad/instabilidad numérica, \n",
    "$$z_1=2, \\,\\,z_{n+1}=2^{n-1/2}\\sqrt{1-\\sqrt{1-4^{1-n}z_n^2}},\\,\\,n=2,3,\\dots. $$\n"
   ]
  },
  {
   "cell_type": "code",
   "execution_count": 52,
   "id": "45a2ecfc",
   "metadata": {},
   "outputs": [
    {
     "name": "stdout",
     "output_type": "stream",
     "text": [
      "z_1 = 2\n",
      "z_2 = 2.8284271247461903\n",
      "z_3 = 3.0614674589207187\n",
      "z_4 = 3.121445152258053\n",
      "z_5 = 3.136548490545941\n",
      "z_6 = 3.140331156954739\n",
      "z_7 = 3.141277250932757\n",
      "z_8 = 3.1415138011441455\n",
      "z_9 = 3.1415729403678827\n",
      "z_10 = 3.141587725279961\n",
      "z_11 = 3.141591421504635\n",
      "z_12 = 3.141592345611077\n",
      "z_13 = 3.141592576545005\n",
      "z_14 = 3.1415926334632487\n",
      "z_15 = 3.1415926548075896\n",
      "z_16 = 3.1415926832667105\n",
      "z_17 = 3.1415927591577\n",
      "z_18 = 3.1415929109396727\n",
      "z_19 = 3.141594125195191\n",
      "z_20 = 3.1415965537048196\n",
      "z_21 = 3.1415965537048196\n",
      "z_22 = 3.1416742650217575\n",
      "z_23 = 3.141829681889201\n",
      "z_24 = 3.142451272494134\n",
      "z_25 = 3.142451272494134\n",
      "z_26 = 3.1622776601683795\n",
      "z_27 = 3.1622776601683795\n",
      "z_28 = 3.4641016151377544\n",
      "z_29 = 4.000000000000001\n",
      "z_30 = 8.000000000000002\n",
      "z_31 = 16.000000000000004\n",
      "z_32 = 32.00000000000001\n"
     ]
    },
    {
     "ename": "LoadError",
     "evalue": "DomainError with -Inf:\nsqrt will only return a complex result if called with a complex argument. Try sqrt(Complex(x)).",
     "output_type": "error",
     "traceback": [
      "DomainError with -Inf:\nsqrt will only return a complex result if called with a complex argument. Try sqrt(Complex(x)).",
      "",
      "Stacktrace:",
      " [1] throw_complex_domainerror(f::Symbol, x::Float64)",
      "   @ Base.Math ./math.jl:33",
      " [2] sqrt(x::Float64)",
      "   @ Base.Math ./math.jl:567",
      " [3] top-level scope",
      "   @ ./In[52]:5",
      " [4] eval",
      "   @ ./boot.jl:373 [inlined]",
      " [5] include_string(mapexpr::typeof(REPL.softscope), mod::Module, code::String, filename::String)",
      "   @ Base ./loading.jl:1196"
     ]
    }
   ],
   "source": [
    "z1 = 2\n",
    "println(\"z_1 = \", z1)\n",
    "i=2\n",
    "while i<=33\n",
    "    z = (2^(i-1/2))*sqrt(1-sqrt(1-(1/4^(i-1))*(z1^2)))\n",
    "    println(\"z_\",i,\" = \",z)\n",
    "    z1=z\n",
    "    i+=1\n",
    "end"
   ]
  },
  {
   "cell_type": "code",
   "execution_count": 51,
   "id": "abbadfa2",
   "metadata": {},
   "outputs": [
    {
     "name": "stdout",
     "output_type": "stream",
     "text": [
      "z_1 = 1.999\n",
      "z_2 = 2.783352189705755\n",
      "z_3 = 3.0029386822834194\n",
      "z_4 = 3.0593880330046455\n",
      "z_5 = 3.073598773533398\n",
      "z_6 = 3.077157630227034\n",
      "z_7 = 3.0780477304578406\n",
      "z_8 = 3.0782702796495522\n",
      "z_9 = 3.0783259184570517\n",
      "z_10 = 3.0783398282551446\n",
      "z_11 = 3.078343305691893\n",
      "z_12 = 3.078344175116647\n",
      "z_13 = 3.0783443923404357\n",
      "z_14 = 3.0783444461925704\n",
      "z_15 = 3.0783444631348145\n",
      "z_16 = 3.0783444631348145\n",
      "z_17 = 3.0783445018599442\n",
      "z_18 = 3.078344346959422\n",
      "z_19 = 3.07834558616338\n",
      "z_20 = 3.0783530213766506\n",
      "z_21 = 3.0783629349664086\n",
      "z_22 = 3.078402589006188\n",
      "z_23 = 3.078402589006188\n",
      "z_24 = 3.07967124868873\n",
      "z_25 = 3.082207001484489\n",
      "z_26 = 3.082207001484489\n",
      "z_27 = 3.1622776601683795\n",
      "z_28 = 3.4641016151377544\n",
      "z_29 = 4.000000000000001\n",
      "z_30 = 8.000000000000002\n",
      "z_31 = 16.000000000000004\n",
      "z_32 = 32.00000000000001\n"
     ]
    },
    {
     "ename": "LoadError",
     "evalue": "DomainError with -Inf:\nsqrt will only return a complex result if called with a complex argument. Try sqrt(Complex(x)).",
     "output_type": "error",
     "traceback": [
      "DomainError with -Inf:\nsqrt will only return a complex result if called with a complex argument. Try sqrt(Complex(x)).",
      "",
      "Stacktrace:",
      " [1] throw_complex_domainerror(f::Symbol, x::Float64)",
      "   @ Base.Math ./math.jl:33",
      " [2] sqrt(x::Float64)",
      "   @ Base.Math ./math.jl:567",
      " [3] top-level scope",
      "   @ ./In[51]:5",
      " [4] eval",
      "   @ ./boot.jl:373 [inlined]",
      " [5] include_string(mapexpr::typeof(REPL.softscope), mod::Module, code::String, filename::String)",
      "   @ Base ./loading.jl:1196"
     ]
    }
   ],
   "source": [
    "z1 = 1.999\n",
    "println(\"z_1 = \", z1)\n",
    "i=2\n",
    "while i<=33\n",
    "    z = (2^(i-1/2))*sqrt(1-sqrt(1-(1/4^(i-1))*(z1^2)))\n",
    "    println(\"z_\",i,\" = \",z)\n",
    "    z1=z\n",
    "    i+=1\n",
    "end"
   ]
  },
  {
   "cell_type": "markdown",
   "id": "b76fe676",
   "metadata": {},
   "source": [
    "Se observa que a partir de $x_{24}$ la exactitud ya es menor a 2 decimales, y a partir de $x_28$ el valor difiere en más de un 10%. Además, desde $x_{33}$ el valor ya no es un número real. Se puede decir también que es un algoritmo inestable debido a que no se puede evaluar para valores iniciales cuyo valor absoluto es superior a 2, ya que en ese caso se tendría que evaluar una raíz negativa. Además, para variaciones muy ligera en el valor inicial, es muy difícil que en algún momento llegue un valor cercano en un 1% al valor de $\\pi$, y esto se logra aproximadamente con un $z_1=1.999$, que es una variación de $\\epsilon=0.001$ respecto al valor original, lo que muestra que esun algoritmo inestable."
   ]
  },
  {
   "cell_type": "markdown",
   "id": "47a2e8fb",
   "metadata": {
    "id": "poKJfAr62xKi"
   },
   "source": [
    "**PROBLEMA 6(Stewart)** Implemente  la recurrencia $x_1=\\frac{1}{3}, x_2=\\frac{1}{12}$,  $x_{k+1}=2.25x_k-0.5x_{k-1}$. Explique los resultados. \n",
    "\n"
   ]
  },
  {
   "cell_type": "code",
   "execution_count": 8,
   "id": "33b66fc9",
   "metadata": {},
   "outputs": [
    {
     "name": "stdout",
     "output_type": "stream",
     "text": [
      "x_1 = 0.3333333333333333\n",
      "x_2 = 0.08333333333333333\n",
      "x_3 = 0.020833333333333343\n",
      "x_4 = 0.0052083333333333565\n",
      "x_5 = 0.0013020833333333807\n",
      "x_6 = 0.00032552083333342845\n",
      "x_7 = 8.138020833352365e-5\n",
      "x_8 = 2.034505208371398e-5\n",
      "x_9 = 5.0862630215946285e-6\n",
      "x_10 = 1.2715657567309247e-6\n",
      "x_11 = 3.1789144184726645e-7\n",
      "x_12 = 7.947286579088713e-8\n"
     ]
    }
   ],
   "source": [
    "x1 = 1/3\n",
    "x2 = 1/12\n",
    "println(\"x_1 = \",x1)\n",
    "println(\"x_2 = \",x2)\n",
    "i = 3\n",
    "while i<=12\n",
    "    x = (9/4)*x2 - (1/2)*x1\n",
    "    println(\"x_\",i ,\" = \",x)\n",
    "    x1 = x2\n",
    "    x2 = x\n",
    "    i+=1\n",
    "end"
   ]
  },
  {
   "cell_type": "markdown",
   "id": "12314070",
   "metadata": {},
   "source": [
    "Sin embargo, evaluando la recurrencia analíticamente, vemos que $x_n = (1/3)*(1/4^{n-1})$. Esto se puede probar por inducción:\n",
    "\n",
    "Para $n = 1$ es claro que se tiene la igualdad por como se nos dan los valores de la recurrencia.\n",
    "\n",
    "Ahora supongamos que se tiene para todos los $k\\leq n$. Probemos que la igualdad se tiene para $n+1$.\n",
    "Por la definición de la recurrencia:\n",
    "$$x_{n+1} = \\frac{9}{4}x_n -\\frac{9}{4}*x_{n-1}$$\n",
    "Reemplazando según la hipótesis de inducción, tendremos que\n",
    "$$x_{n+1} = \\frac{9}{4}(\\frac{1}{3*4^{n-1}}) - \\frac{1}{2}(\\frac{1}{3*4^{n-2}})$$\n",
    "y factorizando,\n",
    "$$x_{n+1} = \\frac{1}{4^{n-2}}(\\frac{3}{16}-\\frac{1}{6}) = \\frac{1}{3}*\\frac{1}{4^n}$$\n",
    "que es lo que se quería probar.\n",
    "\n",
    "Ahora, con este fórmula vamos a implementar una neuva rutina:"
   ]
  },
  {
   "cell_type": "code",
   "execution_count": 11,
   "id": "13b1dca0",
   "metadata": {},
   "outputs": [
    {
     "name": "stdout",
     "output_type": "stream",
     "text": [
      "x_1 = 0.3333333333333333\n",
      "x_2 = 0.08333333333333333\n",
      "x_3 = 0.020833333333333332\n",
      "x_4 = 0.005208333333333333\n",
      "x_5 = 0.0013020833333333333\n",
      "x_6 = 0.0003255208333333333\n",
      "x_7 = 8.138020833333333e-5\n",
      "x_8 = 2.0345052083333332e-5\n",
      "x_9 = 5.086263020833333e-6\n",
      "x_10 = 1.2715657552083333e-6\n",
      "x_11 = 3.178914388020833e-7\n",
      "x_12 = 7.947285970052083e-8\n"
     ]
    }
   ],
   "source": [
    "function f(x)\n",
    "    (1/3)*(1/4^x)\n",
    "end\n",
    "i=1\n",
    "while i<=12\n",
    "    println(\"x_\",i,\" = \",f(i-1))\n",
    "    i+=1\n",
    "end"
   ]
  },
  {
   "cell_type": "markdown",
   "id": "5a6dd0e1",
   "metadata": {},
   "source": [
    "Deberíamos esperar que nuestro segundo procedimiento nos diera los resultados más cercanos a los verdaderos, puesto que, aunque las dos fórmulas son equivalentes según se demostró, la primera de ellas, que está en forma de recurrencia, tiene que hacer un resta entre valores muy cercanos cada vez que debe calcular el siguiente valor, y esta diferencia disminuye cada vez más para cada nuevo valor, por un factor de $\\frac{1}{4^{k-1}}$ cada vez que se va a calcular el valor de de $x_{k+1}$, y ya conocemos que evaluar restas de valores muy cercanos es muy problemático a la hora de realizar el redondeo."
   ]
  },
  {
   "cell_type": "markdown",
   "id": "ec421256",
   "metadata": {
    "id": "nTJp3M3KDtgg"
   },
   "source": [
    "**PROBLEMA 7** En clase se describieron los tipos de datos Float16, Float32, Float64 y BigFloat\n",
    "De forma parecida describa (con ejemplos y usando utilidades como bitstring, typemax, etc)  los siguientes tipos: Int32, Int64, BigInt (BigInt no se enecuentra disponible en Julia por lo que se usará Int128). \n"
   ]
  },
  {
   "cell_type": "markdown",
   "id": "fde0296d",
   "metadata": {},
   "source": [
    "**Int32:**\n",
    "Este tipo de dato cuenta con 32 bits u 4 bytes. 1 bit está destinado al signo del número entero, mientras los 31 restantes están destinados al número mismo. En este caso, no hay ningún número normalizado, por lo que no se requieren bits para ningún exponente. Por lo tanto, el número más grande que se puede escribir en este formato es $2^{31}-1$ mientras que el menor número es $-2^{31}$, que son del orden de $10^{10}$, y puede representar un total de $2^{32}$ números enteros.\n",
    "Puesto que se trata de números enteros, no es necesario realizar ningún redondeo, ya que sólo admitirá los datos que pueda representar.\n",
    "\n",
    "Abajo se puede ver la cadena de bits del mayor y menor número que se pueden representar con Int32, como un ejemplo"
   ]
  },
  {
   "cell_type": "code",
   "execution_count": 9,
   "id": "226d6b2b",
   "metadata": {},
   "outputs": [
    {
     "name": "stdout",
     "output_type": "stream",
     "text": [
      "2147483647\n",
      "2147483647\n"
     ]
    }
   ],
   "source": [
    "println(typemax(Int32))\n",
    "println(2^(31)-1)"
   ]
  },
  {
   "cell_type": "code",
   "execution_count": 19,
   "id": "14c3bc01",
   "metadata": {},
   "outputs": [
    {
     "data": {
      "text/plain": [
       "\"00000000000000000000000000000010\""
      ]
     },
     "execution_count": 19,
     "metadata": {},
     "output_type": "execute_result"
    }
   ],
   "source": [
    "x=convert(Int32,2)\n",
    "bitstring(x)"
   ]
  },
  {
   "cell_type": "code",
   "execution_count": 7,
   "id": "401b8600",
   "metadata": {
    "scrolled": true
   },
   "outputs": [
    {
     "data": {
      "text/plain": [
       "\"01111111111111111111111111111111\""
      ]
     },
     "execution_count": 7,
     "metadata": {},
     "output_type": "execute_result"
    }
   ],
   "source": [
    "bitstring(typemax(Int32))"
   ]
  },
  {
   "cell_type": "code",
   "execution_count": 11,
   "id": "20305a9f",
   "metadata": {
    "scrolled": true
   },
   "outputs": [
    {
     "name": "stdout",
     "output_type": "stream",
     "text": [
      "-2147483648\n",
      "-2147483648\n"
     ]
    }
   ],
   "source": [
    "println(typemin(Int32))\n",
    "println(0-2^(31))"
   ]
  },
  {
   "cell_type": "code",
   "execution_count": 16,
   "id": "ca8835cf",
   "metadata": {},
   "outputs": [
    {
     "data": {
      "text/plain": [
       "\"1111111111111111111111111111111111111111111111111111111111111110\""
      ]
     },
     "execution_count": 16,
     "metadata": {},
     "output_type": "execute_result"
    }
   ],
   "source": [
    "bitstring(-2)"
   ]
  },
  {
   "cell_type": "code",
   "execution_count": 14,
   "id": "47edb3ff",
   "metadata": {},
   "outputs": [
    {
     "data": {
      "text/plain": [
       "\"10000000000000000000000000000000\""
      ]
     },
     "execution_count": 14,
     "metadata": {},
     "output_type": "execute_result"
    }
   ],
   "source": [
    "bitstring(typemin(Int32))"
   ]
  },
  {
   "cell_type": "markdown",
   "id": "ae9f3618",
   "metadata": {},
   "source": [
    "Se puede ver en el último arreglo de bits, que a los números negativos los trata distinto que a los positivos, haciendo que los valores de 0 cuenten como verdaderos, y los de 1 como falsos, en el caso de los números negativos para la mantisa del número."
   ]
  },
  {
   "cell_type": "markdown",
   "id": "b8c98add",
   "metadata": {},
   "source": [
    "**Int64:**\n",
    "Este tipo de dato cuenta con 64 bits u 8 bytes. 1 bit está destinado al signo del número entero, mientras los 63 restantes están destinados al número mismo. En este caso, no hay ningún número normalizado, por lo que no se requieren bits para ningún exponente. Por lo tanto, el número más grande que se puede escribir en este formato es $2^{63}-1$ mientras que el menor número es $-2^{63}$, que son del orden de $10^{19}$, y en total puede representar un total de $2^{64}$ números enteros.\n",
    "Puesto que se trata de números enteros, no es necesario realizar ningún redondeo, ya que sólo admitirá los datos que pueda representar. Este es el tipo de dato predeterminado para enteros en Julia.\n",
    "\n",
    "Abajo se puede ver la cadena de bits del mayor y menor número que se pueden representar con Int64, como un ejemplo"
   ]
  },
  {
   "cell_type": "code",
   "execution_count": 21,
   "id": "ba85f728",
   "metadata": {},
   "outputs": [
    {
     "name": "stdout",
     "output_type": "stream",
     "text": [
      "9223372036854775807\n",
      "9223372036854775807\n"
     ]
    }
   ],
   "source": [
    "println(typemax(Int64))\n",
    "println(2^(63)-1)"
   ]
  },
  {
   "cell_type": "code",
   "execution_count": 17,
   "id": "5ff8138a",
   "metadata": {
    "scrolled": true
   },
   "outputs": [
    {
     "data": {
      "text/plain": [
       "\"0000000000000000000000000000000000000000000000000000000000000010\""
      ]
     },
     "execution_count": 17,
     "metadata": {},
     "output_type": "execute_result"
    }
   ],
   "source": [
    "bitstring(2)"
   ]
  },
  {
   "cell_type": "code",
   "execution_count": 23,
   "id": "ab185a17",
   "metadata": {},
   "outputs": [
    {
     "data": {
      "text/plain": [
       "\"0111111111111111111111111111111111111111111111111111111111111111\""
      ]
     },
     "execution_count": 23,
     "metadata": {},
     "output_type": "execute_result"
    }
   ],
   "source": [
    "bitstring(typemax(Int64))"
   ]
  },
  {
   "cell_type": "code",
   "execution_count": 22,
   "id": "a9539f23",
   "metadata": {},
   "outputs": [
    {
     "name": "stdout",
     "output_type": "stream",
     "text": [
      "-9223372036854775808\n",
      "-9223372036854775808\n"
     ]
    }
   ],
   "source": [
    "println(typemin(Int64))\n",
    "println(-2^(63))"
   ]
  },
  {
   "cell_type": "code",
   "execution_count": 24,
   "id": "86349fda",
   "metadata": {},
   "outputs": [
    {
     "data": {
      "text/plain": [
       "\"1111111111111111111111111111111111111111111111111111111111111110\""
      ]
     },
     "execution_count": 24,
     "metadata": {},
     "output_type": "execute_result"
    }
   ],
   "source": [
    "bitstring(-2)"
   ]
  },
  {
   "cell_type": "code",
   "execution_count": 25,
   "id": "7528a8ff",
   "metadata": {},
   "outputs": [
    {
     "data": {
      "text/plain": [
       "\"1000000000000000000000000000000000000000000000000000000000000000\""
      ]
     },
     "execution_count": 25,
     "metadata": {},
     "output_type": "execute_result"
    }
   ],
   "source": [
    "bitstring(typemin(Int64))"
   ]
  },
  {
   "cell_type": "markdown",
   "id": "72b57ff0",
   "metadata": {},
   "source": [
    "**Int128:**\n",
    "Este tipo de dato cuenta con 128 bits u 16 bytes. 1 bit está destinado al signo del número entero, mientras los 127 restantes están destinados al número mismo. En este caso, no hay ningún número normalizado, por lo que no se requieren bits para ningún exponente. Por lo tanto, el número más grande que se puede escribir en este formato es $2^{127}-1$ mientras que el menor número es $-2^{127}$, que son del orden de $10^{39}$.\n",
    "Puesto que se trata de números enteros, no es necesario realizar ningún redondeo, ya que sólo admitirá los datos que pueda representar.\n",
    "\n",
    "Abajo se puede ver la cadena de bits del mayor y menor número que se pueden representar con Int128, como un ejemplo"
   ]
  },
  {
   "cell_type": "code",
   "execution_count": 48,
   "id": "f040b549",
   "metadata": {},
   "outputs": [
    {
     "name": "stdout",
     "output_type": "stream",
     "text": [
      "170141183460469231731687303715884105727\n"
     ]
    }
   ],
   "source": [
    "println(typemax(Int128))"
   ]
  },
  {
   "cell_type": "code",
   "execution_count": 49,
   "id": "2c26c6e4",
   "metadata": {},
   "outputs": [
    {
     "data": {
      "text/plain": [
       "\"01111111111111111111111111111111111111111111111111111111111111111111111111111111111111111111111111111111111111111111111111111111\""
      ]
     },
     "execution_count": 49,
     "metadata": {},
     "output_type": "execute_result"
    }
   ],
   "source": [
    "bitstring(typemax(Int128))"
   ]
  },
  {
   "cell_type": "code",
   "execution_count": 50,
   "id": "622c55eb",
   "metadata": {},
   "outputs": [
    {
     "name": "stdout",
     "output_type": "stream",
     "text": [
      "-170141183460469231731687303715884105728\n"
     ]
    }
   ],
   "source": [
    "println(typemin(Int128))"
   ]
  },
  {
   "cell_type": "code",
   "execution_count": 51,
   "id": "3c04a5bf",
   "metadata": {},
   "outputs": [
    {
     "data": {
      "text/plain": [
       "\"1000000000000000000000000000000000000000000000000000000000000000\""
      ]
     },
     "execution_count": 51,
     "metadata": {},
     "output_type": "execute_result"
    }
   ],
   "source": [
    "bitstring(typemin(128))"
   ]
  },
  {
   "cell_type": "markdown",
   "id": "7dc0ba27",
   "metadata": {},
   "source": [
    "**PROBLEMA 8 (Optional)** Investigar cómo usar las utilidades @time @btime y @benchmark. Mostrar ejemplos de su uso."
   ]
  },
  {
   "cell_type": "markdown",
   "id": "a40c5981",
   "metadata": {},
   "source": [
    "**@time**: Esta utilidad sirve para medir el tiempo que se necesita para implementar un función, al a vez que se ejecuta la función. También entrega el número de bytes de memoria que se ocuparon, y cuantas alocaciones se utilizaron para esos bytes.\n",
    "Por ejemplo (no necesariamente debe se utilizado al interior de una función:"
   ]
  },
  {
   "cell_type": "code",
   "execution_count": 65,
   "id": "9b0bd8d1",
   "metadata": {},
   "outputs": [
    {
     "name": "stdout",
     "output_type": "stream",
     "text": [
      "  0.000012 seconds (1 allocation: 80 bytes)\n"
     ]
    },
    {
     "data": {
      "text/plain": [
       "3-element Vector{Float64}:\n",
       " 0.39464570702119994\n",
       " 0.28575911874825405\n",
       " 0.1987940007708965"
      ]
     },
     "execution_count": 65,
     "metadata": {},
     "output_type": "execute_result"
    }
   ],
   "source": [
    "function f(x)\n",
    "    A=rand(x,x)\n",
    "    B=rand(x)\n",
    "    @time A*B\n",
    "end\n",
    "f(3)"
   ]
  },
  {
   "cell_type": "code",
   "execution_count": 84,
   "id": "603ea2a3",
   "metadata": {
    "scrolled": true
   },
   "outputs": [
    {
     "name": "stdout",
     "output_type": "stream",
     "text": [
      "  0.000054 seconds (1 allocation: 896 bytes)\n"
     ]
    },
    {
     "data": {
      "text/plain": [
       "100-element Vector{Float64}:\n",
       " 24.057625982218365\n",
       " 23.456867884322726\n",
       " 23.413243652784352\n",
       " 21.454805052736052\n",
       " 22.5890808777126\n",
       " 22.887218299182\n",
       " 27.048393685955272\n",
       " 22.823836693465676\n",
       " 22.998237442315766\n",
       " 21.846400425289822\n",
       " 25.33697935209707\n",
       " 24.067639744121877\n",
       " 22.7319829973864\n",
       "  ⋮\n",
       " 21.828145738451234\n",
       " 22.235090640600173\n",
       " 24.7287848317756\n",
       " 22.947354276974014\n",
       " 22.563338667069907\n",
       " 21.27711330557208\n",
       " 21.625374050420387\n",
       " 23.855033525196855\n",
       " 22.50803606021312\n",
       " 20.946221031500798\n",
       " 26.281466486120426\n",
       " 25.124353230506145"
      ]
     },
     "execution_count": 84,
     "metadata": {},
     "output_type": "execute_result"
    }
   ],
   "source": [
    "function f(x)\n",
    "    A=rand(x,x)\n",
    "    B=rand(x)\n",
    "    @time A*B\n",
    "end\n",
    "f(100)"
   ]
  },
  {
   "cell_type": "markdown",
   "id": "a2008de9",
   "metadata": {},
   "source": [
    "**@bitme:** Es análogo al @time que viene incorporado en Julia, peero hace uso de las utilidades de Benchmark, y el resultado esu na información mucho más exacta. Todas las utilidades incluidas en BenchmarkTools son medidores de rendimiento para Julia. Por ejemplo:"
   ]
  },
  {
   "cell_type": "code",
   "execution_count": 88,
   "id": "0a0bd903",
   "metadata": {},
   "outputs": [
    {
     "name": "stdout",
     "output_type": "stream",
     "text": [
      "  104.499 ns (1 allocation: 80 bytes)\n"
     ]
    },
    {
     "data": {
      "text/plain": [
       "3-element Vector{Float64}:\n",
       " 0.2985396191181392\n",
       " 0.5181706384459518\n",
       " 0.6248892454955947"
      ]
     },
     "execution_count": 88,
     "metadata": {},
     "output_type": "execute_result"
    }
   ],
   "source": [
    "using BenchmarkTools\n",
    "\n",
    "function f(x)\n",
    "    A=rand(x,x)\n",
    "    B=rand(x)\n",
    "    @btime ($A)*($B)\n",
    "end\n",
    "f(3)"
   ]
  },
  {
   "cell_type": "code",
   "execution_count": 90,
   "id": "25a4ea8c",
   "metadata": {},
   "outputs": [
    {
     "name": "stdout",
     "output_type": "stream",
     "text": [
      "  157.585 ns (1 allocation: 144 bytes)\n"
     ]
    },
    {
     "data": {
      "text/plain": [
       "10-element Vector{Float64}:\n",
       " 2.979867482080405\n",
       " 2.3158262287231564\n",
       " 1.7678442867552493\n",
       " 3.1840971272766327\n",
       " 2.5897669659747606\n",
       " 2.855758836322848\n",
       " 3.529220087883113\n",
       " 3.0451803890759575\n",
       " 2.66579653567223\n",
       " 2.400950961704479"
      ]
     },
     "execution_count": 90,
     "metadata": {},
     "output_type": "execute_result"
    }
   ],
   "source": [
    "using BenchmarkTools\n",
    "\n",
    "function f(x)\n",
    "    A=rand(x,x)\n",
    "    B=rand(x)\n",
    "    @btime ($A)*($B)\n",
    "end\n",
    "f(10)"
   ]
  },
  {
   "cell_type": "markdown",
   "id": "34d070dd",
   "metadata": {},
   "source": [
    "**@benchmark:** Es un medidor de rendimiento, que realiza las funciones de @btime y algunas más. El siguiente es un ejemplo tomado de https://juliaci.github.io/BenchmarkTools.jl/stable/"
   ]
  },
  {
   "cell_type": "code",
   "execution_count": 94,
   "id": "7ab488d5",
   "metadata": {},
   "outputs": [
    {
     "data": {
      "text/plain": [
       "BenchmarkTools.Trial: 10000 samples with 934 evaluations.\n",
       " Range \u001b[90m(\u001b[39m\u001b[36m\u001b[1mmin\u001b[22m\u001b[39m … \u001b[35mmax\u001b[39m\u001b[90m):  \u001b[39m\u001b[36m\u001b[1m104.985 ns\u001b[22m\u001b[39m … \u001b[35m100.885 μs\u001b[39m  \u001b[90m┊\u001b[39m GC \u001b[90m(\u001b[39mmin … max\u001b[90m): \u001b[39m 0.00% … 99.87%\n",
       " Time  \u001b[90m(\u001b[39m\u001b[34m\u001b[1mmedian\u001b[22m\u001b[39m\u001b[90m):     \u001b[39m\u001b[34m\u001b[1m128.279 ns               \u001b[22m\u001b[39m\u001b[90m┊\u001b[39m GC \u001b[90m(\u001b[39mmedian\u001b[90m):    \u001b[39m 0.00%\n",
       " Time  \u001b[90m(\u001b[39m\u001b[32m\u001b[1mmean\u001b[22m\u001b[39m ± \u001b[32mσ\u001b[39m\u001b[90m):   \u001b[39m\u001b[32m\u001b[1m264.474 ns\u001b[22m\u001b[39m ± \u001b[32m  3.215 μs\u001b[39m  \u001b[90m┊\u001b[39m GC \u001b[90m(\u001b[39mmean ± σ\u001b[90m):  \u001b[39m51.00% ±  5.18%\n",
       "\n",
       "  \u001b[39m \u001b[39m \u001b[39m \u001b[39m \u001b[39m \u001b[39m \u001b[39m \u001b[39m \u001b[39m \u001b[39m \u001b[39m▂\u001b[39m▄\u001b[39m▆\u001b[39m▅\u001b[39m▇\u001b[39m█\u001b[39m▇\u001b[39m█\u001b[39m█\u001b[39m▇\u001b[39m▇\u001b[34m█\u001b[39m\u001b[39m█\u001b[39m▆\u001b[39m▆\u001b[39m▆\u001b[39m▅\u001b[39m▆\u001b[39m▇\u001b[39m▆\u001b[39m▂\u001b[39m \u001b[39m \u001b[39m \u001b[39m \u001b[39m \u001b[39m \u001b[39m \u001b[39m \u001b[39m \u001b[39m \u001b[39m \u001b[39m \u001b[39m \u001b[39m \u001b[39m \u001b[39m \u001b[39m \u001b[39m \u001b[39m \u001b[39m \u001b[39m \u001b[39m \u001b[39m \u001b[39m \u001b[39m \u001b[39m \u001b[39m \u001b[39m \u001b[39m \u001b[39m \u001b[39m \u001b[39m \n",
       "  \u001b[39m▁\u001b[39m▁\u001b[39m▁\u001b[39m▁\u001b[39m▂\u001b[39m▃\u001b[39m▄\u001b[39m▄\u001b[39m▅\u001b[39m▇\u001b[39m█\u001b[39m█\u001b[39m█\u001b[39m█\u001b[39m█\u001b[39m█\u001b[39m█\u001b[39m█\u001b[39m█\u001b[39m█\u001b[39m█\u001b[34m█\u001b[39m\u001b[39m█\u001b[39m█\u001b[39m█\u001b[39m█\u001b[39m█\u001b[39m█\u001b[39m█\u001b[39m█\u001b[39m█\u001b[39m▆\u001b[39m▄\u001b[39m▄\u001b[39m▃\u001b[39m▂\u001b[39m▂\u001b[39m▂\u001b[39m▂\u001b[39m▂\u001b[39m▂\u001b[39m▂\u001b[39m▂\u001b[39m▂\u001b[39m▂\u001b[39m▂\u001b[39m▂\u001b[39m▂\u001b[39m▂\u001b[39m▂\u001b[39m▂\u001b[39m▂\u001b[39m▂\u001b[39m▂\u001b[39m▂\u001b[39m▂\u001b[39m▂\u001b[39m▂\u001b[39m▁\u001b[39m▁\u001b[39m▁\u001b[39m \u001b[39m▄\n",
       "  105 ns\u001b[90m           Histogram: frequency by time\u001b[39m          172 ns \u001b[0m\u001b[1m<\u001b[22m\n",
       "\n",
       " Memory estimate\u001b[90m: \u001b[39m\u001b[33m144 bytes\u001b[39m, allocs estimate\u001b[90m: \u001b[39m\u001b[33m1\u001b[39m."
      ]
     },
     "execution_count": 94,
     "metadata": {},
     "output_type": "execute_result"
    }
   ],
   "source": [
    "using BenchmarkTools\n",
    "\n",
    "@benchmark sort(data) setup=(data=rand(10))"
   ]
  },
  {
   "cell_type": "markdown",
   "id": "c452f7c9",
   "metadata": {},
   "source": [
    "Se puede observar que mide el mismo rendimiento que @btime, pero lo ahce para el cualquier cálculo involucrado en lo que sea que se desee implementar, incluyendo el número de evaluaciones realizadas, y al finalizar nos da el total de memoria utilizada para la implementación."
   ]
  },
  {
   "cell_type": "markdown",
   "id": "77b05845",
   "metadata": {},
   "source": [
    "**PROBLEMA 9** Use Plots para graficar $P(x)=(x-1)^7$. Agregar a la figura el cálculo de $P(x)$ usando la expansión en potencias y también la forma de Horner \n",
    "$$  P(x)= ((((((x-7)x+21)x-35)x+35)x-21)x+7)x-1. $$ \n",
    "Verifique esta última fórmula. Para la gráfica use un intervalo pequeño de la forma $[1-\\alpha,1+\\alpha]$ con $\\alpha$ del orden de $10^{-2}$ y $10^{-3}$. Implemente y comente los resultados. Esta forma de calcular polinomios es conocida como el esquema de Horner y es la forma recomendada para evaluar polinomios. Explique la motivación  de esta recomendación. \n",
    "\n"
   ]
  },
  {
   "cell_type": "markdown",
   "id": "1dcd52cc",
   "metadata": {},
   "source": [
    "El polinomio se puede expandir utilizando el binomio de Newton, y así obtenemos que\n",
    "$$P(x) = (x-1)^7 = x^7 - 7x^6 +21x^5 - 35x^4 + 35x^3 - 21x^2 + 7x -1$$\n",
    "\n",
    "Desde aquí es sencillo obtener el polinomio bajo el esquema de Horner, por sucesivas factorizaciones de potencias de $x$:\n",
    "\n",
    "$$\\begin{split}\n",
    "x^7 - 7x^6 +21x^5 - 35x^4 + 35x^3 - 21x^2 + 7x -1 \n",
    "&= (x-7)x^6+21x^5 - 35x^4 + 35x^3 - 21x^2 + 7x -1 \\\\\n",
    "&= ((x-7)x+21)x^5 - 35x^4 + 35x^3 - 21x^2 + 7x -1 \\\\\n",
    "&= (((x-7)x+21)x-35)x^4 + 35x^3 - 21x^2 + 7x -1 \\\\\n",
    "&= ((((x-7)x+21)x-35)x+35)x^3 - 21x^2 + 7x -1 \\\\\n",
    "&= (((((x-7)x+21)x-35)x+35)x-21)x^2 +7x -1 \\\\\n",
    "&= ((((((x-7)x+21)x-35)x+35)x-21)x+7)x-1\n",
    "\\end{split} $$\n",
    "\n",
    "Ahora graficamos las tres versiones que hemos dado del mismo polinomio.\n"
   ]
  },
  {
   "cell_type": "code",
   "execution_count": 100,
   "id": "61698300",
   "metadata": {},
   "outputs": [
    {
     "data": {
      "image/svg+xml": [
       "<?xml version=\"1.0\" encoding=\"utf-8\"?>\n",
       "<svg xmlns=\"http://www.w3.org/2000/svg\" xmlns:xlink=\"http://www.w3.org/1999/xlink\" width=\"600\" height=\"400\" viewBox=\"0 0 2400 1600\">\n",
       "<defs>\n",
       "  <clipPath id=\"clip820\">\n",
       "    <rect x=\"0\" y=\"0\" width=\"2400\" height=\"1600\"/>\n",
       "  </clipPath>\n",
       "</defs>\n",
       "<path clip-path=\"url(#clip820)\" d=\"\n",
       "M0 1600 L2400 1600 L2400 0 L0 0  Z\n",
       "  \" fill=\"#ffffff\" fill-rule=\"evenodd\" fill-opacity=\"1\"/>\n",
       "<defs>\n",
       "  <clipPath id=\"clip821\">\n",
       "    <rect x=\"480\" y=\"0\" width=\"1681\" height=\"1600\"/>\n",
       "  </clipPath>\n",
       "</defs>\n",
       "<path clip-path=\"url(#clip820)\" d=\"\n",
       "M369.025 1486.45 L2352.76 1486.45 L2352.76 47.2441 L369.025 47.2441  Z\n",
       "  \" fill=\"#ffffff\" fill-rule=\"evenodd\" fill-opacity=\"1\"/>\n",
       "<defs>\n",
       "  <clipPath id=\"clip822\">\n",
       "    <rect x=\"369\" y=\"47\" width=\"1985\" height=\"1440\"/>\n",
       "  </clipPath>\n",
       "</defs>\n",
       "<polyline clip-path=\"url(#clip822)\" style=\"stroke:#000000; stroke-linecap:butt; stroke-linejoin:round; stroke-width:2; stroke-opacity:0.1; fill:none\" points=\"\n",
       "  425.168,1486.45 425.168,47.2441 \n",
       "  \"/>\n",
       "<polyline clip-path=\"url(#clip822)\" style=\"stroke:#000000; stroke-linecap:butt; stroke-linejoin:round; stroke-width:2; stroke-opacity:0.1; fill:none\" points=\"\n",
       "  893.029,1486.45 893.029,47.2441 \n",
       "  \"/>\n",
       "<polyline clip-path=\"url(#clip822)\" style=\"stroke:#000000; stroke-linecap:butt; stroke-linejoin:round; stroke-width:2; stroke-opacity:0.1; fill:none\" points=\"\n",
       "  1360.89,1486.45 1360.89,47.2441 \n",
       "  \"/>\n",
       "<polyline clip-path=\"url(#clip822)\" style=\"stroke:#000000; stroke-linecap:butt; stroke-linejoin:round; stroke-width:2; stroke-opacity:0.1; fill:none\" points=\"\n",
       "  1828.75,1486.45 1828.75,47.2441 \n",
       "  \"/>\n",
       "<polyline clip-path=\"url(#clip822)\" style=\"stroke:#000000; stroke-linecap:butt; stroke-linejoin:round; stroke-width:2; stroke-opacity:0.1; fill:none\" points=\"\n",
       "  2296.61,1486.45 2296.61,47.2441 \n",
       "  \"/>\n",
       "<polyline clip-path=\"url(#clip820)\" style=\"stroke:#000000; stroke-linecap:butt; stroke-linejoin:round; stroke-width:4; stroke-opacity:1; fill:none\" points=\"\n",
       "  369.025,1486.45 2352.76,1486.45 \n",
       "  \"/>\n",
       "<polyline clip-path=\"url(#clip820)\" style=\"stroke:#000000; stroke-linecap:butt; stroke-linejoin:round; stroke-width:4; stroke-opacity:1; fill:none\" points=\"\n",
       "  425.168,1486.45 425.168,1467.55 \n",
       "  \"/>\n",
       "<polyline clip-path=\"url(#clip820)\" style=\"stroke:#000000; stroke-linecap:butt; stroke-linejoin:round; stroke-width:4; stroke-opacity:1; fill:none\" points=\"\n",
       "  893.029,1486.45 893.029,1467.55 \n",
       "  \"/>\n",
       "<polyline clip-path=\"url(#clip820)\" style=\"stroke:#000000; stroke-linecap:butt; stroke-linejoin:round; stroke-width:4; stroke-opacity:1; fill:none\" points=\"\n",
       "  1360.89,1486.45 1360.89,1467.55 \n",
       "  \"/>\n",
       "<polyline clip-path=\"url(#clip820)\" style=\"stroke:#000000; stroke-linecap:butt; stroke-linejoin:round; stroke-width:4; stroke-opacity:1; fill:none\" points=\"\n",
       "  1828.75,1486.45 1828.75,1467.55 \n",
       "  \"/>\n",
       "<polyline clip-path=\"url(#clip820)\" style=\"stroke:#000000; stroke-linecap:butt; stroke-linejoin:round; stroke-width:4; stroke-opacity:1; fill:none\" points=\"\n",
       "  2296.61,1486.45 2296.61,1467.55 \n",
       "  \"/>\n",
       "<path clip-path=\"url(#clip820)\" d=\"M357.31 1517.37 Q353.699 1517.37 351.87 1520.93 Q350.064 1524.47 350.064 1531.6 Q350.064 1538.71 351.87 1542.27 Q353.699 1545.82 357.31 1545.82 Q360.944 1545.82 362.749 1542.27 Q364.578 1538.71 364.578 1531.6 Q364.578 1524.47 362.749 1520.93 Q360.944 1517.37 357.31 1517.37 M357.31 1513.66 Q363.12 1513.66 366.175 1518.27 Q369.254 1522.85 369.254 1531.6 Q369.254 1540.33 366.175 1544.94 Q363.12 1549.52 357.31 1549.52 Q351.5 1549.52 348.421 1544.94 Q345.365 1540.33 345.365 1531.6 Q345.365 1522.85 348.421 1518.27 Q351.5 1513.66 357.31 1513.66 Z\" fill=\"#000000\" fill-rule=\"evenodd\" fill-opacity=\"1\" /><path clip-path=\"url(#clip820)\" d=\"M377.472 1542.97 L382.356 1542.97 L382.356 1548.85 L377.472 1548.85 L377.472 1542.97 Z\" fill=\"#000000\" fill-rule=\"evenodd\" fill-opacity=\"1\" /><path clip-path=\"url(#clip820)\" d=\"M392.68 1548.13 L392.68 1543.87 Q394.439 1544.7 396.245 1545.14 Q398.05 1545.58 399.786 1545.58 Q404.416 1545.58 406.846 1542.48 Q409.3 1539.36 409.647 1533.01 Q408.305 1535.01 406.245 1536.07 Q404.184 1537.13 401.684 1537.13 Q396.499 1537.13 393.467 1534.01 Q390.458 1530.86 390.458 1525.42 Q390.458 1520.1 393.606 1516.88 Q396.754 1513.66 401.985 1513.66 Q407.981 1513.66 411.129 1518.27 Q414.3 1522.85 414.3 1531.6 Q414.3 1539.77 410.411 1544.66 Q406.546 1549.52 399.995 1549.52 Q398.235 1549.52 396.43 1549.17 Q394.624 1548.82 392.68 1548.13 M401.985 1533.48 Q405.133 1533.48 406.962 1531.32 Q408.814 1529.17 408.814 1525.42 Q408.814 1521.7 406.962 1519.54 Q405.133 1517.37 401.985 1517.37 Q398.837 1517.37 396.985 1519.54 Q395.157 1521.7 395.157 1525.42 Q395.157 1529.17 396.985 1531.32 Q398.837 1533.48 401.985 1533.48 Z\" fill=\"#000000\" fill-rule=\"evenodd\" fill-opacity=\"1\" /><path clip-path=\"url(#clip820)\" d=\"M422.842 1548.13 L422.842 1543.87 Q424.601 1544.7 426.407 1545.14 Q428.212 1545.58 429.948 1545.58 Q434.578 1545.58 437.008 1542.48 Q439.462 1539.36 439.809 1533.01 Q438.467 1535.01 436.406 1536.07 Q434.346 1537.13 431.846 1537.13 Q426.661 1537.13 423.629 1534.01 Q420.62 1530.86 420.62 1525.42 Q420.62 1520.1 423.768 1516.88 Q426.916 1513.66 432.147 1513.66 Q438.143 1513.66 441.291 1518.27 Q444.462 1522.85 444.462 1531.6 Q444.462 1539.77 440.573 1544.66 Q436.707 1549.52 430.156 1549.52 Q428.397 1549.52 426.592 1549.17 Q424.786 1548.82 422.842 1548.13 M432.147 1533.48 Q435.295 1533.48 437.124 1531.32 Q438.976 1529.17 438.976 1525.42 Q438.976 1521.7 437.124 1519.54 Q435.295 1517.37 432.147 1517.37 Q428.999 1517.37 427.147 1519.54 Q425.319 1521.7 425.319 1525.42 Q425.319 1529.17 427.147 1531.32 Q428.999 1533.48 432.147 1533.48 Z\" fill=\"#000000\" fill-rule=\"evenodd\" fill-opacity=\"1\" /><path clip-path=\"url(#clip820)\" d=\"M453.004 1548.13 L453.004 1543.87 Q454.763 1544.7 456.568 1545.14 Q458.374 1545.58 460.11 1545.58 Q464.74 1545.58 467.17 1542.48 Q469.624 1539.36 469.971 1533.01 Q468.629 1535.01 466.568 1536.07 Q464.508 1537.13 462.008 1537.13 Q456.823 1537.13 453.791 1534.01 Q450.781 1530.86 450.781 1525.42 Q450.781 1520.1 453.93 1516.88 Q457.078 1513.66 462.309 1513.66 Q468.304 1513.66 471.453 1518.27 Q474.624 1522.85 474.624 1531.6 Q474.624 1539.77 470.735 1544.66 Q466.869 1549.52 460.318 1549.52 Q458.559 1549.52 456.754 1549.17 Q454.948 1548.82 453.004 1548.13 M462.309 1533.48 Q465.457 1533.48 467.286 1531.32 Q469.138 1529.17 469.138 1525.42 Q469.138 1521.7 467.286 1519.54 Q465.457 1517.37 462.309 1517.37 Q459.161 1517.37 457.309 1519.54 Q455.48 1521.7 455.48 1525.42 Q455.48 1529.17 457.309 1531.32 Q459.161 1533.48 462.309 1533.48 Z\" fill=\"#000000\" fill-rule=\"evenodd\" fill-opacity=\"1\" /><path clip-path=\"url(#clip820)\" d=\"M493.027 1517.37 Q489.415 1517.37 487.587 1520.93 Q485.781 1524.47 485.781 1531.6 Q485.781 1538.71 487.587 1542.27 Q489.415 1545.82 493.027 1545.82 Q496.661 1545.82 498.466 1542.27 Q500.295 1538.71 500.295 1531.6 Q500.295 1524.47 498.466 1520.93 Q496.661 1517.37 493.027 1517.37 M493.027 1513.66 Q498.837 1513.66 501.892 1518.27 Q504.971 1522.85 504.971 1531.6 Q504.971 1540.33 501.892 1544.94 Q498.837 1549.52 493.027 1549.52 Q487.216 1549.52 484.138 1544.94 Q481.082 1540.33 481.082 1531.6 Q481.082 1522.85 484.138 1518.27 Q487.216 1513.66 493.027 1513.66 Z\" fill=\"#000000\" fill-rule=\"evenodd\" fill-opacity=\"1\" /><path clip-path=\"url(#clip820)\" d=\"M825.668 1517.37 Q822.057 1517.37 820.229 1520.93 Q818.423 1524.47 818.423 1531.6 Q818.423 1538.71 820.229 1542.27 Q822.057 1545.82 825.668 1545.82 Q829.303 1545.82 831.108 1542.27 Q832.937 1538.71 832.937 1531.6 Q832.937 1524.47 831.108 1520.93 Q829.303 1517.37 825.668 1517.37 M825.668 1513.66 Q831.479 1513.66 834.534 1518.27 Q837.613 1522.85 837.613 1531.6 Q837.613 1540.33 834.534 1544.94 Q831.479 1549.52 825.668 1549.52 Q819.858 1549.52 816.78 1544.94 Q813.724 1540.33 813.724 1531.6 Q813.724 1522.85 816.78 1518.27 Q819.858 1513.66 825.668 1513.66 Z\" fill=\"#000000\" fill-rule=\"evenodd\" fill-opacity=\"1\" /><path clip-path=\"url(#clip820)\" d=\"M845.83 1542.97 L850.715 1542.97 L850.715 1548.85 L845.83 1548.85 L845.83 1542.97 Z\" fill=\"#000000\" fill-rule=\"evenodd\" fill-opacity=\"1\" /><path clip-path=\"url(#clip820)\" d=\"M861.039 1548.13 L861.039 1543.87 Q862.798 1544.7 864.603 1545.14 Q866.409 1545.58 868.145 1545.58 Q872.775 1545.58 875.205 1542.48 Q877.659 1539.36 878.006 1533.01 Q876.664 1535.01 874.603 1536.07 Q872.543 1537.13 870.043 1537.13 Q864.858 1537.13 861.826 1534.01 Q858.816 1530.86 858.816 1525.42 Q858.816 1520.1 861.965 1516.88 Q865.113 1513.66 870.344 1513.66 Q876.339 1513.66 879.488 1518.27 Q882.659 1522.85 882.659 1531.6 Q882.659 1539.77 878.77 1544.66 Q874.904 1549.52 868.353 1549.52 Q866.594 1549.52 864.789 1549.17 Q862.983 1548.82 861.039 1548.13 M870.344 1533.48 Q873.492 1533.48 875.321 1531.32 Q877.173 1529.17 877.173 1525.42 Q877.173 1521.7 875.321 1519.54 Q873.492 1517.37 870.344 1517.37 Q867.196 1517.37 865.344 1519.54 Q863.515 1521.7 863.515 1525.42 Q863.515 1529.17 865.344 1531.32 Q867.196 1533.48 870.344 1533.48 Z\" fill=\"#000000\" fill-rule=\"evenodd\" fill-opacity=\"1\" /><path clip-path=\"url(#clip820)\" d=\"M891.201 1548.13 L891.201 1543.87 Q892.96 1544.7 894.765 1545.14 Q896.571 1545.58 898.307 1545.58 Q902.937 1545.58 905.367 1542.48 Q907.821 1539.36 908.168 1533.01 Q906.825 1535.01 904.765 1536.07 Q902.705 1537.13 900.205 1537.13 Q895.02 1537.13 891.988 1534.01 Q888.978 1530.86 888.978 1525.42 Q888.978 1520.1 892.126 1516.88 Q895.275 1513.66 900.506 1513.66 Q906.501 1513.66 909.649 1518.27 Q912.821 1522.85 912.821 1531.6 Q912.821 1539.77 908.932 1544.66 Q905.066 1549.52 898.515 1549.52 Q896.756 1549.52 894.95 1549.17 Q893.145 1548.82 891.201 1548.13 M900.506 1533.48 Q903.654 1533.48 905.483 1531.32 Q907.335 1529.17 907.335 1525.42 Q907.335 1521.7 905.483 1519.54 Q903.654 1517.37 900.506 1517.37 Q897.358 1517.37 895.506 1519.54 Q893.677 1521.7 893.677 1525.42 Q893.677 1529.17 895.506 1531.32 Q897.358 1533.48 900.506 1533.48 Z\" fill=\"#000000\" fill-rule=\"evenodd\" fill-opacity=\"1\" /><path clip-path=\"url(#clip820)\" d=\"M921.362 1548.13 L921.362 1543.87 Q923.122 1544.7 924.927 1545.14 Q926.733 1545.58 928.469 1545.58 Q933.098 1545.58 935.529 1542.48 Q937.983 1539.36 938.33 1533.01 Q936.987 1535.01 934.927 1536.07 Q932.867 1537.13 930.367 1537.13 Q925.182 1537.13 922.149 1534.01 Q919.14 1530.86 919.14 1525.42 Q919.14 1520.1 922.288 1516.88 Q925.436 1513.66 930.668 1513.66 Q936.663 1513.66 939.811 1518.27 Q942.983 1522.85 942.983 1531.6 Q942.983 1539.77 939.094 1544.66 Q935.228 1549.52 928.677 1549.52 Q926.918 1549.52 925.112 1549.17 Q923.307 1548.82 921.362 1548.13 M930.668 1533.48 Q933.816 1533.48 935.645 1531.32 Q937.497 1529.17 937.497 1525.42 Q937.497 1521.7 935.645 1519.54 Q933.816 1517.37 930.668 1517.37 Q927.52 1517.37 925.668 1519.54 Q923.839 1521.7 923.839 1525.42 Q923.839 1529.17 925.668 1531.32 Q927.52 1533.48 930.668 1533.48 Z\" fill=\"#000000\" fill-rule=\"evenodd\" fill-opacity=\"1\" /><path clip-path=\"url(#clip820)\" d=\"M951.432 1514.29 L969.788 1514.29 L969.788 1518.22 L955.714 1518.22 L955.714 1526.7 Q956.733 1526.35 957.751 1526.19 Q958.77 1526 959.788 1526 Q965.575 1526 968.955 1529.17 Q972.334 1532.34 972.334 1537.76 Q972.334 1543.34 968.862 1546.44 Q965.39 1549.52 959.071 1549.52 Q956.895 1549.52 954.626 1549.15 Q952.381 1548.78 949.973 1548.04 L949.973 1543.34 Q952.057 1544.47 954.279 1545.03 Q956.501 1545.58 958.978 1545.58 Q962.983 1545.58 965.32 1543.48 Q967.658 1541.37 967.658 1537.76 Q967.658 1534.15 965.32 1532.04 Q962.983 1529.94 958.978 1529.94 Q957.103 1529.94 955.228 1530.35 Q953.376 1530.77 951.432 1531.65 L951.432 1514.29 Z\" fill=\"#000000\" fill-rule=\"evenodd\" fill-opacity=\"1\" /><path clip-path=\"url(#clip820)\" d=\"M1282.8 1544.91 L1290.44 1544.91 L1290.44 1518.55 L1282.13 1520.21 L1282.13 1515.95 L1290.39 1514.29 L1295.07 1514.29 L1295.07 1544.91 L1302.71 1544.91 L1302.71 1548.85 L1282.8 1548.85 L1282.8 1544.91 Z\" fill=\"#000000\" fill-rule=\"evenodd\" fill-opacity=\"1\" /><path clip-path=\"url(#clip820)\" d=\"M1312.15 1542.97 L1317.04 1542.97 L1317.04 1548.85 L1312.15 1548.85 L1312.15 1542.97 Z\" fill=\"#000000\" fill-rule=\"evenodd\" fill-opacity=\"1\" /><path clip-path=\"url(#clip820)\" d=\"M1337.22 1517.37 Q1333.61 1517.37 1331.78 1520.93 Q1329.98 1524.47 1329.98 1531.6 Q1329.98 1538.71 1331.78 1542.27 Q1333.61 1545.82 1337.22 1545.82 Q1340.86 1545.82 1342.66 1542.27 Q1344.49 1538.71 1344.49 1531.6 Q1344.49 1524.47 1342.66 1520.93 Q1340.86 1517.37 1337.22 1517.37 M1337.22 1513.66 Q1343.03 1513.66 1346.09 1518.27 Q1349.17 1522.85 1349.17 1531.6 Q1349.17 1540.33 1346.09 1544.94 Q1343.03 1549.52 1337.22 1549.52 Q1331.41 1549.52 1328.33 1544.94 Q1325.28 1540.33 1325.28 1531.6 Q1325.28 1522.85 1328.33 1518.27 Q1331.41 1513.66 1337.22 1513.66 Z\" fill=\"#000000\" fill-rule=\"evenodd\" fill-opacity=\"1\" /><path clip-path=\"url(#clip820)\" d=\"M1367.38 1517.37 Q1363.77 1517.37 1361.94 1520.93 Q1360.14 1524.47 1360.14 1531.6 Q1360.14 1538.71 1361.94 1542.27 Q1363.77 1545.82 1367.38 1545.82 Q1371.02 1545.82 1372.82 1542.27 Q1374.65 1538.71 1374.65 1531.6 Q1374.65 1524.47 1372.82 1520.93 Q1371.02 1517.37 1367.38 1517.37 M1367.38 1513.66 Q1373.19 1513.66 1376.25 1518.27 Q1379.33 1522.85 1379.33 1531.6 Q1379.33 1540.33 1376.25 1544.94 Q1373.19 1549.52 1367.38 1549.52 Q1361.57 1549.52 1358.49 1544.94 Q1355.44 1540.33 1355.44 1531.6 Q1355.44 1522.85 1358.49 1518.27 Q1361.57 1513.66 1367.38 1513.66 Z\" fill=\"#000000\" fill-rule=\"evenodd\" fill-opacity=\"1\" /><path clip-path=\"url(#clip820)\" d=\"M1397.55 1517.37 Q1393.93 1517.37 1392.11 1520.93 Q1390.3 1524.47 1390.3 1531.6 Q1390.3 1538.71 1392.11 1542.27 Q1393.93 1545.82 1397.55 1545.82 Q1401.18 1545.82 1402.99 1542.27 Q1404.81 1538.71 1404.81 1531.6 Q1404.81 1524.47 1402.99 1520.93 Q1401.18 1517.37 1397.55 1517.37 M1397.55 1513.66 Q1403.36 1513.66 1406.41 1518.27 Q1409.49 1522.85 1409.49 1531.6 Q1409.49 1540.33 1406.41 1544.94 Q1403.36 1549.52 1397.55 1549.52 Q1391.74 1549.52 1388.66 1544.94 Q1385.6 1540.33 1385.6 1531.6 Q1385.6 1522.85 1388.66 1518.27 Q1391.74 1513.66 1397.55 1513.66 Z\" fill=\"#000000\" fill-rule=\"evenodd\" fill-opacity=\"1\" /><path clip-path=\"url(#clip820)\" d=\"M1427.71 1517.37 Q1424.1 1517.37 1422.27 1520.93 Q1420.46 1524.47 1420.46 1531.6 Q1420.46 1538.71 1422.27 1542.27 Q1424.1 1545.82 1427.71 1545.82 Q1431.34 1545.82 1433.15 1542.27 Q1434.98 1538.71 1434.98 1531.6 Q1434.98 1524.47 1433.15 1520.93 Q1431.34 1517.37 1427.71 1517.37 M1427.71 1513.66 Q1433.52 1513.66 1436.57 1518.27 Q1439.65 1522.85 1439.65 1531.6 Q1439.65 1540.33 1436.57 1544.94 Q1433.52 1549.52 1427.71 1549.52 Q1421.9 1549.52 1418.82 1544.94 Q1415.76 1540.33 1415.76 1531.6 Q1415.76 1522.85 1418.82 1518.27 Q1421.9 1513.66 1427.71 1513.66 Z\" fill=\"#000000\" fill-rule=\"evenodd\" fill-opacity=\"1\" /><path clip-path=\"url(#clip820)\" d=\"M1751.16 1544.91 L1758.8 1544.91 L1758.8 1518.55 L1750.49 1520.21 L1750.49 1515.95 L1758.75 1514.29 L1763.43 1514.29 L1763.43 1544.91 L1771.07 1544.91 L1771.07 1548.85 L1751.16 1548.85 L1751.16 1544.91 Z\" fill=\"#000000\" fill-rule=\"evenodd\" fill-opacity=\"1\" /><path clip-path=\"url(#clip820)\" d=\"M1780.51 1542.97 L1785.4 1542.97 L1785.4 1548.85 L1780.51 1548.85 L1780.51 1542.97 Z\" fill=\"#000000\" fill-rule=\"evenodd\" fill-opacity=\"1\" /><path clip-path=\"url(#clip820)\" d=\"M1805.58 1517.37 Q1801.97 1517.37 1800.14 1520.93 Q1798.33 1524.47 1798.33 1531.6 Q1798.33 1538.71 1800.14 1542.27 Q1801.97 1545.82 1805.58 1545.82 Q1809.21 1545.82 1811.02 1542.27 Q1812.85 1538.71 1812.85 1531.6 Q1812.85 1524.47 1811.02 1520.93 Q1809.21 1517.37 1805.58 1517.37 M1805.58 1513.66 Q1811.39 1513.66 1814.45 1518.27 Q1817.52 1522.85 1817.52 1531.6 Q1817.52 1540.33 1814.45 1544.94 Q1811.39 1549.52 1805.58 1549.52 Q1799.77 1549.52 1796.69 1544.94 Q1793.64 1540.33 1793.64 1531.6 Q1793.64 1522.85 1796.69 1518.27 Q1799.77 1513.66 1805.58 1513.66 Z\" fill=\"#000000\" fill-rule=\"evenodd\" fill-opacity=\"1\" /><path clip-path=\"url(#clip820)\" d=\"M1835.74 1517.37 Q1832.13 1517.37 1830.3 1520.93 Q1828.5 1524.47 1828.5 1531.6 Q1828.5 1538.71 1830.3 1542.27 Q1832.13 1545.82 1835.74 1545.82 Q1839.38 1545.82 1841.18 1542.27 Q1843.01 1538.71 1843.01 1531.6 Q1843.01 1524.47 1841.18 1520.93 Q1839.38 1517.37 1835.74 1517.37 M1835.74 1513.66 Q1841.55 1513.66 1844.61 1518.27 Q1847.69 1522.85 1847.69 1531.6 Q1847.69 1540.33 1844.61 1544.94 Q1841.55 1549.52 1835.74 1549.52 Q1829.93 1549.52 1826.85 1544.94 Q1823.8 1540.33 1823.8 1531.6 Q1823.8 1522.85 1826.85 1518.27 Q1829.93 1513.66 1835.74 1513.66 Z\" fill=\"#000000\" fill-rule=\"evenodd\" fill-opacity=\"1\" /><path clip-path=\"url(#clip820)\" d=\"M1865.9 1517.37 Q1862.29 1517.37 1860.46 1520.93 Q1858.66 1524.47 1858.66 1531.6 Q1858.66 1538.71 1860.46 1542.27 Q1862.29 1545.82 1865.9 1545.82 Q1869.54 1545.82 1871.34 1542.27 Q1873.17 1538.71 1873.17 1531.6 Q1873.17 1524.47 1871.34 1520.93 Q1869.54 1517.37 1865.9 1517.37 M1865.9 1513.66 Q1871.71 1513.66 1874.77 1518.27 Q1877.85 1522.85 1877.85 1531.6 Q1877.85 1540.33 1874.77 1544.94 Q1871.71 1549.52 1865.9 1549.52 Q1860.09 1549.52 1857.02 1544.94 Q1853.96 1540.33 1853.96 1531.6 Q1853.96 1522.85 1857.02 1518.27 Q1860.09 1513.66 1865.9 1513.66 Z\" fill=\"#000000\" fill-rule=\"evenodd\" fill-opacity=\"1\" /><path clip-path=\"url(#clip820)\" d=\"M1886.11 1514.29 L1904.47 1514.29 L1904.47 1518.22 L1890.39 1518.22 L1890.39 1526.7 Q1891.41 1526.35 1892.43 1526.19 Q1893.45 1526 1894.47 1526 Q1900.26 1526 1903.64 1529.17 Q1907.01 1532.34 1907.01 1537.76 Q1907.01 1543.34 1903.54 1546.44 Q1900.07 1549.52 1893.75 1549.52 Q1891.58 1549.52 1889.31 1549.15 Q1887.06 1548.78 1884.65 1548.04 L1884.65 1543.34 Q1886.74 1544.47 1888.96 1545.03 Q1891.18 1545.58 1893.66 1545.58 Q1897.66 1545.58 1900 1543.48 Q1902.34 1541.37 1902.34 1537.76 Q1902.34 1534.15 1900 1532.04 Q1897.66 1529.94 1893.66 1529.94 Q1891.78 1529.94 1889.91 1530.35 Q1888.06 1530.77 1886.11 1531.65 L1886.11 1514.29 Z\" fill=\"#000000\" fill-rule=\"evenodd\" fill-opacity=\"1\" /><path clip-path=\"url(#clip820)\" d=\"M2218.52 1544.91 L2226.16 1544.91 L2226.16 1518.55 L2217.85 1520.21 L2217.85 1515.95 L2226.12 1514.29 L2230.79 1514.29 L2230.79 1544.91 L2238.43 1544.91 L2238.43 1548.85 L2218.52 1548.85 L2218.52 1544.91 Z\" fill=\"#000000\" fill-rule=\"evenodd\" fill-opacity=\"1\" /><path clip-path=\"url(#clip820)\" d=\"M2247.87 1542.97 L2252.76 1542.97 L2252.76 1548.85 L2247.87 1548.85 L2247.87 1542.97 Z\" fill=\"#000000\" fill-rule=\"evenodd\" fill-opacity=\"1\" /><path clip-path=\"url(#clip820)\" d=\"M2272.94 1517.37 Q2269.33 1517.37 2267.5 1520.93 Q2265.7 1524.47 2265.7 1531.6 Q2265.7 1538.71 2267.5 1542.27 Q2269.33 1545.82 2272.94 1545.82 Q2276.58 1545.82 2278.38 1542.27 Q2280.21 1538.71 2280.21 1531.6 Q2280.21 1524.47 2278.38 1520.93 Q2276.58 1517.37 2272.94 1517.37 M2272.94 1513.66 Q2278.75 1513.66 2281.81 1518.27 Q2284.89 1522.85 2284.89 1531.6 Q2284.89 1540.33 2281.81 1544.94 Q2278.75 1549.52 2272.94 1549.52 Q2267.13 1549.52 2264.05 1544.94 Q2261 1540.33 2261 1531.6 Q2261 1522.85 2264.05 1518.27 Q2267.13 1513.66 2272.94 1513.66 Z\" fill=\"#000000\" fill-rule=\"evenodd\" fill-opacity=\"1\" /><path clip-path=\"url(#clip820)\" d=\"M2303.11 1517.37 Q2299.49 1517.37 2297.67 1520.93 Q2295.86 1524.47 2295.86 1531.6 Q2295.86 1538.71 2297.67 1542.27 Q2299.49 1545.82 2303.11 1545.82 Q2306.74 1545.82 2308.55 1542.27 Q2310.37 1538.71 2310.37 1531.6 Q2310.37 1524.47 2308.55 1520.93 Q2306.74 1517.37 2303.11 1517.37 M2303.11 1513.66 Q2308.92 1513.66 2311.97 1518.27 Q2315.05 1522.85 2315.05 1531.6 Q2315.05 1540.33 2311.97 1544.94 Q2308.92 1549.52 2303.11 1549.52 Q2297.3 1549.52 2294.22 1544.94 Q2291.16 1540.33 2291.16 1531.6 Q2291.16 1522.85 2294.22 1518.27 Q2297.3 1513.66 2303.11 1513.66 Z\" fill=\"#000000\" fill-rule=\"evenodd\" fill-opacity=\"1\" /><path clip-path=\"url(#clip820)\" d=\"M2324.08 1544.91 L2331.72 1544.91 L2331.72 1518.55 L2323.41 1520.21 L2323.41 1515.95 L2331.67 1514.29 L2336.35 1514.29 L2336.35 1544.91 L2343.99 1544.91 L2343.99 1548.85 L2324.08 1548.85 L2324.08 1544.91 Z\" fill=\"#000000\" fill-rule=\"evenodd\" fill-opacity=\"1\" /><path clip-path=\"url(#clip820)\" d=\"M2363.43 1517.37 Q2359.82 1517.37 2357.99 1520.93 Q2356.18 1524.47 2356.18 1531.6 Q2356.18 1538.71 2357.99 1542.27 Q2359.82 1545.82 2363.43 1545.82 Q2367.06 1545.82 2368.87 1542.27 Q2370.7 1538.71 2370.7 1531.6 Q2370.7 1524.47 2368.87 1520.93 Q2367.06 1517.37 2363.43 1517.37 M2363.43 1513.66 Q2369.24 1513.66 2372.3 1518.27 Q2375.37 1522.85 2375.37 1531.6 Q2375.37 1540.33 2372.3 1544.94 Q2369.24 1549.52 2363.43 1549.52 Q2357.62 1549.52 2354.54 1544.94 Q2351.48 1540.33 2351.48 1531.6 Q2351.48 1522.85 2354.54 1518.27 Q2357.62 1513.66 2363.43 1513.66 Z\" fill=\"#000000\" fill-rule=\"evenodd\" fill-opacity=\"1\" /><polyline clip-path=\"url(#clip822)\" style=\"stroke:#000000; stroke-linecap:butt; stroke-linejoin:round; stroke-width:2; stroke-opacity:0.1; fill:none\" points=\"\n",
       "  369.025,1361.29 2352.76,1361.29 \n",
       "  \"/>\n",
       "<polyline clip-path=\"url(#clip822)\" style=\"stroke:#000000; stroke-linecap:butt; stroke-linejoin:round; stroke-width:2; stroke-opacity:0.1; fill:none\" points=\"\n",
       "  369.025,1088.32 2352.76,1088.32 \n",
       "  \"/>\n",
       "<polyline clip-path=\"url(#clip822)\" style=\"stroke:#000000; stroke-linecap:butt; stroke-linejoin:round; stroke-width:2; stroke-opacity:0.1; fill:none\" points=\"\n",
       "  369.025,815.337 2352.76,815.337 \n",
       "  \"/>\n",
       "<polyline clip-path=\"url(#clip822)\" style=\"stroke:#000000; stroke-linecap:butt; stroke-linejoin:round; stroke-width:2; stroke-opacity:0.1; fill:none\" points=\"\n",
       "  369.025,542.358 2352.76,542.358 \n",
       "  \"/>\n",
       "<polyline clip-path=\"url(#clip822)\" style=\"stroke:#000000; stroke-linecap:butt; stroke-linejoin:round; stroke-width:2; stroke-opacity:0.1; fill:none\" points=\"\n",
       "  369.025,269.38 2352.76,269.38 \n",
       "  \"/>\n",
       "<polyline clip-path=\"url(#clip820)\" style=\"stroke:#000000; stroke-linecap:butt; stroke-linejoin:round; stroke-width:4; stroke-opacity:1; fill:none\" points=\"\n",
       "  369.025,1486.45 369.025,47.2441 \n",
       "  \"/>\n",
       "<polyline clip-path=\"url(#clip820)\" style=\"stroke:#000000; stroke-linecap:butt; stroke-linejoin:round; stroke-width:4; stroke-opacity:1; fill:none\" points=\"\n",
       "  369.025,1361.29 387.922,1361.29 \n",
       "  \"/>\n",
       "<polyline clip-path=\"url(#clip820)\" style=\"stroke:#000000; stroke-linecap:butt; stroke-linejoin:round; stroke-width:4; stroke-opacity:1; fill:none\" points=\"\n",
       "  369.025,1088.32 387.922,1088.32 \n",
       "  \"/>\n",
       "<polyline clip-path=\"url(#clip820)\" style=\"stroke:#000000; stroke-linecap:butt; stroke-linejoin:round; stroke-width:4; stroke-opacity:1; fill:none\" points=\"\n",
       "  369.025,815.337 387.922,815.337 \n",
       "  \"/>\n",
       "<polyline clip-path=\"url(#clip820)\" style=\"stroke:#000000; stroke-linecap:butt; stroke-linejoin:round; stroke-width:4; stroke-opacity:1; fill:none\" points=\"\n",
       "  369.025,542.358 387.922,542.358 \n",
       "  \"/>\n",
       "<polyline clip-path=\"url(#clip820)\" style=\"stroke:#000000; stroke-linecap:butt; stroke-linejoin:round; stroke-width:4; stroke-opacity:1; fill:none\" points=\"\n",
       "  369.025,269.38 387.922,269.38 \n",
       "  \"/>\n",
       "<path clip-path=\"url(#clip820)\" d=\"M50.9921 1368.19 L80.6679 1368.19 L80.6679 1372.13 L50.9921 1372.13 L50.9921 1368.19 Z\" fill=\"#000000\" fill-rule=\"evenodd\" fill-opacity=\"1\" /><path clip-path=\"url(#clip820)\" d=\"M91.5706 1381.09 L99.2095 1381.09 L99.2095 1354.72 L90.8993 1356.39 L90.8993 1352.13 L99.1632 1350.46 L103.839 1350.46 L103.839 1381.09 L111.478 1381.09 L111.478 1385.02 L91.5706 1385.02 L91.5706 1381.09 Z\" fill=\"#000000\" fill-rule=\"evenodd\" fill-opacity=\"1\" /><path clip-path=\"url(#clip820)\" d=\"M120.922 1379.14 L125.807 1379.14 L125.807 1385.02 L120.922 1385.02 L120.922 1379.14 Z\" fill=\"#000000\" fill-rule=\"evenodd\" fill-opacity=\"1\" /><path clip-path=\"url(#clip820)\" d=\"M145.992 1353.54 Q142.381 1353.54 140.552 1357.1 Q138.746 1360.65 138.746 1367.78 Q138.746 1374.88 140.552 1378.45 Q142.381 1381.99 145.992 1381.99 Q149.626 1381.99 151.431 1378.45 Q153.26 1374.88 153.26 1367.78 Q153.26 1360.65 151.431 1357.1 Q149.626 1353.54 145.992 1353.54 M145.992 1349.84 Q151.802 1349.84 154.857 1354.44 Q157.936 1359.03 157.936 1367.78 Q157.936 1376.5 154.857 1381.11 Q151.802 1385.69 145.992 1385.69 Q140.181 1385.69 137.103 1381.11 Q134.047 1376.5 134.047 1367.78 Q134.047 1359.03 137.103 1354.44 Q140.181 1349.84 145.992 1349.84 Z\" fill=\"#000000\" fill-rule=\"evenodd\" fill-opacity=\"1\" /><path clip-path=\"url(#clip820)\" d=\"M194.325 1359.56 L183.746 1370.18 L194.325 1380.76 L191.57 1383.56 L180.945 1372.94 L170.32 1383.56 L167.589 1380.76 L178.144 1370.18 L167.589 1359.56 L170.32 1356.76 L180.945 1367.38 L191.57 1356.76 L194.325 1359.56 Z\" fill=\"#000000\" fill-rule=\"evenodd\" fill-opacity=\"1\" /><path clip-path=\"url(#clip820)\" d=\"M206.686 1381.09 L214.325 1381.09 L214.325 1354.72 L206.014 1356.39 L206.014 1352.13 L214.278 1350.46 L218.954 1350.46 L218.954 1381.09 L226.593 1381.09 L226.593 1385.02 L206.686 1385.02 L206.686 1381.09 Z\" fill=\"#000000\" fill-rule=\"evenodd\" fill-opacity=\"1\" /><path clip-path=\"url(#clip820)\" d=\"M246.037 1353.54 Q242.426 1353.54 240.598 1357.1 Q238.792 1360.65 238.792 1367.78 Q238.792 1374.88 240.598 1378.45 Q242.426 1381.99 246.037 1381.99 Q249.672 1381.99 251.477 1378.45 Q253.306 1374.88 253.306 1367.78 Q253.306 1360.65 251.477 1357.1 Q249.672 1353.54 246.037 1353.54 M246.037 1349.84 Q251.848 1349.84 254.903 1354.44 Q257.982 1359.03 257.982 1367.78 Q257.982 1376.5 254.903 1381.11 Q251.848 1385.69 246.037 1385.69 Q240.227 1385.69 237.149 1381.11 Q234.093 1376.5 234.093 1367.78 Q234.093 1359.03 237.149 1354.44 Q240.227 1349.84 246.037 1349.84 Z\" fill=\"#000000\" fill-rule=\"evenodd\" fill-opacity=\"1\" /><path clip-path=\"url(#clip820)\" d=\"M257.982 1343.94 L282.093 1343.94 L282.093 1347.13 L257.982 1347.13 L257.982 1343.94 Z\" fill=\"#000000\" fill-rule=\"evenodd\" fill-opacity=\"1\" /><path clip-path=\"url(#clip820)\" d=\"M290.952 1354.41 L297.158 1354.41 L297.158 1332.99 L290.406 1334.35 L290.406 1330.88 L297.121 1329.53 L300.92 1329.53 L300.92 1354.41 L307.126 1354.41 L307.126 1357.61 L290.952 1357.61 L290.952 1354.41 Z\" fill=\"#000000\" fill-rule=\"evenodd\" fill-opacity=\"1\" /><path clip-path=\"url(#clip820)\" d=\"M325.238 1332.84 L315.646 1347.83 L325.238 1347.83 L325.238 1332.84 M324.242 1329.53 L329.019 1329.53 L329.019 1347.83 L333.025 1347.83 L333.025 1350.99 L329.019 1350.99 L329.019 1357.61 L325.238 1357.61 L325.238 1350.99 L312.562 1350.99 L312.562 1347.32 L324.242 1329.53 Z\" fill=\"#000000\" fill-rule=\"evenodd\" fill-opacity=\"1\" /><path clip-path=\"url(#clip820)\" d=\"M52.1958 1095.21 L81.8716 1095.21 L81.8716 1099.15 L52.1958 1099.15 L52.1958 1095.21 Z\" fill=\"#000000\" fill-rule=\"evenodd\" fill-opacity=\"1\" /><path clip-path=\"url(#clip820)\" d=\"M92.0104 1077.48 L110.367 1077.48 L110.367 1081.42 L96.2928 1081.42 L96.2928 1089.89 Q97.3113 1089.54 98.3298 1089.38 Q99.3483 1089.2 100.367 1089.2 Q106.154 1089.2 109.533 1092.37 Q112.913 1095.54 112.913 1100.95 Q112.913 1106.53 109.441 1109.64 Q105.969 1112.71 99.6493 1112.71 Q97.4734 1112.71 95.2049 1112.34 Q92.9595 1111.97 90.5521 1111.23 L90.5521 1106.53 Q92.6354 1107.67 94.8576 1108.22 Q97.0798 1108.78 99.5567 1108.78 Q103.561 1108.78 105.899 1106.67 Q108.237 1104.57 108.237 1100.95 Q108.237 1097.34 105.899 1095.24 Q103.561 1093.13 99.5567 1093.13 Q97.6817 1093.13 95.8067 1093.55 Q93.9549 1093.96 92.0104 1094.84 L92.0104 1077.48 Z\" fill=\"#000000\" fill-rule=\"evenodd\" fill-opacity=\"1\" /><path clip-path=\"url(#clip820)\" d=\"M122.126 1106.16 L127.01 1106.16 L127.01 1112.04 L122.126 1112.04 L122.126 1106.16 Z\" fill=\"#000000\" fill-rule=\"evenodd\" fill-opacity=\"1\" /><path clip-path=\"url(#clip820)\" d=\"M147.195 1080.56 Q143.584 1080.56 141.756 1084.13 Q139.95 1087.67 139.95 1094.8 Q139.95 1101.9 141.756 1105.47 Q143.584 1109.01 147.195 1109.01 Q150.83 1109.01 152.635 1105.47 Q154.464 1101.9 154.464 1094.8 Q154.464 1087.67 152.635 1084.13 Q150.83 1080.56 147.195 1080.56 M147.195 1076.86 Q153.005 1076.86 156.061 1081.46 Q159.14 1086.05 159.14 1094.8 Q159.14 1103.52 156.061 1108.13 Q153.005 1112.71 147.195 1112.71 Q141.385 1112.71 138.306 1108.13 Q135.251 1103.52 135.251 1094.8 Q135.251 1086.05 138.306 1081.46 Q141.385 1076.86 147.195 1076.86 Z\" fill=\"#000000\" fill-rule=\"evenodd\" fill-opacity=\"1\" /><path clip-path=\"url(#clip820)\" d=\"M195.528 1086.58 L184.95 1097.2 L195.528 1107.78 L192.774 1110.58 L182.149 1099.96 L171.524 1110.58 L168.792 1107.78 L179.348 1097.2 L168.792 1086.58 L171.524 1083.78 L182.149 1094.4 L192.774 1083.78 L195.528 1086.58 Z\" fill=\"#000000\" fill-rule=\"evenodd\" fill-opacity=\"1\" /><path clip-path=\"url(#clip820)\" d=\"M207.889 1108.11 L215.528 1108.11 L215.528 1081.74 L207.218 1083.41 L207.218 1079.15 L215.482 1077.48 L220.158 1077.48 L220.158 1108.11 L227.797 1108.11 L227.797 1112.04 L207.889 1112.04 L207.889 1108.11 Z\" fill=\"#000000\" fill-rule=\"evenodd\" fill-opacity=\"1\" /><path clip-path=\"url(#clip820)\" d=\"M247.241 1080.56 Q243.63 1080.56 241.801 1084.13 Q239.996 1087.67 239.996 1094.8 Q239.996 1101.9 241.801 1105.47 Q243.63 1109.01 247.241 1109.01 Q250.875 1109.01 252.681 1105.47 Q254.51 1101.9 254.51 1094.8 Q254.51 1087.67 252.681 1084.13 Q250.875 1080.56 247.241 1080.56 M247.241 1076.86 Q253.051 1076.86 256.107 1081.46 Q259.185 1086.05 259.185 1094.8 Q259.185 1103.52 256.107 1108.13 Q253.051 1112.71 247.241 1112.71 Q241.431 1112.71 238.352 1108.13 Q235.297 1103.52 235.297 1094.8 Q235.297 1086.05 238.352 1081.46 Q241.431 1076.86 247.241 1076.86 Z\" fill=\"#000000\" fill-rule=\"evenodd\" fill-opacity=\"1\" /><path clip-path=\"url(#clip820)\" d=\"M259.185 1070.96 L283.297 1070.96 L283.297 1074.16 L259.185 1074.16 L259.185 1070.96 Z\" fill=\"#000000\" fill-rule=\"evenodd\" fill-opacity=\"1\" /><path clip-path=\"url(#clip820)\" d=\"M292.155 1081.43 L298.362 1081.43 L298.362 1060.01 L291.61 1061.37 L291.61 1057.91 L298.324 1056.55 L302.124 1056.55 L302.124 1081.43 L308.33 1081.43 L308.33 1084.63 L292.155 1084.63 L292.155 1081.43 Z\" fill=\"#000000\" fill-rule=\"evenodd\" fill-opacity=\"1\" /><path clip-path=\"url(#clip820)\" d=\"M316.041 1056.55 L330.956 1056.55 L330.956 1059.75 L319.521 1059.75 L319.521 1066.63 Q320.348 1066.35 321.176 1066.22 Q322.003 1066.07 322.831 1066.07 Q327.533 1066.07 330.279 1068.65 Q333.025 1071.22 333.025 1075.62 Q333.025 1080.16 330.204 1082.68 Q327.382 1085.18 322.248 1085.18 Q320.48 1085.18 318.637 1084.88 Q316.812 1084.58 314.856 1083.97 L314.856 1080.16 Q316.549 1081.08 318.355 1081.53 Q320.16 1081.98 322.173 1081.98 Q325.426 1081.98 327.326 1080.27 Q329.226 1078.56 329.226 1075.62 Q329.226 1072.69 327.326 1070.98 Q325.426 1069.27 322.173 1069.27 Q320.649 1069.27 319.126 1069.6 Q317.621 1069.94 316.041 1070.66 L316.041 1056.55 Z\" fill=\"#000000\" fill-rule=\"evenodd\" fill-opacity=\"1\" /><path clip-path=\"url(#clip820)\" d=\"M321.08 801.135 Q317.469 801.135 315.641 804.7 Q313.835 808.242 313.835 815.371 Q313.835 822.478 315.641 826.043 Q317.469 829.584 321.08 829.584 Q324.715 829.584 326.52 826.043 Q328.349 822.478 328.349 815.371 Q328.349 808.242 326.52 804.7 Q324.715 801.135 321.08 801.135 M321.08 797.432 Q326.891 797.432 329.946 802.038 Q333.025 806.621 333.025 815.371 Q333.025 824.098 329.946 828.705 Q326.891 833.288 321.08 833.288 Q315.27 833.288 312.192 828.705 Q309.136 824.098 309.136 815.371 Q309.136 806.621 312.192 802.038 Q315.27 797.432 321.08 797.432 Z\" fill=\"#000000\" fill-rule=\"evenodd\" fill-opacity=\"1\" /><path clip-path=\"url(#clip820)\" d=\"M92.0104 531.526 L110.367 531.526 L110.367 535.461 L96.2928 535.461 L96.2928 543.933 Q97.3113 543.586 98.3298 543.424 Q99.3483 543.239 100.367 543.239 Q106.154 543.239 109.533 546.41 Q112.913 549.581 112.913 554.998 Q112.913 560.577 109.441 563.679 Q105.969 566.757 99.6493 566.757 Q97.4734 566.757 95.2049 566.387 Q92.9595 566.016 90.5521 565.276 L90.5521 560.577 Q92.6354 561.711 94.8576 562.267 Q97.0798 562.822 99.5567 562.822 Q103.561 562.822 105.899 560.716 Q108.237 558.609 108.237 554.998 Q108.237 551.387 105.899 549.28 Q103.561 547.174 99.5567 547.174 Q97.6817 547.174 95.8067 547.591 Q93.9549 548.007 92.0104 548.887 L92.0104 531.526 Z\" fill=\"#000000\" fill-rule=\"evenodd\" fill-opacity=\"1\" /><path clip-path=\"url(#clip820)\" d=\"M122.126 560.206 L127.01 560.206 L127.01 566.086 L122.126 566.086 L122.126 560.206 Z\" fill=\"#000000\" fill-rule=\"evenodd\" fill-opacity=\"1\" /><path clip-path=\"url(#clip820)\" d=\"M147.195 534.605 Q143.584 534.605 141.756 538.169 Q139.95 541.711 139.95 548.841 Q139.95 555.947 141.756 559.512 Q143.584 563.054 147.195 563.054 Q150.83 563.054 152.635 559.512 Q154.464 555.947 154.464 548.841 Q154.464 541.711 152.635 538.169 Q150.83 534.605 147.195 534.605 M147.195 530.901 Q153.005 530.901 156.061 535.507 Q159.14 540.091 159.14 548.841 Q159.14 557.567 156.061 562.174 Q153.005 566.757 147.195 566.757 Q141.385 566.757 138.306 562.174 Q135.251 557.567 135.251 548.841 Q135.251 540.091 138.306 535.507 Q141.385 530.901 147.195 530.901 Z\" fill=\"#000000\" fill-rule=\"evenodd\" fill-opacity=\"1\" /><path clip-path=\"url(#clip820)\" d=\"M195.528 540.623 L184.95 551.248 L195.528 561.827 L192.774 564.628 L182.149 554.003 L171.524 564.628 L168.792 561.827 L179.348 551.248 L168.792 540.623 L171.524 537.822 L182.149 548.447 L192.774 537.822 L195.528 540.623 Z\" fill=\"#000000\" fill-rule=\"evenodd\" fill-opacity=\"1\" /><path clip-path=\"url(#clip820)\" d=\"M207.889 562.151 L215.528 562.151 L215.528 535.785 L207.218 537.452 L207.218 533.193 L215.482 531.526 L220.158 531.526 L220.158 562.151 L227.797 562.151 L227.797 566.086 L207.889 566.086 L207.889 562.151 Z\" fill=\"#000000\" fill-rule=\"evenodd\" fill-opacity=\"1\" /><path clip-path=\"url(#clip820)\" d=\"M247.241 534.605 Q243.63 534.605 241.801 538.169 Q239.996 541.711 239.996 548.841 Q239.996 555.947 241.801 559.512 Q243.63 563.054 247.241 563.054 Q250.875 563.054 252.681 559.512 Q254.51 555.947 254.51 548.841 Q254.51 541.711 252.681 538.169 Q250.875 534.605 247.241 534.605 M247.241 530.901 Q253.051 530.901 256.107 535.507 Q259.185 540.091 259.185 548.841 Q259.185 557.567 256.107 562.174 Q253.051 566.757 247.241 566.757 Q241.431 566.757 238.352 562.174 Q235.297 557.567 235.297 548.841 Q235.297 540.091 238.352 535.507 Q241.431 530.901 247.241 530.901 Z\" fill=\"#000000\" fill-rule=\"evenodd\" fill-opacity=\"1\" /><path clip-path=\"url(#clip820)\" d=\"M259.185 525.002 L283.297 525.002 L283.297 528.2 L259.185 528.2 L259.185 525.002 Z\" fill=\"#000000\" fill-rule=\"evenodd\" fill-opacity=\"1\" /><path clip-path=\"url(#clip820)\" d=\"M292.155 535.478 L298.362 535.478 L298.362 514.056 L291.61 515.41 L291.61 511.95 L298.324 510.596 L302.124 510.596 L302.124 535.478 L308.33 535.478 L308.33 538.676 L292.155 538.676 L292.155 535.478 Z\" fill=\"#000000\" fill-rule=\"evenodd\" fill-opacity=\"1\" /><path clip-path=\"url(#clip820)\" d=\"M316.041 510.596 L330.956 510.596 L330.956 513.793 L319.521 513.793 L319.521 520.677 Q320.348 520.394 321.176 520.263 Q322.003 520.112 322.831 520.112 Q327.533 520.112 330.279 522.689 Q333.025 525.266 333.025 529.667 Q333.025 534.199 330.204 536.72 Q327.382 539.221 322.248 539.221 Q320.48 539.221 318.637 538.92 Q316.812 538.619 314.856 538.017 L314.856 534.199 Q316.549 535.121 318.355 535.572 Q320.16 536.024 322.173 536.024 Q325.426 536.024 327.326 534.312 Q329.226 532.601 329.226 529.667 Q329.226 526.733 327.326 525.021 Q325.426 523.31 322.173 523.31 Q320.649 523.31 319.126 523.648 Q317.621 523.987 316.041 524.701 L316.041 510.596 Z\" fill=\"#000000\" fill-rule=\"evenodd\" fill-opacity=\"1\" /><path clip-path=\"url(#clip820)\" d=\"M91.5706 289.172 L99.2095 289.172 L99.2095 262.807 L90.8993 264.474 L90.8993 260.214 L99.1632 258.548 L103.839 258.548 L103.839 289.172 L111.478 289.172 L111.478 293.108 L91.5706 293.108 L91.5706 289.172 Z\" fill=\"#000000\" fill-rule=\"evenodd\" fill-opacity=\"1\" /><path clip-path=\"url(#clip820)\" d=\"M120.922 287.228 L125.807 287.228 L125.807 293.108 L120.922 293.108 L120.922 287.228 Z\" fill=\"#000000\" fill-rule=\"evenodd\" fill-opacity=\"1\" /><path clip-path=\"url(#clip820)\" d=\"M145.992 261.626 Q142.381 261.626 140.552 265.191 Q138.746 268.733 138.746 275.862 Q138.746 282.969 140.552 286.534 Q142.381 290.075 145.992 290.075 Q149.626 290.075 151.431 286.534 Q153.26 282.969 153.26 275.862 Q153.26 268.733 151.431 265.191 Q149.626 261.626 145.992 261.626 M145.992 257.923 Q151.802 257.923 154.857 262.529 Q157.936 267.112 157.936 275.862 Q157.936 284.589 154.857 289.196 Q151.802 293.779 145.992 293.779 Q140.181 293.779 137.103 289.196 Q134.047 284.589 134.047 275.862 Q134.047 267.112 137.103 262.529 Q140.181 257.923 145.992 257.923 Z\" fill=\"#000000\" fill-rule=\"evenodd\" fill-opacity=\"1\" /><path clip-path=\"url(#clip820)\" d=\"M194.325 267.645 L183.746 278.27 L194.325 288.848 L191.57 291.649 L180.945 281.024 L170.32 291.649 L167.589 288.848 L178.144 278.27 L167.589 267.645 L170.32 264.844 L180.945 275.469 L191.57 264.844 L194.325 267.645 Z\" fill=\"#000000\" fill-rule=\"evenodd\" fill-opacity=\"1\" /><path clip-path=\"url(#clip820)\" d=\"M206.686 289.172 L214.325 289.172 L214.325 262.807 L206.014 264.474 L206.014 260.214 L214.278 258.548 L218.954 258.548 L218.954 289.172 L226.593 289.172 L226.593 293.108 L206.686 293.108 L206.686 289.172 Z\" fill=\"#000000\" fill-rule=\"evenodd\" fill-opacity=\"1\" /><path clip-path=\"url(#clip820)\" d=\"M246.037 261.626 Q242.426 261.626 240.598 265.191 Q238.792 268.733 238.792 275.862 Q238.792 282.969 240.598 286.534 Q242.426 290.075 246.037 290.075 Q249.672 290.075 251.477 286.534 Q253.306 282.969 253.306 275.862 Q253.306 268.733 251.477 265.191 Q249.672 261.626 246.037 261.626 M246.037 257.923 Q251.848 257.923 254.903 262.529 Q257.982 267.112 257.982 275.862 Q257.982 284.589 254.903 289.196 Q251.848 293.779 246.037 293.779 Q240.227 293.779 237.149 289.196 Q234.093 284.589 234.093 275.862 Q234.093 267.112 237.149 262.529 Q240.227 257.923 246.037 257.923 Z\" fill=\"#000000\" fill-rule=\"evenodd\" fill-opacity=\"1\" /><path clip-path=\"url(#clip820)\" d=\"M257.982 252.024 L282.093 252.024 L282.093 255.221 L257.982 255.221 L257.982 252.024 Z\" fill=\"#000000\" fill-rule=\"evenodd\" fill-opacity=\"1\" /><path clip-path=\"url(#clip820)\" d=\"M290.952 262.5 L297.158 262.5 L297.158 241.078 L290.406 242.432 L290.406 238.971 L297.121 237.617 L300.92 237.617 L300.92 262.5 L307.126 262.5 L307.126 265.697 L290.952 265.697 L290.952 262.5 Z\" fill=\"#000000\" fill-rule=\"evenodd\" fill-opacity=\"1\" /><path clip-path=\"url(#clip820)\" d=\"M325.238 240.927 L315.646 255.917 L325.238 255.917 L325.238 240.927 M324.242 237.617 L329.019 237.617 L329.019 255.917 L333.025 255.917 L333.025 259.077 L329.019 259.077 L329.019 265.697 L325.238 265.697 L325.238 259.077 L312.562 259.077 L312.562 255.409 L324.242 237.617 Z\" fill=\"#000000\" fill-rule=\"evenodd\" fill-opacity=\"1\" /><polyline clip-path=\"url(#clip822)\" style=\"stroke:#009af9; stroke-linecap:butt; stroke-linejoin:round; stroke-width:4; stroke-opacity:1; fill:none\" points=\"\n",
       "  425.168,815.337 434.525,815.337 443.883,815.337 453.24,815.337 462.597,815.337 471.954,815.337 481.311,815.337 490.669,815.337 500.026,815.337 509.383,815.337 \n",
       "  518.74,815.337 528.098,815.337 537.455,815.337 546.812,815.337 556.169,815.337 565.526,815.337 574.884,815.337 584.241,815.337 593.598,815.337 602.955,815.337 \n",
       "  612.313,815.337 621.67,815.337 631.027,815.337 640.384,815.337 649.741,815.337 659.099,815.337 668.456,815.337 677.813,815.337 687.17,815.337 696.528,815.337 \n",
       "  705.885,815.337 715.242,815.337 724.599,815.337 733.956,815.337 743.314,815.337 752.671,815.337 762.028,815.337 771.385,815.337 780.743,815.337 790.1,815.337 \n",
       "  799.457,815.337 808.814,815.337 818.171,815.337 827.529,815.337 836.886,815.337 846.243,815.337 855.6,815.337 864.958,815.337 874.315,815.337 883.672,815.337 \n",
       "  893.029,815.337 902.386,815.337 911.744,815.337 921.101,815.337 930.458,815.337 939.815,815.337 949.173,815.337 958.53,815.337 967.887,815.337 977.244,815.337 \n",
       "  986.601,815.337 995.959,815.337 1005.32,815.337 1014.67,815.337 1024.03,815.337 1033.39,815.337 1042.74,815.337 1052.1,815.337 1061.46,815.337 1070.82,815.337 \n",
       "  1080.17,815.337 1089.53,815.337 1098.89,815.337 1108.25,815.337 1117.6,815.337 1126.96,815.337 1136.32,815.337 1145.67,815.337 1155.03,815.337 1164.39,815.337 \n",
       "  1173.75,815.337 1183.1,815.337 1192.46,815.337 1201.82,815.337 1211.17,815.337 1220.53,815.337 1229.89,815.337 1239.25,815.337 1248.6,815.337 1257.96,815.337 \n",
       "  1267.32,815.337 1276.68,815.337 1286.03,815.337 1295.39,815.337 1304.75,815.337 1314.1,815.337 1323.46,815.337 1332.82,815.337 1342.18,815.337 1351.53,815.337 \n",
       "  1360.89,815.337 1370.25,815.337 1379.6,815.337 1388.96,815.337 1398.32,815.337 1407.68,815.337 1417.03,815.337 1426.39,815.337 1435.75,815.337 1445.11,815.337 \n",
       "  1454.46,815.337 1463.82,815.337 1473.18,815.337 1482.53,815.337 1491.89,815.337 1501.25,815.337 1510.61,815.337 1519.96,815.337 1529.32,815.337 1538.68,815.337 \n",
       "  1548.03,815.337 1557.39,815.337 1566.75,815.337 1576.11,815.337 1585.46,815.337 1594.82,815.337 1604.18,815.337 1613.54,815.337 1622.89,815.337 1632.25,815.337 \n",
       "  1641.61,815.337 1650.96,815.337 1660.32,815.337 1669.68,815.337 1679.04,815.337 1688.39,815.337 1697.75,815.337 1707.11,815.337 1716.46,815.337 1725.82,815.337 \n",
       "  1735.18,815.337 1744.54,815.337 1753.89,815.337 1763.25,815.337 1772.61,815.337 1781.97,815.337 1791.32,815.337 1800.68,815.337 1810.04,815.337 1819.39,815.337 \n",
       "  1828.75,815.337 1838.11,815.337 1847.47,815.337 1856.82,815.337 1866.18,815.337 1875.54,815.337 1884.89,815.337 1894.25,815.337 1903.61,815.337 1912.97,815.337 \n",
       "  1922.32,815.337 1931.68,815.337 1941.04,815.337 1950.4,815.337 1959.75,815.337 1969.11,815.337 1978.47,815.337 1987.82,815.337 1997.18,815.337 2006.54,815.337 \n",
       "  2015.9,815.337 2025.25,815.337 2034.61,815.337 2043.97,815.337 2053.32,815.337 2062.68,815.337 2072.04,815.337 2081.4,815.337 2090.75,815.337 2100.11,815.337 \n",
       "  2109.47,815.337 2118.83,815.337 2128.18,815.337 2137.54,815.337 2146.9,815.337 2156.25,815.337 2165.61,815.337 2174.97,815.337 2184.33,815.337 2193.68,815.337 \n",
       "  2203.04,815.337 2212.4,815.337 2221.75,815.337 2231.11,815.337 2240.47,815.337 2249.83,815.337 2259.18,815.337 2268.54,815.337 2277.9,815.337 2287.26,815.337 \n",
       "  2296.61,815.337 \n",
       "  \"/>\n",
       "<polyline clip-path=\"url(#clip822)\" style=\"stroke:#e26f46; stroke-linecap:butt; stroke-linejoin:round; stroke-width:4; stroke-opacity:1; fill:none\" points=\"\n",
       "  425.168,912.318 434.525,960.809 443.883,1009.3 453.24,475.902 462.597,718.355 471.954,572.883 481.311,815.337 490.669,912.318 500.026,960.809 509.383,1009.3 \n",
       "  518.74,863.827 528.098,912.318 537.455,766.846 546.812,1203.26 556.169,863.827 565.526,718.355 574.884,572.883 584.241,427.411 593.598,1057.79 602.955,718.355 \n",
       "  612.313,766.846 621.67,1009.3 631.027,863.827 640.384,912.318 649.741,766.846 659.099,1203.26 668.456,1057.79 677.813,718.355 687.17,766.846 696.528,1009.3 \n",
       "  705.885,863.827 715.242,524.393 724.599,766.846 733.956,815.337 743.314,669.865 752.671,718.355 762.028,1348.73 771.385,1397.22 780.743,863.827 790.1,1300.24 \n",
       "  799.457,766.846 808.814,621.374 818.171,475.902 827.529,912.318 836.886,1154.77 846.243,621.374 855.6,669.865 864.958,718.355 874.315,572.883 883.672,621.374 \n",
       "  893.029,863.827 902.386,912.318 911.744,1154.77 921.101,815.337 930.458,475.902 939.815,960.809 949.173,1009.3 958.53,1057.79 967.887,718.355 977.244,960.809 \n",
       "  986.601,621.374 995.959,1057.79 1005.32,912.318 1014.67,960.809 1024.03,815.337 1033.39,669.865 1042.74,912.318 1052.1,766.846 1061.46,1009.3 1070.82,863.827 \n",
       "  1080.17,1106.28 1089.53,766.846 1098.89,1009.3 1108.25,475.902 1117.6,330.43 1126.96,1348.73 1136.32,427.411 1145.67,669.865 1155.03,718.355 1164.39,766.846 \n",
       "  1173.75,1009.3 1183.1,863.827 1192.46,524.393 1201.82,960.809 1211.17,1009.3 1220.53,863.827 1229.89,524.393 1239.25,572.883 1248.6,815.337 1257.96,863.827 \n",
       "  1267.32,524.393 1276.68,378.92 1286.03,815.337 1295.39,863.827 1304.75,912.318 1314.1,766.846 1323.46,427.411 1332.82,669.865 1342.18,718.355 1351.53,766.846 \n",
       "  1360.89,815.337 1370.25,1057.79 1379.6,718.355 1388.96,572.883 1398.32,669.865 1407.68,718.355 1417.03,572.883 1426.39,427.411 1435.75,669.865 1445.11,1300.24 \n",
       "  1454.46,766.846 1463.82,1203.26 1473.18,1057.79 1482.53,718.355 1491.89,766.846 1501.25,815.337 1510.61,1251.75 1519.96,718.355 1529.32,572.883 1538.68,815.337 \n",
       "  1548.03,1057.79 1557.39,912.318 1566.75,1154.77 1576.11,815.337 1585.46,475.902 1594.82,524.393 1604.18,1154.77 1613.54,427.411 1622.89,475.902 1632.25,524.393 \n",
       "  1641.61,960.809 1650.96,1203.26 1660.32,87.9763 1669.68,718.355 1679.04,1154.77 1688.39,1009.3 1697.75,1057.79 1707.11,1106.28 1716.46,766.846 1725.82,815.337 \n",
       "  1735.18,863.827 1744.54,1106.28 1753.89,1348.73 1763.25,815.337 1772.61,281.939 1781.97,330.43 1791.32,766.846 1800.68,621.374 1810.04,863.827 1819.39,1106.28 \n",
       "  1828.75,766.846 1838.11,1203.26 1847.47,524.393 1856.82,1154.77 1866.18,1203.26 1875.54,863.827 1884.89,718.355 1894.25,378.92 1903.61,815.337 1912.97,1445.72 \n",
       "  1922.32,912.318 1931.68,1154.77 1941.04,1203.26 1950.4,669.865 1959.75,1106.28 1969.11,766.846 1978.47,621.374 1987.82,669.865 1997.18,524.393 2006.54,766.846 \n",
       "  2015.9,1009.3 2025.25,863.827 2034.61,524.393 2043.97,1154.77 2053.32,815.337 2062.68,669.865 2072.04,718.355 2081.4,572.883 2090.75,1397.22 2100.11,669.865 \n",
       "  2109.47,1106.28 2118.83,1154.77 2128.18,815.337 2137.54,1057.79 2146.9,912.318 2156.25,766.846 2165.61,1203.26 2174.97,475.902 2184.33,912.318 2193.68,960.809 \n",
       "  2203.04,621.374 2212.4,863.827 2221.75,718.355 2231.11,1154.77 2240.47,815.337 2249.83,669.865 2259.18,524.393 2268.54,572.883 2277.9,815.337 2287.26,669.865 \n",
       "  2296.61,1154.77 \n",
       "  \"/>\n",
       "<polyline clip-path=\"url(#clip822)\" style=\"stroke:#3da44d; stroke-linecap:butt; stroke-linejoin:round; stroke-width:4; stroke-opacity:1; fill:none\" points=\"\n",
       "  425.168,645.619 434.525,766.846 443.883,560.761 453.24,815.337 462.597,978.993 471.954,900.195 481.311,730.478 490.669,548.638 500.026,694.11 509.383,1051.73 \n",
       "  518.74,833.521 528.098,706.233 537.455,833.521 546.812,754.723 556.169,694.11 565.526,839.582 574.884,694.11 584.241,815.337 593.598,815.337 602.955,900.195 \n",
       "  612.313,560.761 621.67,766.846 631.027,754.723 640.384,875.95 649.741,839.582 659.099,918.379 668.456,815.337 677.813,657.742 687.17,821.398 696.528,742.601 \n",
       "  705.885,694.11 715.242,803.214 724.599,851.705 733.956,857.766 743.314,766.846 752.671,803.214 762.028,863.827 771.385,778.969 780.743,894.134 790.1,875.95 \n",
       "  799.457,1033.54 808.814,742.601 818.171,839.582 827.529,754.723 836.886,791.091 846.243,912.318 855.6,633.497 864.958,815.337 874.315,863.827 883.672,742.601 \n",
       "  893.029,669.865 902.386,742.601 911.744,778.969 921.101,954.747 930.458,815.337 939.815,730.478 949.173,791.091 958.53,894.134 967.887,730.478 977.244,954.747 \n",
       "  986.601,803.214 995.959,900.195 1005.32,754.723 1014.67,882.011 1024.03,875.95 1033.39,742.601 1042.74,869.889 1052.1,754.723 1061.46,833.521 1070.82,882.011 \n",
       "  1080.17,857.766 1089.53,766.846 1098.89,930.502 1108.25,851.705 1117.6,851.705 1126.96,936.563 1136.32,960.809 1145.67,718.355 1155.03,718.355 1164.39,815.337 \n",
       "  1173.75,954.747 1183.1,900.195 1192.46,821.398 1201.82,815.337 1211.17,954.747 1220.53,857.766 1229.89,918.379 1239.25,863.827 1248.6,845.643 1257.96,833.521 \n",
       "  1267.32,985.054 1276.68,863.827 1286.03,882.011 1295.39,900.195 1304.75,936.563 1314.1,997.177 1323.46,894.134 1332.82,851.705 1342.18,754.723 1351.53,845.643 \n",
       "  1360.89,815.337 1370.25,942.625 1379.6,875.95 1388.96,827.459 1398.32,669.865 1407.68,863.827 1417.03,766.846 1426.39,694.11 1435.75,706.233 1445.11,609.251 \n",
       "  1454.46,718.355 1463.82,621.374 1473.18,833.521 1482.53,803.214 1491.89,869.889 1501.25,730.478 1510.61,766.846 1519.96,694.11 1529.32,742.601 1538.68,936.563 \n",
       "  1548.03,1075.97 1557.39,918.379 1566.75,827.459 1576.11,754.723 1585.46,845.643 1594.82,815.337 1604.18,524.393 1613.54,791.091 1622.89,669.865 1632.25,778.969 \n",
       "  1641.61,845.643 1650.96,742.601 1660.32,730.478 1669.68,851.705 1679.04,833.521 1688.39,948.686 1697.75,845.643 1707.11,833.521 1716.46,706.233 1725.82,966.87 \n",
       "  1735.18,778.969 1744.54,1033.54 1753.89,778.969 1763.25,918.379 1772.61,900.195 1781.97,754.723 1791.32,894.134 1800.68,863.827 1810.04,936.563 1819.39,657.742 \n",
       "  1828.75,875.95 1838.11,930.502 1847.47,791.091 1856.82,694.11 1866.18,857.766 1875.54,1009.3 1884.89,845.643 1894.25,888.073 1903.61,857.766 1912.97,754.723 \n",
       "  1922.32,791.091 1931.68,924.441 1941.04,1045.67 1950.4,845.643 1959.75,742.601 1969.11,900.195 1978.47,730.478 1987.82,791.091 1997.18,742.601 2006.54,1015.36 \n",
       "  2015.9,821.398 2025.25,657.742 2034.61,845.643 2043.97,657.742 2053.32,778.969 2062.68,657.742 2072.04,827.459 2081.4,669.865 2090.75,888.073 2100.11,863.827 \n",
       "  2109.47,833.521 2118.83,1021.42 2128.18,718.355 2137.54,791.091 2146.9,875.95 2156.25,894.134 2165.61,742.601 2174.97,742.601 2184.33,803.214 2193.68,706.233 \n",
       "  2203.04,778.969 2212.4,669.865 2221.75,730.478 2231.11,766.846 2240.47,694.11 2249.83,978.993 2259.18,694.11 2268.54,791.091 2277.9,827.459 2287.26,791.091 \n",
       "  2296.61,924.441 \n",
       "  \"/>\n",
       "<path clip-path=\"url(#clip820)\" d=\"\n",
       "M1830.78 302.578 L2286.63 302.578 L2286.63 95.2176 L1830.78 95.2176  Z\n",
       "  \" fill=\"#ffffff\" fill-rule=\"evenodd\" fill-opacity=\"1\"/>\n",
       "<polyline clip-path=\"url(#clip820)\" style=\"stroke:#000000; stroke-linecap:butt; stroke-linejoin:round; stroke-width:4; stroke-opacity:1; fill:none\" points=\"\n",
       "  1830.78,302.578 2286.63,302.578 2286.63,95.2176 1830.78,95.2176 1830.78,302.578 \n",
       "  \"/>\n",
       "<polyline clip-path=\"url(#clip820)\" style=\"stroke:#009af9; stroke-linecap:butt; stroke-linejoin:round; stroke-width:4; stroke-opacity:1; fill:none\" points=\"\n",
       "  1852.82,147.058 1985.07,147.058 \n",
       "  \"/>\n",
       "<path clip-path=\"url(#clip820)\" d=\"M2023.13 132.949 Q2018.04 132.949 2015.03 136.745 Q2012.04 140.541 2012.04 147.092 Q2012.04 153.62 2015.03 157.416 Q2018.04 161.213 2023.13 161.213 Q2028.22 161.213 2031.18 157.416 Q2034.17 153.62 2034.17 147.092 Q2034.17 140.541 2031.18 136.745 Q2028.22 132.949 2023.13 132.949 M2023.13 129.153 Q2030.4 129.153 2034.75 134.037 Q2039.1 138.898 2039.1 147.092 Q2039.1 155.264 2034.75 160.148 Q2030.4 165.009 2023.13 165.009 Q2015.84 165.009 2011.46 160.148 Q2007.11 155.287 2007.11 147.092 Q2007.11 138.898 2011.46 134.037 Q2015.84 129.153 2023.13 129.153 Z\" fill=\"#000000\" fill-rule=\"evenodd\" fill-opacity=\"1\" /><path clip-path=\"url(#clip820)\" d=\"M2061.25 142.393 Q2060.54 141.977 2059.68 141.791 Q2058.85 141.583 2057.83 141.583 Q2054.22 141.583 2052.27 143.944 Q2050.35 146.282 2050.35 150.68 L2050.35 164.338 L2046.07 164.338 L2046.07 138.412 L2050.35 138.412 L2050.35 142.44 Q2051.69 140.078 2053.85 138.944 Q2056 137.787 2059.08 137.787 Q2059.52 137.787 2060.05 137.856 Q2060.58 137.903 2061.23 138.018 L2061.25 142.393 Z\" fill=\"#000000\" fill-rule=\"evenodd\" fill-opacity=\"1\" /><path clip-path=\"url(#clip820)\" d=\"M2065.72 138.412 L2069.98 138.412 L2069.98 164.338 L2065.72 164.338 L2065.72 138.412 M2065.72 128.319 L2069.98 128.319 L2069.98 133.713 L2065.72 133.713 L2065.72 128.319 Z\" fill=\"#000000\" fill-rule=\"evenodd\" fill-opacity=\"1\" /><path clip-path=\"url(#clip820)\" d=\"M2095.95 151.074 Q2095.95 146.444 2094.03 143.898 Q2092.13 141.352 2088.68 141.352 Q2085.26 141.352 2083.34 143.898 Q2081.44 146.444 2081.44 151.074 Q2081.44 155.68 2083.34 158.226 Q2085.26 160.773 2088.68 160.773 Q2092.13 160.773 2094.03 158.226 Q2095.95 155.68 2095.95 151.074 M2100.21 161.12 Q2100.21 167.74 2097.27 170.958 Q2094.33 174.199 2088.27 174.199 Q2086.02 174.199 2084.03 173.851 Q2082.04 173.527 2080.17 172.833 L2080.17 168.689 Q2082.04 169.708 2083.87 170.194 Q2085.7 170.68 2087.6 170.68 Q2091.79 170.68 2093.87 168.481 Q2095.95 166.305 2095.95 161.884 L2095.95 159.777 Q2094.63 162.069 2092.57 163.203 Q2090.51 164.338 2087.64 164.338 Q2082.87 164.338 2079.96 160.703 Q2077.04 157.069 2077.04 151.074 Q2077.04 145.055 2079.96 141.421 Q2082.87 137.787 2087.64 137.787 Q2090.51 137.787 2092.57 138.921 Q2094.63 140.055 2095.95 142.347 L2095.95 138.412 L2100.21 138.412 L2100.21 161.12 Z\" fill=\"#000000\" fill-rule=\"evenodd\" fill-opacity=\"1\" /><path clip-path=\"url(#clip820)\" d=\"M2108.98 138.412 L2113.24 138.412 L2113.24 164.338 L2108.98 164.338 L2108.98 138.412 M2108.98 128.319 L2113.24 128.319 L2113.24 133.713 L2108.98 133.713 L2108.98 128.319 Z\" fill=\"#000000\" fill-rule=\"evenodd\" fill-opacity=\"1\" /><path clip-path=\"url(#clip820)\" d=\"M2143.71 148.689 L2143.71 164.338 L2139.45 164.338 L2139.45 148.828 Q2139.45 145.148 2138.01 143.319 Q2136.58 141.49 2133.71 141.49 Q2130.26 141.49 2128.27 143.69 Q2126.28 145.889 2126.28 149.685 L2126.28 164.338 L2121.99 164.338 L2121.99 138.412 L2126.28 138.412 L2126.28 142.44 Q2127.8 140.102 2129.86 138.944 Q2131.95 137.787 2134.66 137.787 Q2139.12 137.787 2141.41 140.565 Q2143.71 143.319 2143.71 148.689 Z\" fill=\"#000000\" fill-rule=\"evenodd\" fill-opacity=\"1\" /><path clip-path=\"url(#clip820)\" d=\"M2163.98 151.305 Q2158.82 151.305 2156.83 152.486 Q2154.84 153.666 2154.84 156.514 Q2154.84 158.782 2156.32 160.125 Q2157.83 161.444 2160.4 161.444 Q2163.94 161.444 2166.07 158.944 Q2168.22 156.421 2168.22 152.254 L2168.22 151.305 L2163.98 151.305 M2172.48 149.546 L2172.48 164.338 L2168.22 164.338 L2168.22 160.402 Q2166.76 162.763 2164.59 163.898 Q2162.41 165.009 2159.26 165.009 Q2155.28 165.009 2152.92 162.787 Q2150.58 160.541 2150.58 156.791 Q2150.58 152.416 2153.5 150.194 Q2156.44 147.972 2162.25 147.972 L2168.22 147.972 L2168.22 147.555 Q2168.22 144.615 2166.28 143.018 Q2164.35 141.398 2160.86 141.398 Q2158.64 141.398 2156.53 141.93 Q2154.42 142.463 2152.48 143.527 L2152.48 139.592 Q2154.82 138.69 2157.02 138.25 Q2159.22 137.787 2161.3 137.787 Q2166.92 137.787 2169.7 140.703 Q2172.48 143.62 2172.48 149.546 Z\" fill=\"#000000\" fill-rule=\"evenodd\" fill-opacity=\"1\" /><path clip-path=\"url(#clip820)\" d=\"M2181.25 128.319 L2185.51 128.319 L2185.51 164.338 L2181.25 164.338 L2181.25 128.319 Z\" fill=\"#000000\" fill-rule=\"evenodd\" fill-opacity=\"1\" /><polyline clip-path=\"url(#clip820)\" style=\"stroke:#e26f46; stroke-linecap:butt; stroke-linejoin:round; stroke-width:4; stroke-opacity:1; fill:none\" points=\"\n",
       "  1852.82,198.898 1985.07,198.898 \n",
       "  \"/>\n",
       "<path clip-path=\"url(#clip820)\" d=\"M2007.11 181.618 L2028.96 181.618 L2028.96 185.553 L2011.79 185.553 L2011.79 195.784 L2028.24 195.784 L2028.24 199.719 L2011.79 199.719 L2011.79 212.242 L2029.38 212.242 L2029.38 216.178 L2007.11 216.178 L2007.11 181.618 Z\" fill=\"#000000\" fill-rule=\"evenodd\" fill-opacity=\"1\" /><path clip-path=\"url(#clip820)\" d=\"M2058.43 190.252 L2049.05 202.867 L2058.92 216.178 L2053.89 216.178 L2046.35 205.992 L2038.8 216.178 L2033.78 216.178 L2043.85 202.613 L2034.63 190.252 L2039.66 190.252 L2046.53 199.488 L2053.41 190.252 L2058.43 190.252 Z\" fill=\"#000000\" fill-rule=\"evenodd\" fill-opacity=\"1\" /><path clip-path=\"url(#clip820)\" d=\"M2069.05 212.289 L2069.05 226.039 L2064.77 226.039 L2064.77 190.252 L2069.05 190.252 L2069.05 194.187 Q2070.4 191.872 2072.43 190.761 Q2074.49 189.627 2077.34 189.627 Q2082.06 189.627 2085 193.377 Q2087.97 197.127 2087.97 203.238 Q2087.97 209.349 2085 213.099 Q2082.06 216.849 2077.34 216.849 Q2074.49 216.849 2072.43 215.738 Q2070.4 214.603 2069.05 212.289 M2083.54 203.238 Q2083.54 198.539 2081.6 195.877 Q2079.68 193.192 2076.3 193.192 Q2072.92 193.192 2070.98 195.877 Q2069.05 198.539 2069.05 203.238 Q2069.05 207.937 2070.98 210.622 Q2072.92 213.284 2076.3 213.284 Q2079.68 213.284 2081.6 210.622 Q2083.54 207.937 2083.54 203.238 Z\" fill=\"#000000\" fill-rule=\"evenodd\" fill-opacity=\"1\" /><path clip-path=\"url(#clip820)\" d=\"M2106.81 203.145 Q2101.65 203.145 2099.66 204.326 Q2097.67 205.506 2097.67 208.354 Q2097.67 210.622 2099.15 211.965 Q2100.65 213.284 2103.22 213.284 Q2106.76 213.284 2108.89 210.784 Q2111.04 208.261 2111.04 204.094 L2111.04 203.145 L2106.81 203.145 M2115.3 201.386 L2115.3 216.178 L2111.04 216.178 L2111.04 212.242 Q2109.59 214.603 2107.41 215.738 Q2105.23 216.849 2102.09 216.849 Q2098.1 216.849 2095.74 214.627 Q2093.41 212.381 2093.41 208.631 Q2093.41 204.256 2096.32 202.034 Q2099.26 199.812 2105.07 199.812 L2111.04 199.812 L2111.04 199.395 Q2111.04 196.455 2109.1 194.858 Q2107.18 193.238 2103.68 193.238 Q2101.46 193.238 2099.35 193.77 Q2097.25 194.303 2095.3 195.367 L2095.3 191.432 Q2097.64 190.53 2099.84 190.09 Q2102.04 189.627 2104.12 189.627 Q2109.75 189.627 2112.53 192.543 Q2115.3 195.46 2115.3 201.386 Z\" fill=\"#000000\" fill-rule=\"evenodd\" fill-opacity=\"1\" /><path clip-path=\"url(#clip820)\" d=\"M2145.63 200.529 L2145.63 216.178 L2141.37 216.178 L2141.37 200.668 Q2141.37 196.988 2139.93 195.159 Q2138.5 193.33 2135.63 193.33 Q2132.18 193.33 2130.19 195.53 Q2128.2 197.729 2128.2 201.525 L2128.2 216.178 L2123.91 216.178 L2123.91 190.252 L2128.2 190.252 L2128.2 194.28 Q2129.73 191.942 2131.79 190.784 Q2133.87 189.627 2136.58 189.627 Q2141.04 189.627 2143.34 192.405 Q2145.63 195.159 2145.63 200.529 Z\" fill=\"#000000\" fill-rule=\"evenodd\" fill-opacity=\"1\" /><path clip-path=\"url(#clip820)\" d=\"M2170.65 191.016 L2170.65 195.043 Q2168.85 194.117 2166.9 193.655 Q2164.96 193.192 2162.87 193.192 Q2159.7 193.192 2158.1 194.164 Q2156.53 195.136 2156.53 197.08 Q2156.53 198.562 2157.66 199.418 Q2158.8 200.252 2162.22 201.016 L2163.68 201.34 Q2168.22 202.312 2170.12 204.094 Q2172.04 205.854 2172.04 209.025 Q2172.04 212.636 2169.17 214.742 Q2166.32 216.849 2161.32 216.849 Q2159.24 216.849 2156.97 216.432 Q2154.73 216.039 2152.23 215.228 L2152.23 210.83 Q2154.59 212.057 2156.88 212.682 Q2159.17 213.284 2161.41 213.284 Q2164.42 213.284 2166.04 212.266 Q2167.66 211.224 2167.66 209.349 Q2167.66 207.613 2166.48 206.687 Q2165.33 205.761 2161.37 204.904 L2159.89 204.557 Q2155.93 203.724 2154.17 202.011 Q2152.41 200.275 2152.41 197.266 Q2152.41 193.608 2155 191.618 Q2157.6 189.627 2162.36 189.627 Q2164.72 189.627 2166.81 189.974 Q2168.89 190.321 2170.65 191.016 Z\" fill=\"#000000\" fill-rule=\"evenodd\" fill-opacity=\"1\" /><path clip-path=\"url(#clip820)\" d=\"M2178.82 190.252 L2183.08 190.252 L2183.08 216.178 L2178.82 216.178 L2178.82 190.252 M2178.82 180.159 L2183.08 180.159 L2183.08 185.553 L2178.82 185.553 L2178.82 180.159 Z\" fill=\"#000000\" fill-rule=\"evenodd\" fill-opacity=\"1\" /><path clip-path=\"url(#clip820)\" d=\"M2202.04 193.238 Q2198.61 193.238 2196.62 195.923 Q2194.63 198.585 2194.63 203.238 Q2194.63 207.891 2196.6 210.576 Q2198.59 213.238 2202.04 213.238 Q2205.44 213.238 2207.43 210.553 Q2209.42 207.867 2209.42 203.238 Q2209.42 198.631 2207.43 195.946 Q2205.44 193.238 2202.04 193.238 M2202.04 189.627 Q2207.6 189.627 2210.77 193.238 Q2213.94 196.849 2213.94 203.238 Q2213.94 209.604 2210.77 213.238 Q2207.6 216.849 2202.04 216.849 Q2196.46 216.849 2193.29 213.238 Q2190.14 209.604 2190.14 203.238 Q2190.14 196.849 2193.29 193.238 Q2196.46 189.627 2202.04 189.627 Z\" fill=\"#000000\" fill-rule=\"evenodd\" fill-opacity=\"1\" /><path clip-path=\"url(#clip820)\" d=\"M2242.55 200.529 L2242.55 216.178 L2238.29 216.178 L2238.29 200.668 Q2238.29 196.988 2236.85 195.159 Q2235.42 193.33 2232.55 193.33 Q2229.1 193.33 2227.11 195.53 Q2225.12 197.729 2225.12 201.525 L2225.12 216.178 L2220.84 216.178 L2220.84 190.252 L2225.12 190.252 L2225.12 194.28 Q2226.65 191.942 2228.71 190.784 Q2230.79 189.627 2233.5 189.627 Q2237.97 189.627 2240.26 192.405 Q2242.55 195.159 2242.55 200.529 Z\" fill=\"#000000\" fill-rule=\"evenodd\" fill-opacity=\"1\" /><polyline clip-path=\"url(#clip820)\" style=\"stroke:#3da44d; stroke-linecap:butt; stroke-linejoin:round; stroke-width:4; stroke-opacity:1; fill:none\" points=\"\n",
       "  1852.82,250.738 1985.07,250.738 \n",
       "  \"/>\n",
       "<path clip-path=\"url(#clip820)\" d=\"M2007.11 233.458 L2011.79 233.458 L2011.79 247.624 L2028.78 247.624 L2028.78 233.458 L2033.45 233.458 L2033.45 268.018 L2028.78 268.018 L2028.78 251.559 L2011.79 251.559 L2011.79 268.018 L2007.11 268.018 L2007.11 233.458 Z\" fill=\"#000000\" fill-rule=\"evenodd\" fill-opacity=\"1\" /><path clip-path=\"url(#clip820)\" d=\"M2052.62 245.078 Q2049.19 245.078 2047.2 247.763 Q2045.21 250.425 2045.21 255.078 Q2045.21 259.731 2047.18 262.416 Q2049.17 265.078 2052.62 265.078 Q2056.02 265.078 2058.01 262.393 Q2060 259.707 2060 255.078 Q2060 250.471 2058.01 247.786 Q2056.02 245.078 2052.62 245.078 M2052.62 241.467 Q2058.17 241.467 2061.35 245.078 Q2064.52 248.689 2064.52 255.078 Q2064.52 261.444 2061.35 265.078 Q2058.17 268.689 2052.62 268.689 Q2047.04 268.689 2043.87 265.078 Q2040.72 261.444 2040.72 255.078 Q2040.72 248.689 2043.87 245.078 Q2047.04 241.467 2052.62 241.467 Z\" fill=\"#000000\" fill-rule=\"evenodd\" fill-opacity=\"1\" /><path clip-path=\"url(#clip820)\" d=\"M2086.6 246.073 Q2085.88 245.657 2085.03 245.471 Q2084.19 245.263 2083.17 245.263 Q2079.56 245.263 2077.62 247.624 Q2075.7 249.962 2075.7 254.36 L2075.7 268.018 L2071.42 268.018 L2071.42 242.092 L2075.7 242.092 L2075.7 246.12 Q2077.04 243.758 2079.19 242.624 Q2081.35 241.467 2084.42 241.467 Q2084.86 241.467 2085.4 241.536 Q2085.93 241.583 2086.58 241.698 L2086.6 246.073 Z\" fill=\"#000000\" fill-rule=\"evenodd\" fill-opacity=\"1\" /><path clip-path=\"url(#clip820)\" d=\"M2111.79 252.369 L2111.79 268.018 L2107.53 268.018 L2107.53 252.508 Q2107.53 248.828 2106.09 246.999 Q2104.66 245.17 2101.79 245.17 Q2098.34 245.17 2096.35 247.37 Q2094.35 249.569 2094.35 253.365 L2094.35 268.018 L2090.07 268.018 L2090.07 242.092 L2094.35 242.092 L2094.35 246.12 Q2095.88 243.782 2097.94 242.624 Q2100.03 241.467 2102.73 241.467 Q2107.2 241.467 2109.49 244.245 Q2111.79 246.999 2111.79 252.369 Z\" fill=\"#000000\" fill-rule=\"evenodd\" fill-opacity=\"1\" /><path clip-path=\"url(#clip820)\" d=\"M2142.46 253.99 L2142.46 256.073 L2122.87 256.073 Q2123.15 260.471 2125.51 262.786 Q2127.9 265.078 2132.13 265.078 Q2134.59 265.078 2136.88 264.476 Q2139.19 263.874 2141.46 262.67 L2141.46 266.698 Q2139.17 267.67 2136.76 268.18 Q2134.35 268.689 2131.88 268.689 Q2125.67 268.689 2122.04 265.078 Q2118.43 261.467 2118.43 255.309 Q2118.43 248.944 2121.85 245.217 Q2125.3 241.467 2131.14 241.467 Q2136.37 241.467 2139.4 244.846 Q2142.46 248.203 2142.46 253.99 M2138.2 252.74 Q2138.15 249.245 2136.23 247.161 Q2134.33 245.078 2131.18 245.078 Q2127.62 245.078 2125.47 247.092 Q2123.34 249.106 2123.01 252.763 L2138.2 252.74 Z\" fill=\"#000000\" fill-rule=\"evenodd\" fill-opacity=\"1\" /><path clip-path=\"url(#clip820)\" d=\"M2164.47 246.073 Q2163.75 245.657 2162.9 245.471 Q2162.06 245.263 2161.04 245.263 Q2157.43 245.263 2155.49 247.624 Q2153.57 249.962 2153.57 254.36 L2153.57 268.018 L2149.29 268.018 L2149.29 242.092 L2153.57 242.092 L2153.57 246.12 Q2154.91 243.758 2157.06 242.624 Q2159.22 241.467 2162.29 241.467 Q2162.73 241.467 2163.27 241.536 Q2163.8 241.583 2164.45 241.698 L2164.47 246.073 Z\" fill=\"#000000\" fill-rule=\"evenodd\" fill-opacity=\"1\" /></svg>\n"
      ]
     },
     "execution_count": 100,
     "metadata": {},
     "output_type": "execute_result"
    }
   ],
   "source": [
    "using Plots\n",
    "a=1-1E-3\n",
    "b=1+1E-3\n",
    "x = a:(b-a)/200:b\n",
    "plot(x,(x.-1).^7,label=\"Original\")\n",
    "plot!(x,x.^7-7*(x.^6)+21*(x.^5)-35*(x.^4)+35*(x.^3)-21*(x.^2)+7*x.-1,label=\"Expansion\")\n",
    "plot!(x,((((((((((((x.-7).*x).+21).*x).-35).*x).+35).*x).-21).*x).+7).*x).-1,label=\"Horner\")"
   ]
  },
  {
   "cell_type": "markdown",
   "id": "9da125d8",
   "metadata": {},
   "source": [
    "Se puede observar que la gráfica verde (Horner) se acerca mucho más a la azul (original) que la versión expandida (rojo)."
   ]
  },
  {
   "cell_type": "markdown",
   "id": "b8dd3442",
   "metadata": {},
   "source": [
    "En este caso en particular (el de un polinomio) la razón para preferir el esquema de Horner es que para ciertos valores, elevarlos a potencias medianamente altas puede perturbar mucho su valor para valores cercanos, y a la hora de restar, se modifica una vez más este valor. \n",
    "La ventaja que tiene el esquema de Horner sobre la forma original (sin expansión), es que cada vez que se resta sobre x en la forma de Horner, se hace con un valor diferente, de tal manera que si el valor de x es cercano a $1$, o a alguno de los otros valores que se restan, la diferencia de redondeo se puede compensar con el resto de operaciones.\n",
    "La ventaja que tiene el esquema de Horner sobre la forma expandida es que no se eleva x a potencias muy altas, lo cual puede modificar mucho el valor de redondeo para x pequeños, o para x grandes."
   ]
  },
  {
   "cell_type": "markdown",
   "id": "8d9fe7ec",
   "metadata": {
    "id": "I28slkSm9nBN"
   },
   "source": [
    "# Referencias\n",
    "\n",
    "\n",
    "\n",
    "\n",
    "*   Sullivan, Eric. Numerical Methods: An Inquiry-Based Approach With Python. 2020.\n",
    "*   Bulirsch, Roland, Josef Stoer, and J. Stoer. Introduction to numerical analysis. Vol. 3. Heidelberg: Springer, 2002.\n",
    "*  Stewart, Gilbert W. Afternotes on numerical analysis. Society for Industrial and Applied Mathematics, 1996.\n",
    "*  Quarteroni, Alfio, Fausto Saleri, and Paola Gervasio. Scientific computing with MATLAB and Octave. Vol. 3. Berlin: Springer, 2006.\n",
    "* Estándar de la IEEE\n",
    "* Low Precision Floating-Point Formats: The Wild West of Computer Arithmetic\n",
    "https://sinews.siam.org/Details-Page/low-precision-floating-point-formats-the-wild-west-of-computer-arithmetic\n",
    "* What Every Computer Scientist Should Know About Floating-Point Arithmetic, by David Goldberg, published in the March, 1991 issue of Computing Surveys. \n",
    "* Modern Computer Arithmetic: Richard P. Brent and Paul Zimmermann\n",
    "https://docs.oracle.com/cd/E19957-01/806-3568/ncgTOC.html\n",
    "* Goodfellow, Ian, Yoshua Bengio, and Aaron Courville. \"Deep learning book.\" MIT Press 521.7553 (2016): 800. Chapter Numerical Computations https://www.deeplearningbook.org/contents/numerical.html"
   ]
  }
 ],
 "metadata": {
  "kernelspec": {
   "display_name": "Julia 1.7.2",
   "language": "julia",
   "name": "julia-1.7"
  },
  "language_info": {
   "file_extension": ".jl",
   "mimetype": "application/julia",
   "name": "julia",
   "version": "1.7.2"
  }
 },
 "nbformat": 4,
 "nbformat_minor": 5
}
