{
 "cells": [
  {
   "cell_type": "markdown",
   "id": "c573cf17",
   "metadata": {
    "id": "IO6TXkoyL1OO"
   },
   "source": [
    "Elaborado por [Juan Galvis](https://scholar.google.com/citations?user=lbfc2joAAAAJ&hl=en)."
   ]
  },
  {
   "cell_type": "markdown",
   "id": "053eae28",
   "metadata": {
    "id": "nWxxD_YZ1Ni-"
   },
   "source": [
    "# Problemas"
   ]
  },
  {
   "cell_type": "markdown",
   "id": "8860149f",
   "metadata": {},
   "source": [
    "**PROBLEMA 1** ¿Cuánta memoria requiere guardar 100.000 números de punto flotante de precisión doble?¿Cuánta memoria requiere guardar una matriz de números de punto flotante dimensión 100.000 x 100.000?"
   ]
  },
  {
   "cell_type": "markdown",
   "id": "b31b608a",
   "metadata": {},
   "source": [
    "Debido a que cada número de punto flotante de precisión doble requiere 64 bits o 8 bytes de memoria, vemos que se necesitan"
   ]
  },
  {
   "cell_type": "code",
   "execution_count": 1,
   "id": "395cff64",
   "metadata": {},
   "outputs": [
    {
     "name": "stdout",
     "output_type": "stream",
     "text": [
      "6400000 bits o 800000 bytes de memoria para guardar 100.000 números en precisión doble.\n"
     ]
    }
   ],
   "source": [
    "a=100000*64\n",
    "b=100000*8\n",
    "println(\"$a bits o $b bytes de memoria para guardar 100.000 números en precisión doble.\")"
   ]
  },
  {
   "cell_type": "markdown",
   "id": "6cc120e3",
   "metadata": {},
   "source": [
    "Aplicando el mismo razonamiento, se ve que se necestian"
   ]
  },
  {
   "cell_type": "code",
   "execution_count": 3,
   "id": "fbc730da",
   "metadata": {},
   "outputs": [
    {
     "name": "stdout",
     "output_type": "stream",
     "text": [
      "640000000000 bits o 80000000000 bytes de memoria para guardar una matriz de números dee punto flotante de dimensión   100.000x100.000\n"
     ]
    }
   ],
   "source": [
    "c=(100000^2)*64\n",
    "d=(100000^2)*8\n",
    "println(\"$c bits o $d bytes de memoria para guardar una matriz de números dee punto flotante de dimensión   100.000x100.000\")"
   ]
  },
  {
   "cell_type": "markdown",
   "id": "5582752f",
   "metadata": {},
   "source": [
    "**PROBLEMA 2(Sullivan)** Con $x_0=1/10$, considere la sucesión,  \n",
    "$$\n",
    "x_{n+1}=\\left\\{\\begin{array}{ll}\n",
    "2x_n & \\mbox{ si } x_n\\in \\left[0,\\frac{1}{2}\\right] \\\\\n",
    "2x_n-1 &  \\mbox{ si } x_n\\in \\left(\\frac{1}{2},1\\right].\n",
    "\\end{array}\\right.\n",
    "$$\n",
    "para $n=1,2,\\dots$. Calcule $x_1,x_2,x_3,\\dots,x_{50}$ de forma análitica y despues usando un código en Julia. Compare y explique.\n",
    "\n",
    "Repetir pero ahora iniciando con $x_0=1/8$. Compare y explique. \n"
   ]
  },
  {
   "cell_type": "markdown",
   "id": "afa04e45",
   "metadata": {},
   "source": [
    "De forma analítica se puede verificar que los primeros 6 números de la sucesión, después del valor inicial, son los siguientes:\n",
    "$$x_1=2*(1/10)=1/5$$ $$x_2=2*(1/5)=2/5$$ $$x_3=2*(2/5)=4/5$$ $$x_4=2*(4/5)-1=3/5$$ $$x_5=2*(3/5)-1=1/5$$\n",
    "\n",
    "De manera que desde $x_5$ necesariamente se deben repetir los mismos números de la sucesión, inciando por x_1. Así, es cierto que \n",
    "$$x_a = 1/5 \\mbox{,   siempre que $a \\equiv 1(\\mbox{mod }4)$}$$\n",
    "$$x_b = 2/5 \\mbox{,   siempre que $b \\equiv 2(\\mbox{mod }4)$}$$\n",
    "$$x_c = 4/5 \\mbox{,   siempre que $c \\equiv 3(\\mbox{mod }4)$}$$\n",
    "$$x_d = 3/5 \\mbox{,   siempre que $d \\equiv 4(\\mbox{mod }4)$}$$\n",
    "\n",
    "Ahora lo calculamos numéricamente:"
   ]
  },
  {
   "cell_type": "code",
   "execution_count": 2,
   "id": "0f8d419c",
   "metadata": {},
   "outputs": [
    {
     "name": "stdout",
     "output_type": "stream",
     "text": [
      "0.2\n",
      "0.4\n",
      "0.8\n",
      "0.6000000000000001\n",
      "0.20000000000000018\n",
      "0.40000000000000036\n",
      "0.8000000000000007\n",
      "0.6000000000000014\n",
      "0.20000000000000284\n",
      "0.4000000000000057\n",
      "0.8000000000000114\n",
      "0.6000000000000227\n",
      "0.20000000000004547\n",
      "0.40000000000009095\n",
      "0.8000000000001819\n",
      "0.6000000000003638\n",
      "0.2000000000007276\n",
      "0.4000000000014552\n",
      "0.8000000000029104\n",
      "0.6000000000058208\n",
      "0.20000000001164153\n",
      "0.40000000002328306\n",
      "0.8000000000465661\n",
      "0.6000000000931323\n",
      "0.20000000018626451\n",
      "0.40000000037252903\n",
      "0.8000000007450581\n",
      "0.6000000014901161\n",
      "0.20000000298023224\n",
      "0.4000000059604645\n",
      "0.800000011920929\n",
      "0.6000000238418579\n",
      "0.20000004768371582\n",
      "0.40000009536743164\n",
      "0.8000001907348633\n",
      "0.6000003814697266\n",
      "0.20000076293945312\n",
      "0.40000152587890625\n",
      "0.8000030517578125\n",
      "0.600006103515625\n",
      "0.20001220703125\n",
      "0.4000244140625\n",
      "0.800048828125\n",
      "0.60009765625\n",
      "0.2001953125\n",
      "0.400390625\n",
      "0.80078125\n",
      "0.6015625\n",
      "0.203125\n",
      "0.40625\n"
     ]
    }
   ],
   "source": [
    "x=1/10\n",
    "i=1\n",
    "xn=0\n",
    "while i<=50\n",
    "if (x>=0)&&(x<=1/2)\n",
    "    xn=2*x\n",
    "    elseif (x>1/2)&&(x<=1)\n",
    "        xn=2*x - 1\n",
    "    end\n",
    "println(xn)\n",
    "i+=1\n",
    "x=xn\n",
    "end"
   ]
  },
  {
   "cell_type": "markdown",
   "id": "ce653890",
   "metadata": {},
   "source": [
    "Calculando numéricamente, se puede observar que en el valor de $x_4$ hay una ligera perturbación en el valor de la variable. La razón de lo anterior es que siendo el valor anterior a este $x_3=0.8$, en base binaria, se tiene que \n",
    "$$x_3=0.8=(0.110011001100...)_2$$\n",
    "Teniendo en cuenta que el número máximo de bits para un número en precisión doble es de 52, el último dígito de la mantisa (sin redondeo) sería igual a 1, y el siguiente dígito que no queda en la mantisa, también sería igual a 1. Por lo tanto, para trucar el número, la máquina hace un redondeo y suma $2x10^{-52}$ al número original, lo que nos da el resultado con la ligera perturbación para $x_3$.\n",
    "De ahí en adelante, por ese trucamiento, todos los números son distintos a aquellos que calculamos analíticamente, y debido a la gran cantidad de restas que se tienen que hacer hasta llegar a $x_50$, el resultado final ya llega con una variación mucho más grande."
   ]
  },
  {
   "cell_type": "markdown",
   "id": "6320fbe4",
   "metadata": {},
   "source": [
    "Ahora repetimos para $x_0 = 1/8$\n",
    "Calculamos analíticamente y obtenemos que:\n",
    "$x_1=1/4$, $x_2=1/2$, $x_3=1=x_4=x_5=...=x_{50}$.\n",
    "\n",
    "Y ahora numéricamente:"
   ]
  },
  {
   "cell_type": "code",
   "execution_count": 3,
   "id": "dcde1788",
   "metadata": {},
   "outputs": [
    {
     "name": "stdout",
     "output_type": "stream",
     "text": [
      "0.25\n",
      "0.5\n",
      "1.0\n",
      "1.0\n",
      "1.0\n",
      "1.0\n",
      "1.0\n",
      "1.0\n",
      "1.0\n",
      "1.0\n",
      "1.0\n",
      "1.0\n",
      "1.0\n",
      "1.0\n",
      "1.0\n",
      "1.0\n",
      "1.0\n",
      "1.0\n",
      "1.0\n",
      "1.0\n",
      "1.0\n",
      "1.0\n",
      "1.0\n",
      "1.0\n",
      "1.0\n",
      "1.0\n",
      "1.0\n",
      "1.0\n",
      "1.0\n",
      "1.0\n",
      "1.0\n",
      "1.0\n",
      "1.0\n",
      "1.0\n",
      "1.0\n",
      "1.0\n",
      "1.0\n",
      "1.0\n",
      "1.0\n",
      "1.0\n",
      "1.0\n",
      "1.0\n",
      "1.0\n",
      "1.0\n",
      "1.0\n",
      "1.0\n",
      "1.0\n",
      "1.0\n",
      "1.0\n",
      "1.0\n"
     ]
    }
   ],
   "source": [
    "x=1/8\n",
    "i=1\n",
    "xn=0\n",
    "while i<=50\n",
    "if (x>=0)&&(x<=1/2)\n",
    "    xn=2*x\n",
    "    elseif (x>1/2)&&(x<=1)\n",
    "        xn=2*x - 1\n",
    "    end\n",
    "println(xn)\n",
    "i+=1\n",
    "x=xn\n",
    "end"
   ]
  },
  {
   "cell_type": "markdown",
   "id": "c6f98962",
   "metadata": {},
   "source": [
    "En este caso el resultado es exacto, debido a que no hay ninguna representación infinta en base 2, y no es necesario hacer ningún truncamiento. Además, las representaciones sob bastante cortas (no más de 3 decimales) con lo que no se pierde ninguna información.\n",
    "\n",
    "En efecto\n",
    "$$x_1=0.25=(0.01)_2$$ $$x_2=0.5=(0.1)_2$$ $$x_3=1.0=(1.0)_2$$"
   ]
  },
  {
   "cell_type": "markdown",
   "id": "993d3a07",
   "metadata": {},
   "source": [
    "**PROBLEMA 3 (Goodfellow et. al.)** Escriba rutina que implemente la función \n",
    "$\n",
    "SF_{i}(x)=\\frac{\\exp\\left(x_{i}\\right)}{\\sum_{j=1}^{n}\\exp\\left(x_{j}\\right)}.$\n",
    "La rutina debe estar estabilizada para evitar desbordamiento por exceso. "
   ]
  },
  {
   "cell_type": "code",
   "execution_count": null,
   "id": "8d430580",
   "metadata": {},
   "outputs": [],
   "source": []
  },
  {
   "cell_type": "markdown",
   "id": "faf310aa",
   "metadata": {
    "id": "GHEQSZR51SrE"
   },
   "source": [
    "\n",
    "**PROBLEMA 4(Stoer)** Ensaye calcular las funciones $$f(x)=\\sqrt{x^2+1}-1 \\quad g(x)=\\frac{x^2}{\\sqrt{x^2+1}+1}$$\n",
    "Use valores pequeños como $x=8^{-1},8^{-2},8^{-3},\\dots$. Explique los resultados. Note que, análiticamete,  $f(x)=g(x)$.\n"
   ]
  },
  {
   "cell_type": "code",
   "execution_count": 9,
   "id": "5ed0e01b",
   "metadata": {},
   "outputs": [
    {
     "name": "stdout",
     "output_type": "stream",
     "text": [
      "0.0077822185373186414 y 0.0077822185373187065\n",
      "0.00012206286282867573 y 0.00012206286282875901\n",
      "1.9073468138230965e-6 y 1.907346813826566e-6\n",
      "2.9802321943606103e-8 y 2.9802321943606116e-8\n",
      "4.656612873077393e-10 y 4.6566128719931904e-10\n",
      "7.275957614183426e-12 y 7.275957614156956e-12\n",
      "1.1368683772161603e-13 y 1.1368683772160957e-13\n",
      "1.7763568394002505e-15 y 1.7763568394002489e-15\n",
      "0.0 y 2.7755575615628914e-17\n",
      "0.0 y 4.336808689942018e-19\n",
      "0.0 y 6.776263578034403e-21\n",
      "0.0 y 1.0587911840678754e-22\n",
      "0.0 y 1.6543612251060553e-24\n",
      "0.0 y 2.5849394142282115e-26\n",
      "0.0 y 4.0389678347315804e-28\n",
      "0.0 y 6.310887241768095e-30\n",
      "0.0 y 9.860761315262648e-32\n",
      "0.0 y 1.5407439555097887e-33\n",
      "0.0 y 2.407412430484045e-35\n",
      "0.0 y 3.76158192263132e-37\n",
      "0.0 y 5.877471754111438e-39\n",
      "Inf y NaN\n",
      "Inf y NaN\n",
      "Inf y NaN\n",
      "Inf y NaN\n",
      "Inf y NaN\n",
      "Inf y NaN\n",
      "Inf y NaN\n",
      "Inf y NaN\n",
      "Inf y NaN\n",
      "Inf y NaN\n",
      "Inf y NaN\n",
      "Inf y NaN\n"
     ]
    }
   ],
   "source": [
    "function f(x)\n",
    "    sqrt(x^2 +1)-1\n",
    "end\n",
    "\n",
    "function g(x)\n",
    "    (x^2)/(sqrt(x^2 +1)+1)\n",
    "end\n",
    "\n",
    "i=1\n",
    "a=0\n",
    "while i<=33\n",
    "    a=f(1/(8^i))\n",
    "    b=g(1/(8^i))\n",
    "    println(a ,\" y \", b) \n",
    "    i+=1\n",
    "end"
   ]
  },
  {
   "cell_type": "markdown",
   "id": "13a1b545",
   "metadata": {},
   "source": [
    "A pesar de ser analíticamente la misma función, $f(x)$ tiene una resta, la cual es problemática cada vez que el valor en raìz cuadrada es cercano a 1. Esto ocurre para valores de $x$ muy cercanos a 0, como los que tomamos al evaluar la función. Cada vez que $x$ se acerca más a 0, el valor en raíz cuadrada se acerca más a 1, excepto por unos pocos decimales. Esta parte decimal es cada vesz más pequeña, con lo que al restar con 1, se comienza a perder información al trucar el valor final, hasta que llega el punto en que no se puede representar el valor por defecto, y no obtenemos ninguna respuesta.\n",
    "\n",
    "En $g(x)$, en cambio, no hay ninguna resta, por lo que podemos seguir operando hasta valores muy pequeños, cercanos a $10^{-38}$."
   ]
  },
  {
   "cell_type": "markdown",
   "id": "47a2e8fb",
   "metadata": {
    "id": "poKJfAr62xKi"
   },
   "source": [
    "**PROBLEMA 5(Quarteroni,Saleri,Gervasio)** El lector puede implementar el calculo de la siguiente recurrencia que approxima $\\pi$ (formula de Franc,ois Viète) y estudiar su estabilidad/instabilidad numérica, \n",
    "$$z_1=2, \\,\\,z_{n+1}=2^{n-1/2}\\sqrt{1-\\sqrt{1-4^{1-n}z_n^2}},\\,\\,n=2,3,\\dots. $$\n",
    "\n",
    "\n",
    "\n",
    "**PROBLEMA 6(Stewart)** Implemente  la recurrencia $x_1=\\frac{1}{3}, x_2=\\frac{1}{12}$,  $x_{k+1}=2.25x_k-0.5x_{k-1}$. Explique los resultados. \n",
    "\n"
   ]
  },
  {
   "cell_type": "markdown",
   "id": "ec421256",
   "metadata": {
    "id": "nTJp3M3KDtgg"
   },
   "source": [
    "**PROBLEMA 7** En clase se describieron los tipos de datos Float16, Float32, Float64 y BigFloat\n",
    "De forma parecida describa (con ejemplos y usando utilidades como bitstring, typemax, etc)  los siguientes tipos: Int32, Int65, BigInt. \n"
   ]
  },
  {
   "cell_type": "markdown",
   "id": "7dc0ba27",
   "metadata": {},
   "source": [
    "**PROBLEMA 8 (Optional** Investigar cómo usar las utilidades @time @btime y @benchmark. Mostrar ejemplos de su uso."
   ]
  },
  {
   "cell_type": "markdown",
   "id": "77b05845",
   "metadata": {},
   "source": [
    "**PROBLEMA 9** Use Plots para graficar $P(x)=(x-1)^7$. Agregar a la figura el cálculo de $P(x)$ usando la expansión en potencias y también la forma de Horner \n",
    "$$  P(x)= ((((((x-7)x+21)x-35)x+35)x-21)x+7)x-1. $$ \n",
    "Verifique esta última fórmula. Para la gráfica use un intervalo pequeño de la forma $[1-\\alpha,1+\\alpha]$ con $\\alpha$ del orden de $10^{-2}$ y $10^{-3}$. Implemente y comente los resultados. Esta forma de calcular polinomios es conocida como el esquema de Horner y es la forma recomendada para evaluar polinomios. Explique la motivación  de esta recomendación. \n",
    "\n"
   ]
  },
  {
   "cell_type": "markdown",
   "id": "8d9fe7ec",
   "metadata": {
    "id": "I28slkSm9nBN"
   },
   "source": [
    "# Referencias\n",
    "\n",
    "\n",
    "\n",
    "\n",
    "*   Sullivan, Eric. Numerical Methods: An Inquiry-Based Approach With Python. 2020.\n",
    "*   Bulirsch, Roland, Josef Stoer, and J. Stoer. Introduction to numerical analysis. Vol. 3. Heidelberg: Springer, 2002.\n",
    "*  Stewart, Gilbert W. Afternotes on numerical analysis. Society for Industrial and Applied Mathematics, 1996.\n",
    "*  Quarteroni, Alfio, Fausto Saleri, and Paola Gervasio. Scientific computing with MATLAB and Octave. Vol. 3. Berlin: Springer, 2006.\n",
    "* Estándar de la IEEE\n",
    "* Low Precision Floating-Point Formats: The Wild West of Computer Arithmetic\n",
    "https://sinews.siam.org/Details-Page/low-precision-floating-point-formats-the-wild-west-of-computer-arithmetic\n",
    "* What Every Computer Scientist Should Know About Floating-Point Arithmetic, by David Goldberg, published in the March, 1991 issue of Computing Surveys. \n",
    "* Modern Computer Arithmetic: Richard P. Brent and Paul Zimmermann\n",
    "https://docs.oracle.com/cd/E19957-01/806-3568/ncgTOC.html\n",
    "* Goodfellow, Ian, Yoshua Bengio, and Aaron Courville. \"Deep learning book.\" MIT Press 521.7553 (2016): 800. Chapter Numerical Computations https://www.deeplearningbook.org/contents/numerical.html"
   ]
  },
  {
   "cell_type": "code",
   "execution_count": null,
   "id": "c77edd07",
   "metadata": {},
   "outputs": [],
   "source": []
  }
 ],
 "metadata": {
  "kernelspec": {
   "display_name": "Julia 1.7.2",
   "language": "julia",
   "name": "julia-1.7"
  },
  "language_info": {
   "file_extension": ".jl",
   "mimetype": "application/julia",
   "name": "julia",
   "version": "1.7.2"
  }
 },
 "nbformat": 4,
 "nbformat_minor": 5
}
